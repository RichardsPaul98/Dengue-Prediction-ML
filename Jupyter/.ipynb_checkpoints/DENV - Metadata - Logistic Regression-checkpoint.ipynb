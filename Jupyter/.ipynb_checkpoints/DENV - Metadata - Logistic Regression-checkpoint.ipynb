{
 "cells": [
  {
   "cell_type": "code",
   "execution_count": 1,
   "metadata": {},
   "outputs": [],
   "source": [
    "# Importing the necessary libraries\n",
    "import pandas as pd\n",
    "import numpy as np\n",
    "import random\n",
    "import re\n",
    "import matplotlib.pyplot as plt"
   ]
  },
  {
   "cell_type": "code",
   "execution_count": 2,
   "metadata": {},
   "outputs": [
    {
     "name": "stdout",
     "output_type": "stream",
     "text": [
      "The shape of DF data is: (584, 1)\n",
      "The shape of DSS data is: (42, 1)\n",
      "The shape of DHF data is: (352, 1)\n"
     ]
    }
   ],
   "source": [
    "# Reading the input files\n",
    "df = pd.read_csv(\"../../Data/Sequence CSVs/DENV1_DF.csv\", header=None)\n",
    "dss = pd.read_csv(\"../../Data/Sequence CSVs/DENV1_DSS.csv\", header=None)\n",
    "dhf = pd.read_csv(\"../../Data/Sequence CSVs/DENV1_DHF.csv\", header=None)\n",
    "\n",
    "# Printing the shape of the data\n",
    "print(\"The shape of DF data is:\", str(df.shape))\n",
    "print(\"The shape of DSS data is:\", str(dss.shape))\n",
    "print(\"The shape of DHF data is:\", str(dhf.shape))"
   ]
  },
  {
   "cell_type": "code",
   "execution_count": 3,
   "metadata": {},
   "outputs": [
    {
     "name": "stdout",
     "output_type": "stream",
     "text": [
      "The combined shape of the given data is: (978, 2)\n"
     ]
    }
   ],
   "source": [
    "# Making the disease label column\n",
    "df_disease = np.repeat(0, 584)\n",
    "dss_disease = np.repeat(1, 42)\n",
    "dhf_disease = np.repeat(2, 352)\n",
    "\n",
    "# Attaching the \"Disease\" labeled column to the input\n",
    "df[\"Disease\"] = df_disease\n",
    "dss[\"Disease\"] = dss_disease\n",
    "dhf[\"Disease\"] = dhf_disease\n",
    "\n",
    "# Renaming the columns\n",
    "df = df.rename(index=str, columns={0: \"Sequence\", \"Disease\": \"Disease\"})\n",
    "dss = dss.rename(index=str, columns={0: \"Sequence\", \"Disease\": \"Disease\"})\n",
    "dhf = dhf.rename(index=str, columns={0: \"Sequence\", \"Disease\": \"Disease\"})\n",
    "\n",
    "# Concatinating the input data into one DataFrame\n",
    "result = pd.concat([df, dss, dhf], axis = 0, sort = False)\n",
    "\n",
    "print(\"The combined shape of the given data is:\", str(result.shape))"
   ]
  },
  {
   "cell_type": "code",
   "execution_count": 4,
   "metadata": {},
   "outputs": [
    {
     "name": "stdout",
     "output_type": "stream",
     "text": [
      "                                            Sequence  Disease\n",
      "0  atgaacaaccaacggaaaaagacgggtcgaccgtctttcaatatgc...        0\n",
      "1  atgaacaaccaacggaaaaagacgggtcgaccgtctttcaatatgc...        0\n",
      "2  atgaacaaccaacggaaaaagacgggtcgaccgtctttcaatatgc...        0\n",
      "3  atgaacaaccaacggaaaaagacgggtcgaccgtctttcaatatgc...        0\n",
      "4  atgaacaaccaacggaaaaagacgggtcgaccgtctttcaatatgc...        0\n"
     ]
    }
   ],
   "source": [
    "# Taking a peek at the combined data\n",
    "print(result.head())"
   ]
  },
  {
   "cell_type": "code",
   "execution_count": 5,
   "metadata": {},
   "outputs": [],
   "source": [
    "# function to convert sequence strings into k-mer words, default size = 6 (hexamer words)\n",
    "def getKmers(sequence, size=6):\n",
    "    return [sequence[x:x+size].lower() for x in range(len(sequence) - size + 1)]\n",
    "\n",
    "result['words'] = result.apply(lambda x: getKmers(x['Sequence']), axis=1)\n",
    "result = result.drop('Sequence', axis=1)\n",
    "\n",
    "result_texts = list(result['words'])\n",
    "for item in range(len(result_texts)):\n",
    "    result_texts[item] = ' '.join(result_texts[item])"
   ]
  },
  {
   "cell_type": "code",
   "execution_count": 6,
   "metadata": {},
   "outputs": [
    {
     "name": "stdout",
     "output_type": "stream",
     "text": [
      "   Disease                                              words\n",
      "0        0  [atgaac, tgaaca, gaacaa, aacaac, acaacc, caacc...\n",
      "1        0  [atgaac, tgaaca, gaacaa, aacaac, acaacc, caacc...\n",
      "2        0  [atgaac, tgaaca, gaacaa, aacaac, acaacc, caacc...\n",
      "3        0  [atgaac, tgaaca, gaacaa, aacaac, acaacc, caacc...\n",
      "4        0  [atgaac, tgaaca, gaacaa, aacaac, acaacc, caacc...\n"
     ]
    }
   ],
   "source": [
    "# Taking a peek at the combined data\n",
    "print(result.head())"
   ]
  },
  {
   "cell_type": "code",
   "execution_count": 7,
   "metadata": {},
   "outputs": [
    {
     "name": "stdout",
     "output_type": "stream",
     "text": [
      "The shape of y is: (978,)\n"
     ]
    },
    {
     "data": {
      "text/plain": [
       "<matplotlib.axes._subplots.AxesSubplot at 0x7fcb6803ebe0>"
      ]
     },
     "execution_count": 7,
     "metadata": {},
     "output_type": "execute_result"
    },
    {
     "data": {
      "image/png": "[encoded data removed]",
      "text/plain": [
       "<Figure size 432x288 with 1 Axes>"
      ]
     },
     "metadata": {
      "needs_background": "light"
     },
     "output_type": "display_data"
    }
   ],
   "source": [
    "# Creating y and printing the shape of it\n",
    "y = result.iloc[:, 0].values\n",
    "print(\"The shape of y is:\", y.shape)\n",
    "\n",
    "# Checking the balance of the disease severity\n",
    "result[\"Disease\"].value_counts().sort_index().plot.bar()"
   ]
  },
  {
   "cell_type": "code",
   "execution_count": 8,
   "metadata": {},
   "outputs": [
    {
     "name": "stdout",
     "output_type": "stream",
     "text": [
      "The shape of x matrix is: (978, 52525)\n"
     ]
    }
   ],
   "source": [
    "# Creating the Bag of Words model using CountVectorizer()\n",
    "# This is equivalent to k-mer counting\n",
    "# The n-gram size of 4 was previously determined by testing\n",
    "from sklearn.feature_extraction.text import CountVectorizer\n",
    "cv = CountVectorizer(ngram_range=(4,4))\n",
    "x = cv.fit_transform(result_texts)\n",
    "\n",
    "# Print the shape of x\n",
    "print(\"The shape of x matrix is:\", x.shape)"
   ]
  },
  {
   "cell_type": "code",
   "execution_count": 9,
   "metadata": {},
   "outputs": [],
   "source": [
    "# Splitting the human dataset into the training set and test set\n",
    "from sklearn.model_selection import train_test_split\n",
    "X_train, X_test, y_train, y_test = train_test_split(x, y, test_size = 0.20, random_state = 42)"
   ]
  },
  {
   "cell_type": "code",
   "execution_count": 10,
   "metadata": {},
   "outputs": [
    {
     "name": "stdout",
     "output_type": "stream",
     "text": [
      "The shape of x_train is: (782, 52525)\n",
      "The shape of y_train is: (782,)\n",
      "The shape of x_test is: (196, 52525)\n",
      "The shape of y_test is: (196,)\n"
     ]
    }
   ],
   "source": [
    "# Printing the shapes of the train and test matrices\n",
    "print(\"The shape of x_train is:\", X_train.shape)\n",
    "print(\"The shape of y_train is:\", y_train.shape)\n",
    "print(\"The shape of x_test is:\", X_test.shape)\n",
    "print(\"The shape of y_test is:\", y_test.shape)"
   ]
  },
  {
   "cell_type": "markdown",
   "metadata": {},
   "source": [
    "## Logistic Regression"
   ]
  },
  {
   "cell_type": "code",
   "execution_count": 11,
   "metadata": {},
   "outputs": [
    {
     "name": "stderr",
     "output_type": "stream",
     "text": [
      "/home/vaibhav/anaconda3/lib/python3.7/site-packages/sklearn/linear_model/logistic.py:432: FutureWarning: Default solver will be changed to 'lbfgs' in 0.22. Specify a solver to silence this warning.\n",
      "  FutureWarning)\n",
      "/home/vaibhav/anaconda3/lib/python3.7/site-packages/sklearn/linear_model/logistic.py:469: FutureWarning: Default multi_class will be changed to 'auto' in 0.22. Specify the multi_class option to silence this warning.\n",
      "  \"this warning.\", FutureWarning)\n"
     ]
    },
    {
     "data": {
      "text/plain": [
       "LogisticRegression(C=1.0, class_weight=None, dual=False, fit_intercept=True,\n",
       "                   intercept_scaling=1, l1_ratio=None, max_iter=100,\n",
       "                   multi_class='warn', n_jobs=None, penalty='l2',\n",
       "                   random_state=42, solver='warn', tol=0.0001, verbose=0,\n",
       "                   warm_start=False)"
      ]
     },
     "execution_count": 11,
     "metadata": {},
     "output_type": "execute_result"
    }
   ],
   "source": [
    "# Fitting Logistic Regression to the Training set\n",
    "from sklearn.linear_model import LogisticRegression\n",
    "classifier = LogisticRegression(random_state = 42)\n",
    "classifier.fit(X_train, y_train)"
   ]
  },
  {
   "cell_type": "code",
   "execution_count": 12,
   "metadata": {},
   "outputs": [],
   "source": [
    "# Predicting the Test set results\n",
    "y_pred = classifier.predict(X_test)"
   ]
  },
  {
   "cell_type": "code",
   "execution_count": 13,
   "metadata": {},
   "outputs": [
    {
     "name": "stdout",
     "output_type": "stream",
     "text": [
      "Confusion matrix\n",
      "Predicted   0  1   2\n",
      "Actual              \n",
      "0          68  4  40\n",
      "1           3  0   5\n",
      "2          34  1  41\n",
      "\n",
      "-------------*-------------\n",
      "\n",
      "accuracy = 0.5561224489795918 \n",
      "precision = 0.5549280177187154 \n",
      "recall = 0.5561224489795918 \n",
      "f1 = 0.5544014499467649\n"
     ]
    }
   ],
   "source": [
    "from sklearn.metrics import accuracy_score, f1_score, precision_score, recall_score\n",
    "print(\"Confusion matrix\")\n",
    "print(pd.crosstab(pd.Series(y_test, name='Actual'), pd.Series(y_pred, name='Predicted')))\n",
    "\n",
    "def get_metrics(y_test, y_predicted):\n",
    "    accuracy = accuracy_score(y_test, y_predicted)\n",
    "    precision = precision_score(y_test, y_predicted, average='weighted')\n",
    "    recall = recall_score(y_test, y_predicted, average='weighted')\n",
    "    f1 = f1_score(y_test, y_predicted, average='weighted')\n",
    "    return accuracy, precision, recall, f1\n",
    "\n",
    "print(\"\\n-------------*-------------\")\n",
    "\n",
    "accuracy, precision, recall, f1 = get_metrics(y_test, y_pred)\n",
    "print(\"\\naccuracy = {} \\nprecision = {} \\nrecall = {} \\nf1 = {}\".format(accuracy, precision, recall, f1))"
   ]
  }
 ],
 "metadata": {
  "kernelspec": {
   "display_name": "Python 3",
   "language": "python",
   "name": "python3"
  },
  "language_info": {
   "codemirror_mode": {
    "name": "ipython",
    "version": 3
   },
   "file_extension": ".py",
   "mimetype": "text/x-python",
   "name": "python",
   "nbconvert_exporter": "python",
   "pygments_lexer": "ipython3",
   "version": "3.7.3"
  }
 },
 "nbformat": 4,
 "nbformat_minor": 2
}
