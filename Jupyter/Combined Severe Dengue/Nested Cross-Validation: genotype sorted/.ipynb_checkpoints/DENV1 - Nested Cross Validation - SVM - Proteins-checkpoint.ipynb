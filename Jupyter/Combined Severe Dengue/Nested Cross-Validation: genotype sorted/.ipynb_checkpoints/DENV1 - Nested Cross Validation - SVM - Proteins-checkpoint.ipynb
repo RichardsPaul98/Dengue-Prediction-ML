{
 "cells": [
  {
   "cell_type": "code",
   "execution_count": 1,
   "metadata": {},
   "outputs": [],
   "source": [
    "# Importing the necessary libraries\n",
    "import pandas as pd\n",
    "import numpy as np\n",
    "import random\n",
    "import re\n",
    "import matplotlib.pyplot as plt"
   ]
  },
  {
   "cell_type": "code",
   "execution_count": 2,
   "metadata": {},
   "outputs": [
    {
     "name": "stdout",
     "output_type": "stream",
     "text": [
      "The number of DF samples are 896\n",
      "The number of DHF samples are 718\n",
      "The number of DSS samples are 42\n"
     ]
    }
   ],
   "source": [
    "df = []\n",
    "dhf = []\n",
    "dss = []\n",
    "\n",
    "f = open(\"../../../../Data/Proteins/DENV1/DF.txt\", \"r\")\n",
    "for x in f:\n",
    "    if x[0] != \">\" and x[0] != \"\\n\":\n",
    "        df.append(x)\n",
    "\n",
    "f = open(\"../../../../Data/Proteins/DENV1/DHF3.txt\", \"r\")\n",
    "for x in f:\n",
    "    if x[0] != \">\" and x[0] != \"\\n\":\n",
    "        dhf.append(x)\n",
    "\n",
    "f = open(\"../../../../Data/Proteins/DENV1/DSS.txt\", \"r\")\n",
    "for x in f:\n",
    "    if x[0] != \">\" and x[0] != \"\\n\":\n",
    "        dss.append(x)\n",
    "     \n",
    "print(\"The number of DF samples are\", len(df))\n",
    "print(\"The number of DHF samples are\", len(dhf))\n",
    "print(\"The number of DSS samples are\", len(dss))"
   ]
  },
  {
   "cell_type": "code",
   "execution_count": 3,
   "metadata": {},
   "outputs": [],
   "source": [
    "df = pd.DataFrame(df)\n",
    "dhf = pd.DataFrame(dhf)\n",
    "dss = pd.DataFrame(dss)\n",
    "\n",
    "# Making the disease label column\n",
    "df_disease = np.repeat(0, 896)\n",
    "dss_disease = np.repeat(1, 42)\n",
    "dhf_disease = np.repeat(1, 718)\n",
    "\n",
    "# Attaching the \"Disease\" label column to the input\n",
    "df[\"Disease\"] = df_disease\n",
    "dss[\"Disease\"] = dss_disease\n",
    "dhf[\"Disease\"] = dhf_disease\n",
    "\n",
    "# Renaming the columns\n",
    "df = df.rename(index=str, columns={0: \"Sequence\", \"Disease\": \"Disease\"})\n",
    "dss = dss.rename(index=str, columns={0: \"Sequence\", \"Disease\": \"Disease\"})\n",
    "dhf = dhf.rename(index=str, columns={0: \"Sequence\", \"Disease\": \"Disease\"})"
   ]
  },
  {
   "cell_type": "code",
   "execution_count": 4,
   "metadata": {},
   "outputs": [
    {
     "name": "stdout",
     "output_type": "stream",
     "text": [
      "The combined shape of the given data is: (1656, 2)\n",
      "                                              Sequence  Disease\n",
      "39   MNNQRKKTARPSFNMLKRARNRVSTVSQLAKRFSKGLLSGQGPMKL...        0\n",
      "435  MNNQRKKTARPSFNMLKRARNRVSTVSQLAKRFSKGLLSGQGPMKL...        1\n",
      "348  MNNQRKKTARPSFNMLKRARNRVSTVSQLAKRFSKGLLSGQGPMKL...        0\n",
      "17   MNNQRKKTARPSFNMLKRARNRVSTVSQLAKRFSKGLLSGQGPMKL...        1\n",
      "696  TANISLTAIANQAAILMGLDKGWPISKMDIGVPLLALGCYSQVNPL...        0\n"
     ]
    }
   ],
   "source": [
    "# Concatinating the input data into one DataFrame\n",
    "result = pd.concat([df, dss, dhf], axis = 0, sort = False)\n",
    "print(\"The combined shape of the given data is:\", str(result.shape))\n",
    "\n",
    "# Taking a peek at the combined data\n",
    "result = result.sample(frac = 1)\n",
    "print(result.head())"
   ]
  },
  {
   "cell_type": "code",
   "execution_count": 5,
   "metadata": {},
   "outputs": [],
   "source": [
    "# Function to convert sequence strings into k-mer words, default size = 6 (hexamer words)\n",
    "def getKmers(sequence, size = 6):\n",
    "    return [sequence[x:x+size].lower() for x in range(len(sequence) - size + 1)]\n",
    "\n",
    "result['words'] = result.apply(lambda x: getKmers(x['Sequence']), axis=1)\n",
    "result = result.drop('Sequence', axis=1)\n",
    "\n",
    "result_texts = list(result['words'])\n",
    "for item in range(len(result_texts)):\n",
    "    result_texts[item] = ' '.join(result_texts[item])"
   ]
  },
  {
   "cell_type": "code",
   "execution_count": 6,
   "metadata": {},
   "outputs": [
    {
     "name": "stdout",
     "output_type": "stream",
     "text": [
      "The shape of y is: (1656,)\n"
     ]
    },
    {
     "data": {
      "text/plain": [
       "<matplotlib.axes._subplots.AxesSubplot at 0x7f525cb1c390>"
      ]
     },
     "execution_count": 6,
     "metadata": {},
     "output_type": "execute_result"
    },
    {
     "data": {
      "image/png": "[encoded data removed]",
      "text/plain": [
       "<Figure size 432x288 with 1 Axes>"
      ]
     },
     "metadata": {
      "needs_background": "light"
     },
     "output_type": "display_data"
    }
   ],
   "source": [
    "# Creating y and printing the shape of it\n",
    "y = result.iloc[:, 0].values\n",
    "print(\"The shape of y is:\", y.shape)\n",
    "\n",
    "# Checking the balance of the disease severity\n",
    "result[\"Disease\"].value_counts().sort_index().plot.bar()"
   ]
  },
  {
   "cell_type": "code",
   "execution_count": 7,
   "metadata": {},
   "outputs": [
    {
     "name": "stdout",
     "output_type": "stream",
     "text": [
      "The shape of x matrix is: (1656, 15748)\n"
     ]
    }
   ],
   "source": [
    "# Creating the Bag of Words model using CountVectorizer()\n",
    "# This is equivalent to k-mer counting\n",
    "# The n-gram size of 4 was previously determined by testing\n",
    "from sklearn.feature_extraction.text import CountVectorizer\n",
    "cv = CountVectorizer(ngram_range=(4,4))\n",
    "x = cv.fit_transform(result_texts)\n",
    "\n",
    "# Print the shape of x\n",
    "print(\"The shape of x matrix is:\", x.shape)"
   ]
  },
  {
   "cell_type": "markdown",
   "metadata": {},
   "source": [
    "## Nested Cross-Validation"
   ]
  },
  {
   "cell_type": "code",
   "execution_count": 8,
   "metadata": {},
   "outputs": [],
   "source": [
    "from sklearn.model_selection import cross_val_score\n",
    "from sklearn.svm import SVC\n",
    "# search for an optimal value of C for Logistic Regression\n",
    "C_list = [0.1, 1, 10, 100]\n",
    "# empty list to store scores\n",
    "C_scores = []"
   ]
  },
  {
   "cell_type": "code",
   "execution_count": 9,
   "metadata": {},
   "outputs": [
    {
     "name": "stdout",
     "output_type": "stream",
     "text": [
      "The score for C = 0.1 is: 0.7735377875136911\n",
      "The score for C = 1 is: 0.7801715954728003\n",
      "The score for C = 10 is: 0.7795655348667396\n",
      "The score for C = 100 is: 0.7795655348667396\n"
     ]
    }
   ],
   "source": [
    "# 1. we will loop through reasonable values of C\n",
    "for c in C_list:\n",
    "    # 2. run SVM with C = c\n",
    "    svm = SVC(C = c, random_state = 0, kernel = \"linear\")\n",
    "    # 3. obtain cross_val_score for SVM with C = c\n",
    "    scores = cross_val_score(svm, x, y, cv = 10, scoring = \"accuracy\")\n",
    "    # 4. append mean of scores for C = c to C_scores list\n",
    "    C_scores.append(scores.mean())\n",
    "    \n",
    "    print(\"The score for C =\", c, \"is:\", scores.mean())"
   ]
  },
  {
   "cell_type": "code",
   "execution_count": 10,
   "metadata": {},
   "outputs": [],
   "source": [
    "# search for an optimal value of C for Logistic Regression\n",
    "C_list2 = [0.7, 1.3]\n",
    "# empty list to store scores\n",
    "C_scores2 = []"
   ]
  },
  {
   "cell_type": "code",
   "execution_count": 11,
   "metadata": {},
   "outputs": [
    {
     "name": "stdout",
     "output_type": "stream",
     "text": [
      "The score for C = 0.7 is: 0.7771522453450164\n",
      "The score for C = 1.3 is: 0.7801715954728003\n"
     ]
    }
   ],
   "source": [
    "# 1. we will loop through reasonable values of C\n",
    "for c in C_list2:\n",
    "    # 2. run SVM with C = c\n",
    "    svm = SVC(C = c, random_state = 0, kernel = \"linear\")\n",
    "    # 3. obtain cross_val_score for SVM with C = c\n",
    "    scores = cross_val_score(svm, x, y, cv = 10, scoring = \"accuracy\")\n",
    "    # 4. append mean of scores for C = c to C_scores list\n",
    "    C_scores2.append(scores.mean())\n",
    "    \n",
    "    print(\"The score for C =\", c, \"is:\", scores.mean())"
   ]
  },
  {
   "cell_type": "code",
   "execution_count": 12,
   "metadata": {},
   "outputs": [],
   "source": [
    "# search for an optimal value of C for Logistic Regression\n",
    "C_list3 = [1.1, 1.2]\n",
    "# empty list to store scores\n",
    "C_scores3 = []"
   ]
  },
  {
   "cell_type": "code",
   "execution_count": 13,
   "metadata": {},
   "outputs": [
    {
     "name": "stdout",
     "output_type": "stream",
     "text": [
      "The score for C = 1.1 is: 0.7789667761956919\n",
      "The score for C = 1.2 is: 0.7789667761956919\n"
     ]
    }
   ],
   "source": [
    "# 1. we will loop through reasonable values of C\n",
    "for c in C_list3:\n",
    "    # 2. run SVM with C = c\n",
    "    svm = SVC(C = c, random_state = 0, kernel = \"linear\")\n",
    "    # 3. obtain cross_val_score for SVM with C = c\n",
    "    scores = cross_val_score(svm, x, y, cv = 10, scoring = \"accuracy\")\n",
    "    # 4. append mean of scores for C = c to C_scores list\n",
    "    C_scores3.append(scores.mean())\n",
    "    \n",
    "    print(\"The score for C =\", c, \"is:\", scores.mean())"
   ]
  },
  {
   "cell_type": "code",
   "execution_count": 14,
   "metadata": {},
   "outputs": [],
   "source": [
    "# search for an optimal value of C for Logistic Regression\n",
    "C_list4 = [0.8, 0.9]\n",
    "# empty list to store scores\n",
    "C_scores4 = []"
   ]
  },
  {
   "cell_type": "code",
   "execution_count": 15,
   "metadata": {},
   "outputs": [
    {
     "name": "stdout",
     "output_type": "stream",
     "text": [
      "The score for C = 0.8 is: 0.7789594742606791\n",
      "The score for C = 0.9 is: 0.7801715954728003\n"
     ]
    }
   ],
   "source": [
    "# 1. we will loop through reasonable values of C\n",
    "for c in C_list4:\n",
    "    # 2. run SVM with C = c\n",
    "    svm = SVC(C = c, random_state = 0, kernel = \"linear\")\n",
    "    # 3. obtain cross_val_score for SVM with C = c\n",
    "    scores = cross_val_score(svm, x, y, cv = 10, scoring = \"accuracy\")\n",
    "    # 4. append mean of scores for C = c to C_scores list\n",
    "    C_scores4.append(scores.mean())\n",
    "    \n",
    "    print(\"The score for C =\", c, \"is:\", scores.mean())"
   ]
  },
  {
   "cell_type": "code",
   "execution_count": 17,
   "metadata": {},
   "outputs": [],
   "source": [
    "# search for an optimal value of C for Logistic Regression\n",
    "C_list5 = [1.5, 1.7]\n",
    "# empty list to store scores\n",
    "C_scores5 = []"
   ]
  },
  {
   "cell_type": "code",
   "execution_count": 18,
   "metadata": {},
   "outputs": [
    {
     "name": "stdout",
     "output_type": "stream",
     "text": [
      "The score for C = 1.5 is: 0.7813837166849215\n",
      "The score for C = 1.7 is: 0.7813837166849215\n"
     ]
    }
   ],
   "source": [
    "# 1. we will loop through reasonable values of C\n",
    "for c in C_list5:\n",
    "    # 2. run SVM with C = c\n",
    "    svm = SVC(C = c, random_state = 0, kernel = \"linear\")\n",
    "    # 3. obtain cross_val_score for SVM with C = c\n",
    "    scores = cross_val_score(svm, x, y, cv = 10, scoring = \"accuracy\")\n",
    "    # 4. append mean of scores for C = c to C_scores list\n",
    "    C_scores5.append(scores.mean())\n",
    "    \n",
    "    print(\"The score for C =\", c, \"is:\", scores.mean())"
   ]
  },
  {
   "cell_type": "code",
   "execution_count": 19,
   "metadata": {},
   "outputs": [],
   "source": [
    "# search for an optimal value of C for Logistic Regression\n",
    "C_list6 = [1.9, 2.1]\n",
    "# empty list to store scores\n",
    "C_scores6 = []"
   ]
  },
  {
   "cell_type": "code",
   "execution_count": 20,
   "metadata": {},
   "outputs": [
    {
     "name": "stdout",
     "output_type": "stream",
     "text": [
      "The score for C = 1.9 is: 0.7801715954728003\n",
      "The score for C = 2.1 is: 0.7795655348667396\n"
     ]
    }
   ],
   "source": [
    "# 1. we will loop through reasonable values of C\n",
    "for c in C_list6:\n",
    "    # 2. run SVM with C = c\n",
    "    svm = SVC(C = c, random_state = 0, kernel = \"linear\")\n",
    "    # 3. obtain cross_val_score for SVM with C = c\n",
    "    scores = cross_val_score(svm, x, y, cv = 10, scoring = \"accuracy\")\n",
    "    # 4. append mean of scores for C = c to C_scores list\n",
    "    C_scores6.append(scores.mean())\n",
    "    \n",
    "    print(\"The score for C =\", c, \"is:\", scores.mean())"
   ]
  }
 ],
 "metadata": {
  "kernelspec": {
   "display_name": "Python 3",
   "language": "python",
   "name": "python3"
  },
  "language_info": {
   "codemirror_mode": {
    "name": "ipython",
    "version": 3
   },
   "file_extension": ".py",
   "mimetype": "text/x-python",
   "name": "python",
   "nbconvert_exporter": "python",
   "pygments_lexer": "ipython3",
   "version": "3.7.3"
  }
 },
 "nbformat": 4,
 "nbformat_minor": 2
}
