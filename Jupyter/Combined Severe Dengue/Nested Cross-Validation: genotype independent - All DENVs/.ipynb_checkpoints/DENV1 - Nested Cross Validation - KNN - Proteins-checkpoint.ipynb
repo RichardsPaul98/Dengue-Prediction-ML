{
 "cells": [
  {
   "cell_type": "code",
   "execution_count": 1,
   "metadata": {},
   "outputs": [],
   "source": [
    "# Importing the necessary libraries\n",
    "import pandas as pd\n",
    "import numpy as np\n",
    "import random\n",
    "import re\n",
    "import matplotlib.pyplot as plt"
   ]
  },
  {
   "cell_type": "code",
   "execution_count": 2,
   "metadata": {},
   "outputs": [
    {
     "name": "stdout",
     "output_type": "stream",
     "text": [
      "The number of DF samples are 896\n",
      "The number of DHF samples are 718\n",
      "The number of DSS samples are 42\n"
     ]
    }
   ],
   "source": [
    "df = []\n",
    "dhf = []\n",
    "dss = []\n",
    "\n",
    "f = open(\"../../../../Data/Proteins/DENV1/DF.txt\", \"r\")\n",
    "for x in f:\n",
    "    if x[0] != \">\" and x[0] != \"\\n\":\n",
    "        df.append(x)\n",
    "\n",
    "f = open(\"../../../../Data/Proteins/DENV1/DHF3.txt\", \"r\")\n",
    "for x in f:\n",
    "    if x[0] != \">\" and x[0] != \"\\n\":\n",
    "        dhf.append(x)\n",
    "\n",
    "f = open(\"../../../../Data/Proteins/DENV1/DSS.txt\", \"r\")\n",
    "for x in f:\n",
    "    if x[0] != \">\" and x[0] != \"\\n\":\n",
    "        dss.append(x)\n",
    "     \n",
    "print(\"The number of DF samples are\", len(df))\n",
    "print(\"The number of DHF samples are\", len(dhf))\n",
    "print(\"The number of DSS samples are\", len(dss))"
   ]
  },
  {
   "cell_type": "code",
   "execution_count": 3,
   "metadata": {},
   "outputs": [],
   "source": [
    "df = pd.DataFrame(df)\n",
    "dhf = pd.DataFrame(dhf)\n",
    "dss = pd.DataFrame(dss)\n",
    "\n",
    "# Making the disease label column\n",
    "df_disease = np.repeat(0, 896)\n",
    "dss_disease = np.repeat(1, 42)\n",
    "dhf_disease = np.repeat(1, 718)\n",
    "\n",
    "# Attaching the \"Disease\" label column to the input\n",
    "df[\"Disease\"] = df_disease\n",
    "dss[\"Disease\"] = dss_disease\n",
    "dhf[\"Disease\"] = dhf_disease\n",
    "\n",
    "# Renaming the columns\n",
    "df = df.rename(index=str, columns={0: \"Sequence\", \"Disease\": \"Disease\"})\n",
    "dss = dss.rename(index=str, columns={0: \"Sequence\", \"Disease\": \"Disease\"})\n",
    "dhf = dhf.rename(index=str, columns={0: \"Sequence\", \"Disease\": \"Disease\"})"
   ]
  },
  {
   "cell_type": "code",
   "execution_count": 4,
   "metadata": {},
   "outputs": [
    {
     "name": "stdout",
     "output_type": "stream",
     "text": [
      "The combined shape of the given data is: (1656, 2)\n",
      "                                              Sequence  Disease\n",
      "697  LWEGSPGKFWNTTIAVSMANIFRGSYLAGAGLAFSLMKSLGGGRRG...        0\n",
      "865  LWEGSPGKFWNTTIAVSMANIFRGSYLAGAGLAFSLMKSLGGGRRG...        0\n",
      "844  KKPRICTREEFTRKVRSNAAIGAVFVDENQWNSAKEAVEDERFWDL...        0\n",
      "41   MNNQRKKTARPSFNMLKRARNRVSTVSQLAKRFSKGLLSGQGPMKL...        0\n",
      "250  MNNQRKKTARPSFNMLKRARNRVSTVSQLAKRFSKGLLSGQGPMKL...        1\n"
     ]
    }
   ],
   "source": [
    "# Concatinating the input data into one DataFrame\n",
    "result = pd.concat([df, dss, dhf], axis = 0, sort = False)\n",
    "print(\"The combined shape of the given data is:\", str(result.shape))\n",
    "\n",
    "# Taking a peek at the combined data\n",
    "result = result.sample(frac = 1)\n",
    "print(result.head())"
   ]
  },
  {
   "cell_type": "code",
   "execution_count": 5,
   "metadata": {},
   "outputs": [],
   "source": [
    "# Function to convert sequence strings into k-mer words, default size = 6 (hexamer words)\n",
    "def getKmers(sequence, size = 6):\n",
    "    return [sequence[x:x+size].lower() for x in range(len(sequence) - size + 1)]\n",
    "\n",
    "result['words'] = result.apply(lambda x: getKmers(x['Sequence']), axis=1)\n",
    "result = result.drop('Sequence', axis=1)\n",
    "\n",
    "result_texts = list(result['words'])\n",
    "for item in range(len(result_texts)):\n",
    "    result_texts[item] = ' '.join(result_texts[item])"
   ]
  },
  {
   "cell_type": "code",
   "execution_count": 6,
   "metadata": {},
   "outputs": [
    {
     "name": "stdout",
     "output_type": "stream",
     "text": [
      "The shape of y is: (1656,)\n"
     ]
    },
    {
     "data": {
      "text/plain": [
       "<matplotlib.axes._subplots.AxesSubplot at 0x7fc356590860>"
      ]
     },
     "execution_count": 6,
     "metadata": {},
     "output_type": "execute_result"
    },
    {
     "data": {
      "image/png": "[encoded data removed]",
      "text/plain": [
       "<Figure size 432x288 with 1 Axes>"
      ]
     },
     "metadata": {
      "needs_background": "light"
     },
     "output_type": "display_data"
    }
   ],
   "source": [
    "# Creating y and printing the shape of it\n",
    "y = result.iloc[:, 0].values\n",
    "print(\"The shape of y is:\", y.shape)\n",
    "\n",
    "# Checking the balance of the disease severity\n",
    "result[\"Disease\"].value_counts().sort_index().plot.bar()"
   ]
  },
  {
   "cell_type": "code",
   "execution_count": 7,
   "metadata": {},
   "outputs": [
    {
     "name": "stdout",
     "output_type": "stream",
     "text": [
      "The shape of x matrix is: (1656, 15748)\n"
     ]
    }
   ],
   "source": [
    "# Creating the Bag of Words model using CountVectorizer()\n",
    "# This is equivalent to k-mer counting\n",
    "# The n-gram size of 4 was previously determined by testing\n",
    "from sklearn.feature_extraction.text import CountVectorizer\n",
    "cv = CountVectorizer(ngram_range=(4,4))\n",
    "x = cv.fit_transform(result_texts)\n",
    "\n",
    "# Print the shape of x\n",
    "print(\"The shape of x matrix is:\", x.shape)"
   ]
  },
  {
   "cell_type": "markdown",
   "metadata": {},
   "source": [
    "## Nested Cross-Validation"
   ]
  },
  {
   "cell_type": "code",
   "execution_count": 8,
   "metadata": {},
   "outputs": [],
   "source": [
    "from sklearn.model_selection import cross_val_score\n",
    "# search for an optimal value of K for KNN\n",
    "# range of k we want to try\n",
    "k_range = range(1, 30)\n",
    "# empty list to store scores\n",
    "k_scores = []"
   ]
  },
  {
   "cell_type": "code",
   "execution_count": 9,
   "metadata": {},
   "outputs": [
    {
     "name": "stdout",
     "output_type": "stream",
     "text": [
      "The score for number of neighbours = 1 is: 0.7879810149689668\n",
      "The score for number of neighbours = 2 is: 0.674465133260314\n",
      "The score for number of neighbours = 3 is: 0.7022599488864548\n",
      "The score for number of neighbours = 4 is: 0.7143519532676159\n",
      "The score for number of neighbours = 5 is: 0.7336692223439212\n",
      "The score for number of neighbours = 6 is: 0.7125447243519532\n",
      "The score for number of neighbours = 7 is: 0.7336692223439212\n",
      "The score for number of neighbours = 8 is: 0.7198064987221613\n",
      "The score for number of neighbours = 9 is: 0.7252354874041622\n",
      "The score for number of neighbours = 10 is: 0.7191894852135816\n",
      "The score for number of neighbours = 11 is: 0.727035414384812\n",
      "The score for number of neighbours = 12 is: 0.7240087623220154\n",
      "The score for number of neighbours = 13 is: 0.7258451989777291\n",
      "The score for number of neighbours = 14 is: 0.7198138006571743\n",
      "The score for number of neighbours = 15 is: 0.7342825848849946\n",
      "The score for number of neighbours = 16 is: 0.732475355969332\n",
      "The score for number of neighbours = 17 is: 0.7355093099671413\n",
      "The score for number of neighbours = 18 is: 0.7294706097115735\n",
      "The score for number of neighbours = 19 is: 0.7318912011683096\n",
      "The score for number of neighbours = 20 is: 0.7288718510405259\n",
      "The score for number of neighbours = 21 is: 0.7276670317634173\n",
      "The score for number of neighbours = 22 is: 0.7264403066812706\n",
      "The score for number of neighbours = 23 is: 0.7270536692223438\n",
      "The score for number of neighbours = 24 is: 0.7288499452354874\n",
      "The score for number of neighbours = 25 is: 0.7306790799561884\n",
      "The score for number of neighbours = 26 is: 0.7264622124863089\n",
      "The score for number of neighbours = 27 is: 0.7294852135815992\n",
      "The score for number of neighbours = 28 is: 0.7288718510405258\n",
      "The score for number of neighbours = 29 is: 0.7343117926250456\n"
     ]
    }
   ],
   "source": [
    "from sklearn.neighbors import KNeighborsClassifier\n",
    "# 1. we will loop through reasonable values of k\n",
    "for k in k_range:\n",
    "    # 2. run KNeighborsClassifier with k neighbours\n",
    "    knn = KNeighborsClassifier(n_neighbors = k)\n",
    "    # 3. obtain cross_val_score for KNeighborsClassifier with k neighbours\n",
    "    scores = cross_val_score(knn, x, y, cv = 10, scoring = 'accuracy')\n",
    "    # 4. append mean of scores for k neighbors to k_scores list\n",
    "    k_scores.append(scores.mean())\n",
    "    \n",
    "    print(\"The score for number of neighbours =\", k, \"is:\", scores.mean())"
   ]
  },
  {
   "cell_type": "code",
   "execution_count": 11,
   "metadata": {},
   "outputs": [],
   "source": [
    "from sklearn.model_selection import cross_val_score\n",
    "# search for an optimal value of K for KNN\n",
    "# range of k we want to try\n",
    "k_range = range(30, 50)\n",
    "# empty list to store scores\n",
    "k_scores = []"
   ]
  },
  {
   "cell_type": "code",
   "execution_count": 12,
   "metadata": {},
   "outputs": [
    {
     "name": "stdout",
     "output_type": "stream",
     "text": [
      "The score for number of neighbours = 30 is: 0.7349105512960935\n",
      "The score for number of neighbours = 31 is: 0.7361153705732019\n",
      "The score for number of neighbours = 32 is: 0.7343081416575392\n",
      "The score for number of neighbours = 33 is: 0.7373238408178168\n",
      "The score for number of neighbours = 34 is: 0.736115370573202\n",
      "The score for number of neighbours = 35 is: 0.7409492515516611\n",
      "The score for number of neighbours = 36 is: 0.7349105512960935\n",
      "The score for number of neighbours = 37 is: 0.7324863088718511\n",
      "The score for number of neighbours = 38 is: 0.7343044906900328\n",
      "The score for number of neighbours = 39 is: 0.7331033223804309\n",
      "The score for number of neighbours = 40 is: 0.7355239138371668\n",
      "The score for number of neighbours = 41 is: 0.7373384446878423\n",
      "The score for number of neighbours = 42 is: 0.733723986856517\n",
      "The score for number of neighbours = 43 is: 0.7343190945600585\n",
      "The score for number of neighbours = 44 is: 0.7343154435925521\n",
      "The score for number of neighbours = 45 is: 0.7361226725082146\n",
      "The score for number of neighbours = 46 is: 0.7367177802117562\n",
      "The score for number of neighbours = 47 is: 0.735516611902154\n",
      "The score for number of neighbours = 48 is: 0.7355093099671413\n",
      "The score for number of neighbours = 49 is: 0.7324972617743702\n"
     ]
    }
   ],
   "source": [
    "from sklearn.neighbors import KNeighborsClassifier\n",
    "# 1. we will loop through reasonable values of k\n",
    "for k in k_range:\n",
    "    # 2. run KNeighborsClassifier with k neighbours\n",
    "    knn = KNeighborsClassifier(n_neighbors = k)\n",
    "    # 3. obtain cross_val_score for KNeighborsClassifier with k neighbours\n",
    "    scores = cross_val_score(knn, x, y, cv = 10, scoring = 'accuracy')\n",
    "    # 4. append mean of scores for k neighbors to k_scores list\n",
    "    k_scores.append(scores.mean())\n",
    "    \n",
    "    print(\"The score for number of neighbours =\", k, \"is:\", scores.mean())"
   ]
  },
  {
   "cell_type": "code",
   "execution_count": 10,
   "metadata": {
    "scrolled": true
   },
   "outputs": [
    {
     "name": "stdout",
     "output_type": "stream",
     "text": [
      "Length of list 29\n",
      "Max of list 0.7879810149689668\n"
     ]
    },
    {
     "data": {
      "text/plain": [
       "Text(0, 0.5, 'Cross-validated accuracy')"
      ]
     },
     "execution_count": 10,
     "metadata": {},
     "output_type": "execute_result"
    },
    {
     "data": {
      "image/png": "[encoded data removed]",
      "text/plain": [
       "<Figure size 432x288 with 1 Axes>"
      ]
     },
     "metadata": {
      "needs_background": "light"
     },
     "output_type": "display_data"
    }
   ],
   "source": [
    "# in essence, this is basically running the k-fold cross-validation method 30 times because\n",
    "# we want to run through K values from 1 to 30.\n",
    "# we should have 21 scores here\n",
    "print('Length of list', len(k_scores))\n",
    "print('Max of list', max(k_scores))\n",
    "\n",
    "# plot the value of K for KNN (x-axis) versus the cross-validated accuracy (y-axis)\n",
    "# plt.plot(x_axis, y_axis)\n",
    "plt.plot(k_range, k_scores)\n",
    "plt.xlabel('Value of K for KNN')\n",
    "plt.ylabel('Cross-validated accuracy')"
   ]
  }
 ],
 "metadata": {
  "kernelspec": {
   "display_name": "Python 3",
   "language": "python",
   "name": "python3"
  },
  "language_info": {
   "codemirror_mode": {
    "name": "ipython",
    "version": 3
   },
   "file_extension": ".py",
   "mimetype": "text/x-python",
   "name": "python",
   "nbconvert_exporter": "python",
   "pygments_lexer": "ipython3",
   "version": "3.7.3"
  }
 },
 "nbformat": 4,
 "nbformat_minor": 2
}
