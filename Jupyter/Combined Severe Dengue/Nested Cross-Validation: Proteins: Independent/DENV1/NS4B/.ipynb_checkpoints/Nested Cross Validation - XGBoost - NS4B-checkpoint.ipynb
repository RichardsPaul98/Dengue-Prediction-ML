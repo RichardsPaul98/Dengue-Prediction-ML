{
 "cells": [
  {
   "cell_type": "code",
   "execution_count": 1,
   "metadata": {},
   "outputs": [],
   "source": [
    "# Importing the necessary libraries\n",
    "import pandas as pd\n",
    "import numpy as np\n",
    "import matplotlib.pyplot as plt"
   ]
  },
  {
   "cell_type": "code",
   "execution_count": 2,
   "metadata": {},
   "outputs": [],
   "source": [
    "# Importing the proteins data\n",
    "k2 = []\n",
    "k2d = []\n",
    "\n",
    "f = open(\"../../../../../../Data/Proteins/DENV1/NS4B/DENV1_NS4B.txt\", \"r\")\n",
    "for x in f:\n",
    "    if \"DSS\" in x:\n",
    "        k2d.append(1)\n",
    "    elif \"DHF\" in x:\n",
    "        k2d.append(1)\n",
    "    elif x[0] == \">\":\n",
    "        k2d.append(0)\n",
    "    else:\n",
    "        x = x.replace(\"\\n\", \"\")\n",
    "        k2.append(x)"
   ]
  },
  {
   "cell_type": "code",
   "execution_count": 3,
   "metadata": {},
   "outputs": [
    {
     "name": "stdout",
     "output_type": "stream",
     "text": [
      "Testing successful, both the disease column and the sequence column have equal lengths.\n"
     ]
    }
   ],
   "source": [
    "# Testing if the data was imported correctly\n",
    "if len(k2) == len(k2d):\n",
    "    print(\"Testing successful, both the disease column and the sequence column have equal lengths.\")"
   ]
  },
  {
   "cell_type": "code",
   "execution_count": 4,
   "metadata": {},
   "outputs": [],
   "source": [
    "# Converting the arrays into DataFrames\n",
    "k2 = pd.DataFrame(k2)\n",
    "\n",
    "# Attaching the \"Disease\" label column to the input\n",
    "k2[\"Disease\"] = k2d\n",
    "\n",
    "# Renaming the columns\n",
    "k2 = k2.rename(index=str, columns={0: \"Sequence\", \"Disease\": \"Disease\"})"
   ]
  },
  {
   "cell_type": "code",
   "execution_count": 5,
   "metadata": {},
   "outputs": [
    {
     "name": "stdout",
     "output_type": "stream",
     "text": [
      "The combined shape of the given data is: (999, 2)\n",
      "The length of the combined data is: 999\n",
      "Does the combined data have any null value? -> False\n",
      "                                              Sequence  Disease\n",
      "327  NEMGLLETTKKDLGIGHVAVENHHHAAMLDVDLHPASAWTLYAVAT...        0\n",
      "463  NEMGLLETTKKDLGIGHVAAENHQHATMLDVDLRPASAWTLYAVAT...        0\n",
      "483  NEMGLLETTKKDLGIGHVAAENHQHATMLDVDLRPASAWTLYAVAT...        0\n",
      "391  NEMGLLETTKKDLGIGHVAVENHHHATMLDVDLHPASAWTLYAVAT...        0\n",
      "684  NEMGLLETTKKDLGIGHVAAENHHHAAMLDVDLHPASAWTLYAVAT...        1\n"
     ]
    }
   ],
   "source": [
    "# Concatinating the input data into one DataFrame\n",
    "print(\"The combined shape of the given data is:\", str(k2.shape))\n",
    "print(\"The length of the combined data is:\", str(len(k2.index)))\n",
    "print(\"Does the combined data have any null value? ->\", k2.isnull().values.any())\n",
    "\n",
    "# Shuffling the data and then taking a peek\n",
    "k2 = k2.sample(frac = 1)\n",
    "print(k2.head())"
   ]
  },
  {
   "cell_type": "code",
   "execution_count": 6,
   "metadata": {},
   "outputs": [],
   "source": [
    "# Function to convert sequence strings into k-mer words, default size = 6 (hexamer words)\n",
    "def getKmers(sequence, size = 6):\n",
    "    return [sequence[x:x+size].lower() for x in range(len(sequence) - size + 1)]\n",
    "\n",
    "k2['words'] = k2.apply(lambda x: getKmers(x['Sequence']), axis=1)\n",
    "k2 = k2.drop('Sequence', axis=1)\n",
    "\n",
    "k2_texts = list(k2['words'])\n",
    "for item in range(len(k2_texts)):\n",
    "    k2_texts[item] = ' '.join(k2_texts[item])"
   ]
  },
  {
   "cell_type": "code",
   "execution_count": 7,
   "metadata": {},
   "outputs": [
    {
     "name": "stdout",
     "output_type": "stream",
     "text": [
      "The shape of y is: (999,)\n"
     ]
    }
   ],
   "source": [
    "# Creating y and printing the shape of it\n",
    "y = k2.iloc[:, 0].values\n",
    "print(\"The shape of y is:\", y.shape)"
   ]
  },
  {
   "cell_type": "code",
   "execution_count": 8,
   "metadata": {},
   "outputs": [
    {
     "name": "stdout",
     "output_type": "stream",
     "text": [
      "The shape of x matrix is: (999, 732)\n"
     ]
    }
   ],
   "source": [
    "# Creating the Bag of Words model using CountVectorizer()\n",
    "# This is equivalent to k-mer counting\n",
    "# The n-gram size of 4 was previously determined by testing\n",
    "from sklearn.feature_extraction.text import CountVectorizer\n",
    "cv = CountVectorizer(ngram_range=(4,4))\n",
    "x = cv.fit_transform(k2_texts)\n",
    "\n",
    "# Print the shape of x\n",
    "print(\"The shape of x matrix is:\", x.shape)"
   ]
  },
  {
   "cell_type": "code",
   "execution_count": 9,
   "metadata": {},
   "outputs": [
    {
     "name": "stdout",
     "output_type": "stream",
     "text": [
      "The shape of x_train is: (799, 732)\n",
      "The shape of y_train is: (799,)\n",
      "The shape of x_test is: (200, 732)\n",
      "The shape of y_test is: (200,)\n"
     ]
    }
   ],
   "source": [
    "# Splitting the human dataset into the training set and test set\n",
    "from sklearn.model_selection import train_test_split\n",
    "X_train, X_test, y_train, y_test = train_test_split(x, y, test_size=0.2, random_state = 42, stratify=y)\n",
    "\n",
    "# Printing the shapes of the train and test matrices\n",
    "print(\"The shape of x_train is:\", X_train.shape)\n",
    "print(\"The shape of y_train is:\", y_train.shape)\n",
    "print(\"The shape of x_test is:\", X_test.shape)\n",
    "print(\"The shape of y_test is:\", y_test.shape)"
   ]
  },
  {
   "cell_type": "markdown",
   "metadata": {},
   "source": [
    "## Nested Cross-Validation"
   ]
  },
  {
   "cell_type": "code",
   "execution_count": 10,
   "metadata": {},
   "outputs": [],
   "source": [
    "from sklearn.model_selection import cross_val_score\n",
    "import xgboost as xgb\n",
    "# search for an optimal value of eta for XGBoost\n",
    "ETA_list = [0.0001, 0.001, 0.01, 0.1, 0.15, 0.2, 0.25, 0.3]\n",
    "# empty list to store scores\n",
    "scores = []\n",
    "MD_list = [1, 2, 3, 4, 5, 6, 7, 8, 9]"
   ]
  },
  {
   "cell_type": "code",
   "execution_count": 11,
   "metadata": {},
   "outputs": [
    {
     "name": "stdout",
     "output_type": "stream",
     "text": [
      "\n",
      "ETA = 0.0001\n",
      "\tMD = 1\n",
      "accuracy = 0.6\n",
      "\tMD = 2\n",
      "accuracy = 0.6\n",
      "\tMD = 3\n",
      "accuracy = 0.6\n",
      "\tMD = 4\n",
      "accuracy = 0.6\n",
      "\tMD = 5\n",
      "accuracy = 0.6\n",
      "\tMD = 6\n",
      "accuracy = 0.6\n",
      "\tMD = 7\n",
      "accuracy = 0.6\n",
      "\tMD = 8\n",
      "accuracy = 0.6\n",
      "\tMD = 9\n",
      "accuracy = 0.6\n",
      "\n",
      "ETA = 0.001\n",
      "\tMD = 1\n",
      "accuracy = 0.6\n",
      "\tMD = 2\n",
      "accuracy = 0.6\n",
      "\tMD = 3\n",
      "accuracy = 0.6\n",
      "\tMD = 4\n",
      "accuracy = 0.6\n",
      "\tMD = 5\n",
      "accuracy = 0.6\n",
      "\tMD = 6\n",
      "accuracy = 0.6\n",
      "\tMD = 7\n",
      "accuracy = 0.6\n",
      "\tMD = 8\n",
      "accuracy = 0.6\n",
      "\tMD = 9\n",
      "accuracy = 0.6\n",
      "\n",
      "ETA = 0.01\n",
      "\tMD = 1\n",
      "accuracy = 0.6\n",
      "\tMD = 2\n",
      "accuracy = 0.6\n",
      "\tMD = 3\n",
      "accuracy = 0.6\n",
      "\tMD = 4\n",
      "accuracy = 0.6\n",
      "\tMD = 5\n",
      "accuracy = 0.6\n",
      "\tMD = 6\n",
      "accuracy = 0.6\n",
      "\tMD = 7\n",
      "accuracy = 0.6\n",
      "\tMD = 8\n",
      "accuracy = 0.6\n",
      "\tMD = 9\n",
      "accuracy = 0.6\n",
      "\n",
      "ETA = 0.1\n",
      "\tMD = 1\n",
      "accuracy = 0.6\n",
      "\tMD = 2\n",
      "accuracy = 0.6\n",
      "\tMD = 3\n",
      "accuracy = 0.6\n",
      "\tMD = 4\n",
      "accuracy = 0.6\n",
      "\tMD = 5\n",
      "accuracy = 0.6\n",
      "\tMD = 6\n",
      "accuracy = 0.6\n",
      "\tMD = 7\n",
      "accuracy = 0.6\n",
      "\tMD = 8\n",
      "accuracy = 0.6\n",
      "\tMD = 9\n",
      "accuracy = 0.6\n",
      "\n",
      "ETA = 0.15\n",
      "\tMD = 1\n",
      "accuracy = 0.6\n",
      "\tMD = 2\n",
      "accuracy = 0.6\n",
      "\tMD = 3\n",
      "accuracy = 0.6\n",
      "\tMD = 4\n",
      "accuracy = 0.6\n",
      "\tMD = 5\n",
      "accuracy = 0.6\n",
      "\tMD = 6\n",
      "accuracy = 0.6\n",
      "\tMD = 7\n",
      "accuracy = 0.6\n",
      "\tMD = 8\n",
      "accuracy = 0.6\n",
      "\tMD = 9\n",
      "accuracy = 0.6\n",
      "\n",
      "ETA = 0.2\n",
      "\tMD = 1\n",
      "accuracy = 0.6\n",
      "\tMD = 2\n",
      "accuracy = 0.6\n",
      "\tMD = 3\n",
      "accuracy = 0.6\n",
      "\tMD = 4\n",
      "accuracy = 0.6\n",
      "\tMD = 5\n",
      "accuracy = 0.6\n",
      "\tMD = 6\n",
      "accuracy = 0.6\n",
      "\tMD = 7\n",
      "accuracy = 0.6\n",
      "\tMD = 8\n",
      "accuracy = 0.6\n",
      "\tMD = 9\n",
      "accuracy = 0.6\n",
      "\n",
      "ETA = 0.25\n",
      "\tMD = 1\n",
      "accuracy = 0.6\n",
      "\tMD = 2\n",
      "accuracy = 0.6\n",
      "\tMD = 3\n",
      "accuracy = 0.6\n",
      "\tMD = 4\n",
      "accuracy = 0.6\n",
      "\tMD = 5\n",
      "accuracy = 0.6\n",
      "\tMD = 6\n",
      "accuracy = 0.6\n",
      "\tMD = 7\n",
      "accuracy = 0.6\n",
      "\tMD = 8\n",
      "accuracy = 0.6\n",
      "\tMD = 9\n",
      "accuracy = 0.6\n",
      "\n",
      "ETA = 0.3\n",
      "\tMD = 1\n",
      "accuracy = 0.6\n",
      "\tMD = 2\n",
      "accuracy = 0.6\n",
      "\tMD = 3\n",
      "accuracy = 0.6\n",
      "\tMD = 4\n",
      "accuracy = 0.6\n",
      "\tMD = 5\n",
      "accuracy = 0.6\n",
      "\tMD = 6\n",
      "accuracy = 0.6\n",
      "\tMD = 7\n",
      "accuracy = 0.6\n",
      "\tMD = 8\n",
      "accuracy = 0.6\n",
      "\tMD = 9\n",
      "accuracy = 0.6\n",
      "The maximum accuracy is 0.6\n"
     ]
    }
   ],
   "source": [
    "# 1. we will loop through reasonable values of C\n",
    "for eta in ETA_list:\n",
    "    print(\"\\nETA =\", eta)\n",
    "    for md in MD_list:\n",
    "        # Defining the parameters\n",
    "        param = {\n",
    "            'eta': eta, \n",
    "            'max_depth': md,\n",
    "            'num_class': 2} \n",
    "\n",
    "        steps = 20  # The number of training iterations\n",
    "        print(\"\\tMD =\", md)\n",
    "        D_train = xgb.DMatrix(X_train, label=y_train)\n",
    "        D_test = xgb.DMatrix(X_test, label=y_test)\n",
    "        model = xgb.train(param, D_train, steps)\n",
    "        from sklearn.metrics import accuracy_score\n",
    "        preds = model.predict(D_test)\n",
    "        best_preds = np.asarray([np.argmax(line) for line in preds])\n",
    "\n",
    "        print(\"accuracy = {}\".format(accuracy_score(y_test, best_preds)))\n",
    "        scores.append(accuracy_score(y_test, best_preds))\n",
    "print(\"The maximum accuracy is\", max(scores))"
   ]
  }
 ],
 "metadata": {
  "kernelspec": {
   "display_name": "Python 3",
   "language": "python",
   "name": "python3"
  },
  "language_info": {
   "codemirror_mode": {
    "name": "ipython",
    "version": 3
   },
   "file_extension": ".py",
   "mimetype": "text/x-python",
   "name": "python",
   "nbconvert_exporter": "python",
   "pygments_lexer": "ipython3",
   "version": "3.6.9"
  }
 },
 "nbformat": 4,
 "nbformat_minor": 2
}
