{
 "cells": [
  {
   "cell_type": "code",
   "execution_count": 1,
   "metadata": {},
   "outputs": [],
   "source": [
    "# Importing the necessary libraries\n",
    "import pandas as pd\n",
    "import numpy as np\n",
    "import matplotlib.pyplot as plt"
   ]
  },
  {
   "cell_type": "code",
   "execution_count": 2,
   "metadata": {},
   "outputs": [],
   "source": [
    "# Importing the proteins data\n",
    "capsid = []\n",
    "capsidd = []\n",
    "        \n",
    "f = open(\"../../../../../../Data/Proteins/DENV1/Capsid/DENV1_capsid.txt\", \"r\")\n",
    "for x in f:\n",
    "    if \"DSS\" in x:\n",
    "        capsidd.append(1)\n",
    "    elif \"DHF\" in x:\n",
    "        capsidd.append(1)\n",
    "    elif x[0] == \">\":\n",
    "        capsidd.append(0)\n",
    "    else:\n",
    "        x = x.replace(\"\\n\", \"\")\n",
    "        capsid.append(x)"
   ]
  },
  {
   "cell_type": "code",
   "execution_count": 3,
   "metadata": {},
   "outputs": [],
   "source": [
    "# Converting the arrays into DataFrames\n",
    "capsid = pd.DataFrame(capsid)\n",
    "\n",
    "# Attaching the \"Disease\" label column to the input\n",
    "capsid[\"Disease\"] = capsidd\n",
    "\n",
    "# Renaming the columns\n",
    "capsid = capsid.rename(index=str, columns={0: \"Sequence\", \"Disease\": \"Disease\"})"
   ]
  },
  {
   "cell_type": "code",
   "execution_count": 4,
   "metadata": {},
   "outputs": [
    {
     "name": "stdout",
     "output_type": "stream",
     "text": [
      "The combined shape of the given data is: (999, 2)\n",
      "The length of the combined data is: 999\n",
      "                                              Sequence  Disease\n",
      "449  MNNQRKKTGRPSFNMLKRARNRVSTGSQLAKRFSKGLLSGQGPMKL...        0\n",
      "409  MNNQRKKTARPSFNMLKRARNRVSTVSQLAKRFSKGLLSGQGPMKL...        0\n",
      "609  MNNQRKKTARPSFNMLKRARNRVSTVSQLAKRFSKGLLSGQGPMKL...        1\n",
      "642  MNNQRKKTARPSFNMLKRARNRVSTVSQLAKRFSKGLLSGQGPMKL...        1\n",
      "959  MNNQRKKTARPSFNMLKRARNRVSTVSQLAKRFSKGLLSGQGPMKL...        1\n"
     ]
    }
   ],
   "source": [
    "# Concatinating the input data into one DataFrame\n",
    "print(\"The combined shape of the given data is:\", str(capsid.shape))\n",
    "print(\"The length of the combined data is:\", str(len(capsid.index)))\n",
    "\n",
    "# Shuffling the data and then taking a peek\n",
    "capsid = capsid.sample(frac = 1)\n",
    "print(capsid.head())"
   ]
  },
  {
   "cell_type": "code",
   "execution_count": 5,
   "metadata": {},
   "outputs": [],
   "source": [
    "# Function to convert sequence strings into k-mer words, default size = 6 (hexamer words)\n",
    "def getKmers(sequence, size = 6):\n",
    "    return [sequence[x:x+size].lower() for x in range(len(sequence) - size + 1)]\n",
    "\n",
    "capsid['words'] = capsid.apply(lambda x: getKmers(x['Sequence']), axis=1)\n",
    "capsid = capsid.drop('Sequence', axis=1)\n",
    "\n",
    "capsid_texts = list(capsid['words'])\n",
    "for item in range(len(capsid_texts)):\n",
    "    capsid_texts[item] = ' '.join(capsid_texts[item])"
   ]
  },
  {
   "cell_type": "code",
   "execution_count": 6,
   "metadata": {},
   "outputs": [
    {
     "name": "stdout",
     "output_type": "stream",
     "text": [
      "The shape of y is: (999,)\n"
     ]
    }
   ],
   "source": [
    "# Creating y and printing the shape of it\n",
    "y = capsid.iloc[:, 0].values\n",
    "print(\"The shape of y is:\", y.shape)"
   ]
  },
  {
   "cell_type": "code",
   "execution_count": 7,
   "metadata": {},
   "outputs": [
    {
     "name": "stdout",
     "output_type": "stream",
     "text": [
      "The shape of x matrix is: (999, 667)\n"
     ]
    }
   ],
   "source": [
    "# Creating the Bag of Words model using CountVectorizer()\n",
    "# This is equivalent to k-mer counting\n",
    "# The n-gram size of 4 was previously determined by testing\n",
    "from sklearn.feature_extraction.text import CountVectorizer\n",
    "cv = CountVectorizer(ngram_range=(4,4))\n",
    "x = cv.fit_transform(capsid_texts)\n",
    "\n",
    "# Print the shape of x\n",
    "print(\"The shape of x matrix is:\", x.shape)"
   ]
  },
  {
   "cell_type": "markdown",
   "metadata": {},
   "source": [
    "## Nested Cross-Validation"
   ]
  },
  {
   "cell_type": "code",
   "execution_count": 8,
   "metadata": {},
   "outputs": [],
   "source": [
    "from sklearn.model_selection import cross_val_score\n",
    "# search for an optimal value of K for KNN\n",
    "# range of k we want to try\n",
    "k_range = range(1, 30)\n",
    "# empty list to store scores\n",
    "k_scores = []"
   ]
  },
  {
   "cell_type": "code",
   "execution_count": 9,
   "metadata": {},
   "outputs": [
    {
     "name": "stdout",
     "output_type": "stream",
     "text": [
      "The score for number of neighbours = 1 is: 0.5885395539553955\n",
      "The score for number of neighbours = 2 is: 0.5955401540154015\n",
      "The score for number of neighbours = 3 is: 0.5744597459745975\n",
      "The score for number of neighbours = 4 is: 0.6025700570057005\n",
      "The score for number of neighbours = 5 is: 0.6166015601560157\n",
      "The score for number of neighbours = 6 is: 0.6146114611461145\n",
      "The score for number of neighbours = 7 is: 0.6206017601760176\n",
      "The score for number of neighbours = 8 is: 0.6206017601760176\n",
      "The score for number of neighbours = 9 is: 0.6186314631463147\n",
      "The score for number of neighbours = 10 is: 0.6186316631663167\n",
      "The score for number of neighbours = 11 is: 0.6166415641564156\n",
      "The score for number of neighbours = 12 is: 0.6236215621562157\n",
      "The score for number of neighbours = 13 is: 0.6127205720572058\n",
      "The score for number of neighbours = 14 is: 0.6087007700770077\n",
      "The score for number of neighbours = 15 is: 0.6057304730473047\n",
      "The score for number of neighbours = 16 is: 0.6136310631063107\n",
      "The score for number of neighbours = 17 is: 0.6046902690269027\n",
      "The score for number of neighbours = 18 is: 0.5996801680168018\n",
      "The score for number of neighbours = 19 is: 0.6006997699769977\n",
      "The score for number of neighbours = 20 is: 0.6056306630663066\n",
      "The score for number of neighbours = 21 is: 0.6025500550055005\n",
      "The score for number of neighbours = 22 is: 0.6045203520352036\n",
      "The score for number of neighbours = 23 is: 0.5995997599759977\n",
      "The score for number of neighbours = 24 is: 0.6085896589658966\n",
      "The score for number of neighbours = 25 is: 0.6075995599559956\n",
      "The score for number of neighbours = 26 is: 0.6075698569856987\n",
      "The score for number of neighbours = 27 is: 0.6045597559755975\n",
      "The score for number of neighbours = 28 is: 0.5995694569456946\n",
      "The score for number of neighbours = 29 is: 0.6025894589458947\n"
     ]
    }
   ],
   "source": [
    "from sklearn.neighbors import KNeighborsClassifier\n",
    "# 1. we will loop through reasonable values of k\n",
    "for k in k_range:\n",
    "    # 2. run KNeighborsClassifier with k neighbours\n",
    "    knn = KNeighborsClassifier(n_neighbors = k)\n",
    "    # 3. obtain cross_val_score for KNeighborsClassifier with k neighbours\n",
    "    scores = cross_val_score(knn, x, y, cv = 10, scoring='accuracy')\n",
    "    # 4. append mean of scores for k neighbors to k_scores list\n",
    "    k_scores.append(scores.mean())\n",
    "    \n",
    "    print(\"The score for number of neighbours =\", k, \"is:\", scores.mean())"
   ]
  },
  {
   "cell_type": "code",
   "execution_count": 10,
   "metadata": {
    "scrolled": true
   },
   "outputs": [
    {
     "name": "stdout",
     "output_type": "stream",
     "text": [
      "Length of list 29\n",
      "Max of list 0.6236215621562157\n"
     ]
    },
    {
     "data": {
      "text/plain": [
       "Text(0, 0.5, 'Cross-validated accuracy')"
      ]
     },
     "execution_count": 10,
     "metadata": {},
     "output_type": "execute_result"
    },
    {
     "data": {
      "image/png": "[encoded data removed]",
      "text/plain": [
       "<Figure size 432x288 with 1 Axes>"
      ]
     },
     "metadata": {
      "needs_background": "light"
     },
     "output_type": "display_data"
    }
   ],
   "source": [
    "# in essence, this is basically running the k-fold cross-validation method 30 times because\n",
    "# we want to run through K values from 1 to 30.\n",
    "# we should have 21 scores here\n",
    "print('Length of list', len(k_scores))\n",
    "print('Max of list', max(k_scores))\n",
    "\n",
    "# plot the value of K for KNN (x-axis) versus the cross-validated accuracy (y-axis)\n",
    "# plt.plot(x_axis, y_axis)\n",
    "plt.plot(k_range, k_scores)\n",
    "plt.xlabel('Value of K for KNN')\n",
    "plt.ylabel('Cross-validated accuracy')"
   ]
  }
 ],
 "metadata": {
  "kernelspec": {
   "display_name": "Python 3",
   "language": "python",
   "name": "python3"
  },
  "language_info": {
   "codemirror_mode": {
    "name": "ipython",
    "version": 3
   },
   "file_extension": ".py",
   "mimetype": "text/x-python",
   "name": "python",
   "nbconvert_exporter": "python",
   "pygments_lexer": "ipython3",
   "version": "3.6.8"
  }
 },
 "nbformat": 4,
 "nbformat_minor": 2
}
