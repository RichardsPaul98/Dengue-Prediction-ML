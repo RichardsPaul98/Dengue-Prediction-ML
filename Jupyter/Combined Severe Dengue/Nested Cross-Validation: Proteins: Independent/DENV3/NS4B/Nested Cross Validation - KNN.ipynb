{
 "cells": [
  {
   "cell_type": "code",
   "execution_count": 1,
   "metadata": {},
   "outputs": [],
   "source": [
    "# Importing the necessary libraries\n",
    "import pandas as pd\n",
    "import numpy as np\n",
    "import matplotlib.pyplot as plt"
   ]
  },
  {
   "cell_type": "code",
   "execution_count": 2,
   "metadata": {},
   "outputs": [],
   "source": [
    "# Importing the proteins data\n",
    "ns4b = []\n",
    "ns4bd = []\n",
    "\n",
    "f = open(\"../../../../../../Data/Proteins/DENV3/NS4B/DENV3_NS4B.txt\", \"r\")\n",
    "for x in f:\n",
    "    if \"DSS\" in x:\n",
    "        ns4bd.append(1)\n",
    "    elif \"DHF\" in x:\n",
    "        ns4bd.append(1)\n",
    "    elif x[0] == \">\":\n",
    "        ns4bd.append(0)\n",
    "    else:\n",
    "        x = x.replace(\"\\n\", \"\")\n",
    "        ns4b.append(x)"
   ]
  },
  {
   "cell_type": "code",
   "execution_count": 3,
   "metadata": {},
   "outputs": [],
   "source": [
    "# Converting the arrays into DataFrames\n",
    "ns4b = pd.DataFrame(ns4b)\n",
    "\n",
    "# Attaching the \"Disease\" label column to the input\n",
    "ns4b[\"Disease\"] = ns4bd\n",
    "\n",
    "# Renaming the columns\n",
    "ns4b = ns4b.rename(index=str, columns={0: \"Sequence\", \"Disease\": \"Disease\"})"
   ]
  },
  {
   "cell_type": "code",
   "execution_count": 4,
   "metadata": {},
   "outputs": [
    {
     "name": "stdout",
     "output_type": "stream",
     "text": [
      "The combined shape of the given data is: (472, 2)\n",
      "The length of the combined data is: 472\n",
      "Does the combined data have any null value? -> False\n",
      "                                              Sequence  Disease\n",
      "398  NEMGLLETTKRDLGMSKEPGVVSPTSYLDVDLHPASAWTLYAVATT...        1\n",
      "276  NEMGLLETTKRDLGMSKEPGVVSPTSYLDVDLHPASAWTLYAVATT...        0\n",
      "313  NEMGLLETTKRDLGMSKEPGVVSPTSYLDVDLHPASAWTLYAVATT...        0\n",
      "109  NEMGMLETTKRDLGMSKEPGVASPTSYLDVDLHPASAWTLYAVATT...        0\n",
      "246  NEMGLLETTKRDLGMSKEPGVVSPTSYLDVDLHPASAWTLYAVATT...        0\n"
     ]
    }
   ],
   "source": [
    "# Concatinating the input data into one DataFrame\n",
    "print(\"The combined shape of the given data is:\", str(ns4b.shape))\n",
    "print(\"The length of the combined data is:\", str(len(ns4b.index)))\n",
    "print(\"Does the combined data have any null value? ->\", ns4b.isnull().values.any())\n",
    "\n",
    "# Shuffling the data and then taking a peek\n",
    "ns4b = ns4b.sample(frac = 1)\n",
    "print(ns4b.head())"
   ]
  },
  {
   "cell_type": "code",
   "execution_count": 5,
   "metadata": {},
   "outputs": [],
   "source": [
    "# Function to convert sequence strings into k-mer words, default size = 6 (hexamer words)\n",
    "def getKmers(sequence, size = 6):\n",
    "    return [sequence[x:x+size].lower() for x in range(len(sequence) - size + 1)]\n",
    "\n",
    "ns4b['words'] = ns4b.apply(lambda x: getKmers(x['Sequence']), axis=1)\n",
    "ns4b = ns4b.drop('Sequence', axis=1)\n",
    "\n",
    "ns4b_texts = list(ns4b['words'])\n",
    "for item in range(len(ns4b_texts)):\n",
    "    ns4b_texts[item] = ' '.join(ns4b_texts[item])"
   ]
  },
  {
   "cell_type": "code",
   "execution_count": 6,
   "metadata": {},
   "outputs": [
    {
     "name": "stdout",
     "output_type": "stream",
     "text": [
      "The shape of y is: (472,)\n"
     ]
    }
   ],
   "source": [
    "# Creating y and printing the shape of it\n",
    "y = ns4b.iloc[:, 0].values\n",
    "print(\"The shape of y is:\", y.shape)"
   ]
  },
  {
   "cell_type": "code",
   "execution_count": 7,
   "metadata": {},
   "outputs": [
    {
     "name": "stdout",
     "output_type": "stream",
     "text": [
      "The shape of x matrix is: (472, 536)\n"
     ]
    }
   ],
   "source": [
    "# Creating the Bag of Words model using CountVectorizer()\n",
    "# This is equivalent to k-mer counting\n",
    "# The n-gram size of 4 was previously determined by testing\n",
    "from sklearn.feature_extraction.text import CountVectorizer\n",
    "cv = CountVectorizer(ngram_range=(4,4))\n",
    "x = cv.fit_transform(ns4b_texts)\n",
    "\n",
    "# Print the shape of x\n",
    "print(\"The shape of x matrix is:\", x.shape)"
   ]
  },
  {
   "cell_type": "markdown",
   "metadata": {},
   "source": [
    "## Nested Cross-Validation"
   ]
  },
  {
   "cell_type": "code",
   "execution_count": 8,
   "metadata": {},
   "outputs": [],
   "source": [
    "from sklearn.model_selection import cross_val_score\n",
    "# search for an optimal value of K for KNN\n",
    "# range of k we want to try\n",
    "k_range = range(1, 30)\n",
    "# empty list to store scores\n",
    "k_scores = []"
   ]
  },
  {
   "cell_type": "code",
   "execution_count": 9,
   "metadata": {},
   "outputs": [
    {
     "name": "stdout",
     "output_type": "stream",
     "text": [
      "The score for number of neighbours = 1 is: 0.777736663583102\n",
      "The score for number of neighbours = 2 is: 0.7988398088189947\n",
      "The score for number of neighbours = 3 is: 0.8030064754856614\n",
      "The score for number of neighbours = 4 is: 0.8072174683934629\n",
      "The score for number of neighbours = 5 is: 0.8028696423065064\n",
      "The score for number of neighbours = 6 is: 0.8051341350601297\n",
      "The score for number of neighbours = 7 is: 0.803141381436941\n",
      "The score for number of neighbours = 8 is: 0.8052247147702744\n",
      "The score for number of neighbours = 9 is: 0.7987935553499846\n",
      "The score for number of neighbours = 10 is: 0.8030508017267962\n",
      "The score for number of neighbours = 11 is: 0.7966196423065064\n",
      "The score for number of neighbours = 12 is: 0.7987029756398396\n",
      "The score for number of neighbours = 13 is: 0.8049529756398396\n",
      "The score for number of neighbours = 14 is: 0.807036308973173\n",
      "The score for number of neighbours = 15 is: 0.8049529756398396\n",
      "The score for number of neighbours = 16 is: 0.8049529756398396\n",
      "The score for number of neighbours = 17 is: 0.8049529756398396\n",
      "The score for number of neighbours = 18 is: 0.807036308973173\n",
      "The score for number of neighbours = 19 is: 0.807036308973173\n",
      "The score for number of neighbours = 20 is: 0.8091196423065062\n",
      "The score for number of neighbours = 21 is: 0.807036308973173\n",
      "The score for number of neighbours = 22 is: 0.8069919827320382\n",
      "The score for number of neighbours = 23 is: 0.807036308973173\n",
      "The score for number of neighbours = 24 is: 0.8028696423065063\n",
      "The score for number of neighbours = 25 is: 0.800786308973173\n",
      "The score for number of neighbours = 26 is: 0.800786308973173\n",
      "The score for number of neighbours = 27 is: 0.800786308973173\n",
      "The score for number of neighbours = 28 is: 0.7966196423065064\n",
      "The score for number of neighbours = 29 is: 0.7987029756398396\n"
     ]
    }
   ],
   "source": [
    "from sklearn.neighbors import KNeighborsClassifier\n",
    "# 1. we will loop through reasonable values of k\n",
    "for k in k_range:\n",
    "    # 2. run KNeighborsClassifier with k neighbours\n",
    "    knn = KNeighborsClassifier(n_neighbors = k)\n",
    "    # 3. obtain cross_val_score for KNeighborsClassifier with k neighbours\n",
    "    scores = cross_val_score(knn, x, y, cv = 10, scoring='accuracy')\n",
    "    # 4. append mean of scores for k neighbors to k_scores list\n",
    "    k_scores.append(scores.mean())\n",
    "    \n",
    "    print(\"The score for number of neighbours =\", k, \"is:\", scores.mean())"
   ]
  },
  {
   "cell_type": "code",
   "execution_count": 10,
   "metadata": {
    "scrolled": true
   },
   "outputs": [
    {
     "name": "stdout",
     "output_type": "stream",
     "text": [
      "Length of list 29\n",
      "Max of list 0.8091196423065062\n"
     ]
    },
    {
     "data": {
      "text/plain": [
       "Text(0, 0.5, 'Cross-validated accuracy')"
      ]
     },
     "execution_count": 10,
     "metadata": {},
     "output_type": "execute_result"
    },
    {
     "data": {
      "image/png": "[encoded data removed]",
      "text/plain": [
       "<Figure size 432x288 with 1 Axes>"
      ]
     },
     "metadata": {
      "needs_background": "light"
     },
     "output_type": "display_data"
    }
   ],
   "source": [
    "# in essence, this is basically running the k-fold cross-validation method 30 times because\n",
    "# we want to run through K values from 1 to 30.\n",
    "# we should have 21 scores here\n",
    "print('Length of list', len(k_scores))\n",
    "print('Max of list', max(k_scores))\n",
    "\n",
    "# plot the value of K for KNN (x-axis) versus the cross-validated accuracy (y-axis)\n",
    "# plt.plot(x_axis, y_axis)\n",
    "plt.plot(k_range, k_scores)\n",
    "plt.xlabel('Value of K for KNN')\n",
    "plt.ylabel('Cross-validated accuracy')"
   ]
  }
 ],
 "metadata": {
  "kernelspec": {
   "display_name": "Python 3",
   "language": "python",
   "name": "python3"
  },
  "language_info": {
   "codemirror_mode": {
    "name": "ipython",
    "version": 3
   },
   "file_extension": ".py",
   "mimetype": "text/x-python",
   "name": "python",
   "nbconvert_exporter": "python",
   "pygments_lexer": "ipython3",
   "version": "3.6.8"
  }
 },
 "nbformat": 4,
 "nbformat_minor": 2
}
