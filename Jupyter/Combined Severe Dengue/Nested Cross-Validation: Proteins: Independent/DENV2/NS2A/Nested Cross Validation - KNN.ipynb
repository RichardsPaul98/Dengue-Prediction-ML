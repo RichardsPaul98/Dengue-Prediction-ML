{
 "cells": [
  {
   "cell_type": "code",
   "execution_count": 1,
   "metadata": {},
   "outputs": [],
   "source": [
    "# Importing the necessary libraries\n",
    "import pandas as pd\n",
    "import numpy as np\n",
    "import matplotlib.pyplot as plt"
   ]
  },
  {
   "cell_type": "code",
   "execution_count": 2,
   "metadata": {},
   "outputs": [],
   "source": [
    "# Importing the proteins data\n",
    "ns2a = []\n",
    "ns2ad = []\n",
    "        \n",
    "f = open(\"../../../../../../Data/Proteins/DENV2/NS2A/DENV2_NS2A.txt\", \"r\")\n",
    "for x in f:\n",
    "    if \"DSS\" in x:\n",
    "        ns2ad.append(1)\n",
    "    elif \"DHF\" in x:\n",
    "        ns2ad.append(1)\n",
    "    elif x[0] == \">\":\n",
    "        ns2ad.append(0)\n",
    "    else:\n",
    "        x = x.replace(\"\\n\", \"\")\n",
    "        ns2a.append(x)"
   ]
  },
  {
   "cell_type": "code",
   "execution_count": 3,
   "metadata": {},
   "outputs": [],
   "source": [
    "# Converting the arrays into DataFrames\n",
    "ns2a = pd.DataFrame(ns2a)\n",
    "\n",
    "# Attaching the \"Disease\" label column to the input\n",
    "ns2a[\"Disease\"] = ns2ad\n",
    "\n",
    "# Renaming the columns\n",
    "ns2a = ns2a.rename(index=str, columns={0: \"Sequence\", \"Disease\": \"Disease\"})"
   ]
  },
  {
   "cell_type": "code",
   "execution_count": 4,
   "metadata": {},
   "outputs": [
    {
     "name": "stdout",
     "output_type": "stream",
     "text": [
      "The combined shape of the given data is: (603, 2)\n",
      "The length of the combined data is: 603\n",
      "Does the combined data have any null value? -> False\n",
      "                                              Sequence  Disease\n",
      "113  GHGQIDNFSLGVLGMALFLEEMLRTRVGTKHAILLVAVSFVTLITG...        0\n",
      "291  GHGQIDNFSLGVLGMALFLEEMLRTRIGTKHAILLVAVSFVTLITG...        0\n",
      "596  GHGQIDNFSLGVLGMALFLEEMLRTRIGTKHAILLVAVSFVTLITG...        1\n",
      "569  GHGQVDNFSLGVLGMALFLEEMLRTRVGTKHAILLVAVSFVTLITG...        1\n",
      "131  GHGQIDNFSLGVLGMALFLEEMLRTRVGTKHAILLVAVSFVTLITG...        0\n"
     ]
    }
   ],
   "source": [
    "# Concatinating the input data into one DataFrame\n",
    "print(\"The combined shape of the given data is:\", str(ns2a.shape))\n",
    "print(\"The length of the combined data is:\", str(len(ns2a.index)))\n",
    "print(\"Does the combined data have any null value? ->\", ns2a.isnull().values.any())\n",
    "\n",
    "# ns2a = result.drop(columns = [0])\n",
    "# ns2a = result.dropna(how='any',axis=0) \n",
    "\n",
    "# Shuffling the data and then taking a peek\n",
    "ns2a = ns2a.sample(frac = 1)\n",
    "print(ns2a.head())"
   ]
  },
  {
   "cell_type": "code",
   "execution_count": 5,
   "metadata": {},
   "outputs": [],
   "source": [
    "# Function to convert sequence strings into k-mer words, default size = 6 (hexamer words)\n",
    "def getKmers(sequence, size = 6):\n",
    "    return [sequence[x:x+size].lower() for x in range(len(sequence) - size + 1)]\n",
    "\n",
    "ns2a['words'] = ns2a.apply(lambda x: getKmers(x['Sequence']), axis=1)\n",
    "ns2a = ns2a.drop('Sequence', axis=1)\n",
    "\n",
    "ns2a_texts = list(ns2a['words'])\n",
    "for item in range(len(ns2a_texts)):\n",
    "    ns2a_texts[item] = ' '.join(ns2a_texts[item])"
   ]
  },
  {
   "cell_type": "code",
   "execution_count": 6,
   "metadata": {},
   "outputs": [
    {
     "name": "stdout",
     "output_type": "stream",
     "text": [
      "The shape of y is: (603,)\n"
     ]
    }
   ],
   "source": [
    "# Creating y and printing the shape of it\n",
    "y = ns2a.iloc[:, 0].values\n",
    "print(\"The shape of y is:\", y.shape)"
   ]
  },
  {
   "cell_type": "code",
   "execution_count": 7,
   "metadata": {},
   "outputs": [
    {
     "name": "stdout",
     "output_type": "stream",
     "text": [
      "The shape of x matrix is: (603, 1220)\n"
     ]
    }
   ],
   "source": [
    "# Creating the Bag of Words model using CountVectorizer()\n",
    "# This is equivalent to k-mer counting\n",
    "# The n-gram size of 4 was previously determined by testing\n",
    "from sklearn.feature_extraction.text import CountVectorizer\n",
    "cv = CountVectorizer(ngram_range=(4,4))\n",
    "x = cv.fit_transform(ns2a_texts)\n",
    "\n",
    "# Print the shape of x\n",
    "print(\"The shape of x matrix is:\", x.shape)"
   ]
  },
  {
   "cell_type": "markdown",
   "metadata": {},
   "source": [
    "## Nested Cross-Validation"
   ]
  },
  {
   "cell_type": "code",
   "execution_count": 8,
   "metadata": {},
   "outputs": [],
   "source": [
    "from sklearn.model_selection import cross_val_score\n",
    "# search for an optimal value of K for KNN\n",
    "# range of k we want to try\n",
    "k_range = range(1, 30)\n",
    "# empty list to store scores\n",
    "k_scores = []"
   ]
  },
  {
   "cell_type": "code",
   "execution_count": 9,
   "metadata": {},
   "outputs": [
    {
     "name": "stdout",
     "output_type": "stream",
     "text": [
      "The score for number of neighbours = 1 is: 0.7629924979160878\n",
      "The score for number of neighbours = 2 is: 0.7646054459572103\n",
      "The score for number of neighbours = 3 is: 0.7581300361211447\n",
      "The score for number of neighbours = 4 is: 0.7479661016949153\n",
      "The score for number of neighbours = 5 is: 0.7430207465036583\n",
      "The score for number of neighbours = 6 is: 0.7412994350282485\n",
      "The score for number of neighbours = 7 is: 0.7545216263776975\n",
      "The score for number of neighbours = 8 is: 0.761272112623877\n",
      "The score for number of neighbours = 9 is: 0.7612438640363063\n",
      "The score for number of neighbours = 10 is: 0.7562985088450496\n",
      "The score for number of neighbours = 11 is: 0.7446582383995555\n",
      "The score for number of neighbours = 12 is: 0.7446309159951838\n",
      "The score for number of neighbours = 13 is: 0.7429906455496897\n",
      "The score for number of neighbours = 14 is: 0.7380179679540613\n",
      "The score for number of neighbours = 15 is: 0.7246253588959897\n",
      "The score for number of neighbours = 16 is: 0.7397666018338427\n",
      "The score for number of neighbours = 17 is: 0.7347383532462721\n",
      "The score for number of neighbours = 18 is: 0.739683708437529\n",
      "The score for number of neighbours = 19 is: 0.7279596184125221\n",
      "The score for number of neighbours = 20 is: 0.7362665555246828\n",
      "The score for number of neighbours = 21 is: 0.7296545336667593\n",
      "The score for number of neighbours = 22 is: 0.7362119107159397\n",
      "The score for number of neighbours = 23 is: 0.7295998888580162\n",
      "The score for number of neighbours = 24 is: 0.7346281374455867\n",
      "The score for number of neighbours = 25 is: 0.7312665555246828\n",
      "The score for number of neighbours = 26 is: 0.7295998888580162\n",
      "The score for number of neighbours = 27 is: 0.7345998888580161\n",
      "The score for number of neighbours = 28 is: 0.7295998888580162\n",
      "The score for number of neighbours = 29 is: 0.7312091321663424\n"
     ]
    }
   ],
   "source": [
    "from sklearn.neighbors import KNeighborsClassifier\n",
    "# 1. we will loop through reasonable values of k\n",
    "for k in k_range:\n",
    "    # 2. run KNeighborsClassifier with k neighbours\n",
    "    knn = KNeighborsClassifier(n_neighbors = k)\n",
    "    # 3. obtain cross_val_score for KNeighborsClassifier with k neighbours\n",
    "    scores = cross_val_score(knn, x, y, cv = 10, scoring='accuracy')\n",
    "    # 4. append mean of scores for k neighbors to k_scores list\n",
    "    k_scores.append(scores.mean())\n",
    "    \n",
    "    print(\"The score for number of neighbours =\", k, \"is:\", scores.mean())"
   ]
  },
  {
   "cell_type": "code",
   "execution_count": 10,
   "metadata": {
    "scrolled": true
   },
   "outputs": [
    {
     "name": "stdout",
     "output_type": "stream",
     "text": [
      "Length of list 29\n",
      "Max of list 0.7646054459572103\n"
     ]
    },
    {
     "data": {
      "text/plain": [
       "Text(0, 0.5, 'Cross-validated accuracy')"
      ]
     },
     "execution_count": 10,
     "metadata": {},
     "output_type": "execute_result"
    },
    {
     "data": {
      "image/png": "[encoded data removed]",
      "text/plain": [
       "<Figure size 432x288 with 1 Axes>"
      ]
     },
     "metadata": {
      "needs_background": "light"
     },
     "output_type": "display_data"
    }
   ],
   "source": [
    "# in essence, this is basically running the k-fold cross-validation method 30 times because\n",
    "# we want to run through K values from 1 to 30.\n",
    "# we should have 21 scores here\n",
    "print('Length of list', len(k_scores))\n",
    "print('Max of list', max(k_scores))\n",
    "\n",
    "# plot the value of K for KNN (x-axis) versus the cross-validated accuracy (y-axis)\n",
    "# plt.plot(x_axis, y_axis)\n",
    "plt.plot(k_range, k_scores)\n",
    "plt.xlabel('Value of K for KNN')\n",
    "plt.ylabel('Cross-validated accuracy')"
   ]
  }
 ],
 "metadata": {
  "kernelspec": {
   "display_name": "Python 3",
   "language": "python",
   "name": "python3"
  },
  "language_info": {
   "codemirror_mode": {
    "name": "ipython",
    "version": 3
   },
   "file_extension": ".py",
   "mimetype": "text/x-python",
   "name": "python",
   "nbconvert_exporter": "python",
   "pygments_lexer": "ipython3",
   "version": "3.6.8"
  }
 },
 "nbformat": 4,
 "nbformat_minor": 2
}
