{
 "cells": [
  {
   "cell_type": "code",
   "execution_count": 1,
   "metadata": {},
   "outputs": [],
   "source": [
    "# Importing the necessary libraries\n",
    "import pandas as pd\n",
    "import numpy as np\n",
    "import matplotlib.pyplot as plt"
   ]
  },
  {
   "cell_type": "code",
   "execution_count": 2,
   "metadata": {},
   "outputs": [],
   "source": [
    "# Importing the proteins data\n",
    "capsid = []\n",
    "capsidd = []\n",
    "        \n",
    "f = open(\"../../../../../../Data/Proteins/DENV1/Capsid/DENV1_capsid.txt\", \"r\")\n",
    "for x in f:\n",
    "    if \"DSS\" in x:\n",
    "        capsidd.append(1)\n",
    "    elif \"DHF\" in x:\n",
    "        capsidd.append(1)\n",
    "    elif x[0] == \">\":\n",
    "        capsidd.append(0)\n",
    "    else:\n",
    "        x = x.replace(\"\\n\", \"\")\n",
    "        capsid.append(x)"
   ]
  },
  {
   "cell_type": "code",
   "execution_count": 3,
   "metadata": {},
   "outputs": [],
   "source": [
    "# Converting the arrays into DataFrames\n",
    "capsid = pd.DataFrame(capsid)\n",
    "\n",
    "# Attaching the \"Disease\" label column to the input\n",
    "capsid[\"Disease\"] = capsidd\n",
    "\n",
    "# Renaming the columns\n",
    "capsid = capsid.rename(index=str, columns={0: \"Sequence\", \"Disease\": \"Disease\"})"
   ]
  },
  {
   "cell_type": "code",
   "execution_count": 4,
   "metadata": {},
   "outputs": [
    {
     "name": "stdout",
     "output_type": "stream",
     "text": [
      "The combined shape of the given data is: (999, 2)\n",
      "The length of the combined data is: 999\n",
      "                                              Sequence  Disease\n",
      "516  MNNQRKKTGRPSFNMLKRARNRVSTGSQLAKRFSKGLLSGQGPMKL...        0\n",
      "542  MNTQRKKTGRPSFNMLKRARNRVSTGSQLAKRFSKGLLSGQGPMKL...        0\n",
      "98   MNNQRKKTARPSFNMLKRARNRVSTVSQLAKRFSKGLLLGQGPMKL...        0\n",
      "713  MNNQRKKTARPSFNMLKRARNRVSTVSQLAKRFSKGLLSGQGPMKL...        1\n",
      "431  MNNQRKKTGRPSFNMLKRARNRVSTGSQLAKRFSKGLLSGQGPMKL...        0\n"
     ]
    }
   ],
   "source": [
    "# Concatinating the input data into one DataFrame\n",
    "print(\"The combined shape of the given data is:\", str(capsid.shape))\n",
    "print(\"The length of the combined data is:\", str(len(capsid.index)))\n",
    "\n",
    "# Shuffling the data and then taking a peek\n",
    "capsid = capsid.sample(frac = 1)\n",
    "print(capsid.head())"
   ]
  },
  {
   "cell_type": "code",
   "execution_count": 5,
   "metadata": {},
   "outputs": [],
   "source": [
    "# Function to convert sequence strings into k-mer words, default size = 6 (hexamer words)\n",
    "def getKmers(sequence, size = 6):\n",
    "    return [sequence[x:x+size].lower() for x in range(len(sequence) - size + 1)]\n",
    "\n",
    "capsid['words'] = capsid.apply(lambda x: getKmers(x['Sequence']), axis=1)\n",
    "capsid = capsid.drop('Sequence', axis=1)\n",
    "\n",
    "capsid_texts = list(capsid['words'])\n",
    "for item in range(len(capsid_texts)):\n",
    "    capsid_texts[item] = ' '.join(capsid_texts[item])"
   ]
  },
  {
   "cell_type": "code",
   "execution_count": 6,
   "metadata": {},
   "outputs": [
    {
     "name": "stdout",
     "output_type": "stream",
     "text": [
      "The shape of y is: (999,)\n"
     ]
    }
   ],
   "source": [
    "# Creating y and printing the shape of it\n",
    "y = capsid.iloc[:, 0].values\n",
    "print(\"The shape of y is:\", y.shape)"
   ]
  },
  {
   "cell_type": "code",
   "execution_count": 7,
   "metadata": {},
   "outputs": [
    {
     "name": "stdout",
     "output_type": "stream",
     "text": [
      "The shape of x matrix is: (999, 667)\n"
     ]
    }
   ],
   "source": [
    "# Creating the Bag of Words model using CountVectorizer()\n",
    "# This is equivalent to k-mer counting\n",
    "# The n-gram size of 4 was previously determined by testing\n",
    "from sklearn.feature_extraction.text import CountVectorizer\n",
    "cv = CountVectorizer(ngram_range=(4,4))\n",
    "x = cv.fit_transform(capsid_texts)\n",
    "\n",
    "# Print the shape of x\n",
    "print(\"The shape of x matrix is:\", x.shape)"
   ]
  },
  {
   "cell_type": "markdown",
   "metadata": {},
   "source": [
    "## Nested Cross-Validation"
   ]
  },
  {
   "cell_type": "code",
   "execution_count": 8,
   "metadata": {},
   "outputs": [],
   "source": [
    "from sklearn.model_selection import cross_val_score\n",
    "# search for an optimal value of C for Logistic Regression\n",
    "Tree_list = [10, 100, 1000, 2500, 5000]\n",
    "# empty list to store scores\n",
    "RF_scores = []"
   ]
  },
  {
   "cell_type": "code",
   "execution_count": 9,
   "metadata": {},
   "outputs": [
    {
     "name": "stdout",
     "output_type": "stream",
     "text": [
      "The score for 10 trees, is: 0.6176510651065106\n",
      "The score for 100 trees, is: 0.6176411641164116\n",
      "The score for 1000 trees, is: 0.6166209620962095\n",
      "The score for 2500 trees, is: 0.6176409640964096\n",
      "The score for 5000 trees, is: 0.6176409640964096\n"
     ]
    }
   ],
   "source": [
    "from sklearn.ensemble import RandomForestClassifier\n",
    "# 1. we will loop through reasonable values of k\n",
    "for trees in Tree_list:\n",
    "    # 2. run RandomForestClassifier with trees trees\n",
    "    lr = RandomForestClassifier(n_estimators = trees, criterion = 'entropy', random_state = 0)\n",
    "    # 3. obtain cross_val_score for RandomForestClassifier with trees trees\n",
    "    scores = cross_val_score(lr, x, y, cv = 10, scoring='accuracy')\n",
    "    # 4. append mean of scores for trees trees to RF_scores list\n",
    "    RF_scores.append(scores.mean())\n",
    "    \n",
    "    print(\"The score for\", trees, \"trees, is:\", scores.mean())"
   ]
  },
  {
   "cell_type": "code",
   "execution_count": 10,
   "metadata": {},
   "outputs": [],
   "source": [
    "# search for an optimal value of C for Logistic Regression\n",
    "Tree_list2 = [6, 7, 8, 9, 11, 12, 13, 14]\n",
    "# empty list to store scores\n",
    "RF_scores2 = []"
   ]
  },
  {
   "cell_type": "code",
   "execution_count": 11,
   "metadata": {},
   "outputs": [
    {
     "name": "stdout",
     "output_type": "stream",
     "text": [
      "The score for 6 trees, is: 0.6034496449644965\n",
      "The score for 7 trees, is: 0.6084599459945995\n",
      "The score for 8 trees, is: 0.6064698469846984\n",
      "The score for 9 trees, is: 0.6125504550455044\n",
      "The score for 11 trees, is: 0.6176510651065106\n",
      "The score for 12 trees, is: 0.6206310631063106\n",
      "The score for 13 trees, is: 0.6186409640964096\n",
      "The score for 14 trees, is: 0.6176409640964096\n"
     ]
    }
   ],
   "source": [
    "# 1. we will loop through reasonable values of k\n",
    "for trees in Tree_list2:\n",
    "    # 2. run RandomForestClassifier with trees trees\n",
    "    lr = RandomForestClassifier(n_estimators = trees, criterion = 'entropy', random_state = 0)\n",
    "    # 3. obtain cross_val_score for RandomForestClassifier with trees trees\n",
    "    scores = cross_val_score(lr, x, y, cv = 10, scoring='accuracy')\n",
    "    # 4. append mean of scores for trees trees to RF_scores list\n",
    "    RF_scores2.append(scores.mean())\n",
    "    \n",
    "    print(\"The score for\", trees, \"trees, is:\", scores.mean())"
   ]
  }
 ],
 "metadata": {
  "kernelspec": {
   "display_name": "Python 3",
   "language": "python",
   "name": "python3"
  },
  "language_info": {
   "codemirror_mode": {
    "name": "ipython",
    "version": 3
   },
   "file_extension": ".py",
   "mimetype": "text/x-python",
   "name": "python",
   "nbconvert_exporter": "python",
   "pygments_lexer": "ipython3",
   "version": "3.6.8"
  }
 },
 "nbformat": 4,
 "nbformat_minor": 2
}
