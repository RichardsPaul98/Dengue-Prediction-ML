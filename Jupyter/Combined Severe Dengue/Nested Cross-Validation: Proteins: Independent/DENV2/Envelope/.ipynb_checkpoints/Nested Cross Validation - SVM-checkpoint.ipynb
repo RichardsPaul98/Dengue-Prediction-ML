{
 "cells": [
  {
   "cell_type": "code",
   "execution_count": 1,
   "metadata": {},
   "outputs": [],
   "source": [
    "# Importing the necessary libraries\n",
    "import pandas as pd\n",
    "import numpy as np\n",
    "import matplotlib.pyplot as plt"
   ]
  },
  {
   "cell_type": "code",
   "execution_count": 2,
   "metadata": {},
   "outputs": [],
   "source": [
    "# Importing the proteins data\n",
    "envelope = []\n",
    "enveloped = []\n",
    "        \n",
    "f = open(\"../../../../../../Data/Proteins/DENV2/Envelope/DENV2_envelope.txt\", \"r\")\n",
    "for x in f:\n",
    "    if \"DSS\" in x:\n",
    "        enveloped.append(1)\n",
    "    elif \"DHF\" in x:\n",
    "        enveloped.append(1)\n",
    "    elif x[0] == \">\":\n",
    "        enveloped.append(0)\n",
    "    else:\n",
    "        x = x.replace(\"\\n\", \"\")\n",
    "        envelope.append(x)"
   ]
  },
  {
   "cell_type": "code",
   "execution_count": 3,
   "metadata": {},
   "outputs": [],
   "source": [
    "# Converting the arrays into DataFrames\n",
    "envelope = pd.DataFrame(envelope)\n",
    "\n",
    "# Attaching the \"Disease\" label column to the input\n",
    "envelope[\"Disease\"] = enveloped\n",
    "\n",
    "# Renaming the columns\n",
    "envelope = envelope.rename(index=str, columns={0: \"Sequence\", \"Disease\": \"Disease\"})"
   ]
  },
  {
   "cell_type": "code",
   "execution_count": 4,
   "metadata": {},
   "outputs": [
    {
     "name": "stdout",
     "output_type": "stream",
     "text": [
      "The combined shape of the given data is: (603, 2)\n",
      "The length of the combined data is: 603\n",
      "                                              Sequence  Disease\n",
      "182  MRCIGISNRDFVEGVSGGSWVDIVLEHGSCVTTMAKNKPTLDFELI...        0\n",
      "225  MRCIGISNRDFVEGVSGGSWVDIVLEHGSCVTTMAKNKPTLDFELI...        0\n",
      "340  MRCIGISNRDFVEGVSGGSWVDIVLEHGSCVTTMAKNKPTLDFELI...        0\n",
      "228  MRCIGISNRDFVEGVSGGSWVDIVLEHGSCVTTMAKNKPTLDFELI...        0\n",
      "88   MRCIGISNRDFVEGVSGGSWVDIVLEHGSCVTTMAKNKPTLDFELI...        0\n"
     ]
    }
   ],
   "source": [
    "# Concatinating the input data into one DataFrame\n",
    "print(\"The combined shape of the given data is:\", str(envelope.shape))\n",
    "print(\"The length of the combined data is:\", str(len(envelope.index)))\n",
    "\n",
    "# Shuffling the data and then taking a peek\n",
    "envelope = envelope.sample(frac = 1)\n",
    "print(envelope.head())"
   ]
  },
  {
   "cell_type": "code",
   "execution_count": 5,
   "metadata": {},
   "outputs": [],
   "source": [
    "# Function to convert sequence strings into k-mer words, default size = 6 (hexamer words)\n",
    "def getKmers(sequence, size = 6):\n",
    "    return [sequence[x:x+size].lower() for x in range(len(sequence) - size + 1)]\n",
    "\n",
    "envelope['words'] = envelope.apply(lambda x: getKmers(x['Sequence']), axis=1)\n",
    "envelope = envelope.drop('Sequence', axis=1)\n",
    "\n",
    "envelope_texts = list(envelope['words'])\n",
    "for item in range(len(envelope_texts)):\n",
    "    envelope_texts[item] = ' '.join(envelope_texts[item])"
   ]
  },
  {
   "cell_type": "code",
   "execution_count": 6,
   "metadata": {},
   "outputs": [
    {
     "name": "stdout",
     "output_type": "stream",
     "text": [
      "The shape of y is: (603,)\n"
     ]
    }
   ],
   "source": [
    "# Creating y and printing the shape of it\n",
    "y = envelope.iloc[:, 0].values\n",
    "print(\"The shape of y is:\", y.shape)"
   ]
  },
  {
   "cell_type": "code",
   "execution_count": 7,
   "metadata": {},
   "outputs": [
    {
     "name": "stdout",
     "output_type": "stream",
     "text": [
      "The shape of x matrix is: (603, 1818)\n"
     ]
    }
   ],
   "source": [
    "# Creating the Bag of Words model using CountVectorizer()\n",
    "# This is equivalent to k-mer counting\n",
    "# The n-gram size of 4 was previously determined by testing\n",
    "from sklearn.feature_extraction.text import CountVectorizer\n",
    "cv = CountVectorizer(ngram_range=(4,4))\n",
    "x = cv.fit_transform(envelope_texts)\n",
    "\n",
    "# Print the shape of x\n",
    "print(\"The shape of x matrix is:\", x.shape)"
   ]
  },
  {
   "cell_type": "markdown",
   "metadata": {},
   "source": [
    "## Nested Cross-Validation"
   ]
  },
  {
   "cell_type": "code",
   "execution_count": 8,
   "metadata": {},
   "outputs": [],
   "source": [
    "from sklearn.model_selection import cross_val_score\n",
    "from sklearn.svm import SVC\n",
    "# search for an optimal value of C for Logistic Regression\n",
    "C_list = [0.0001, 0.001, 0.01, 0.1, 1, 10, 100, 1000]\n",
    "# empty list to store scores\n",
    "C_scores = []"
   ]
  },
  {
   "cell_type": "code",
   "execution_count": 9,
   "metadata": {},
   "outputs": [
    {
     "name": "stdout",
     "output_type": "stream",
     "text": [
      "The score for C = 0.0001 is: 0.6368111512457164\n",
      "The score for C = 0.001 is: 0.73337501157729\n",
      "The score for C = 0.01 is: 0.7731582847087154\n",
      "The score for C = 0.1 is: 0.7680744651292025\n",
      "The score for C = 1 is: 0.764686486987126\n",
      "The score for C = 10 is: 0.764686486987126\n",
      "The score for C = 100 is: 0.764686486987126\n",
      "The score for C = 1000 is: 0.764686486987126\n"
     ]
    }
   ],
   "source": [
    "# 1. we will loop through reasonable values of C\n",
    "for c in C_list:\n",
    "    # 2. run SVM with C = c\n",
    "    svm = SVC(C = c, random_state = 0, kernel = \"linear\")\n",
    "    # 3. obtain cross_val_score for SVM with C = c\n",
    "    scores = cross_val_score(svm, x, y, cv = 10, scoring = \"accuracy\")\n",
    "    # 4. append mean of scores for C = c to C_scores list\n",
    "    C_scores.append(scores.mean())\n",
    "    \n",
    "    print(\"The score for C =\", c, \"is:\", scores.mean())"
   ]
  },
  {
   "cell_type": "code",
   "execution_count": 10,
   "metadata": {},
   "outputs": [],
   "source": [
    "# search for an optimal value of C for Logistic Regression\n",
    "C_list2 = [0.008, 0.012]\n",
    "# empty list to store scores\n",
    "C_scores2 = []"
   ]
  },
  {
   "cell_type": "code",
   "execution_count": 11,
   "metadata": {},
   "outputs": [
    {
     "name": "stdout",
     "output_type": "stream",
     "text": [
      "The score for C = 0.008 is: 0.7714916180420487\n",
      "The score for C = 0.012 is: 0.7698522737797535\n"
     ]
    }
   ],
   "source": [
    "# 1. we will loop through reasonable values of C\n",
    "for c in C_list2:\n",
    "    # 2. run SVM with C = c\n",
    "    svm = SVC(C = c, random_state = 0, kernel = \"linear\")\n",
    "    # 3. obtain cross_val_score for SVM with C = c\n",
    "    scores = cross_val_score(svm, x, y, cv = 10, scoring = \"accuracy\")\n",
    "    # 4. append mean of scores for C = c to C_scores list\n",
    "    C_scores2.append(scores.mean())\n",
    "    \n",
    "    print(\"The score for C =\", c, \"is:\", scores.mean())"
   ]
  }
 ],
 "metadata": {
  "kernelspec": {
   "display_name": "Python 3",
   "language": "python",
   "name": "python3"
  },
  "language_info": {
   "codemirror_mode": {
    "name": "ipython",
    "version": 3
   },
   "file_extension": ".py",
   "mimetype": "text/x-python",
   "name": "python",
   "nbconvert_exporter": "python",
   "pygments_lexer": "ipython3",
   "version": "3.6.8"
  }
 },
 "nbformat": 4,
 "nbformat_minor": 2
}
