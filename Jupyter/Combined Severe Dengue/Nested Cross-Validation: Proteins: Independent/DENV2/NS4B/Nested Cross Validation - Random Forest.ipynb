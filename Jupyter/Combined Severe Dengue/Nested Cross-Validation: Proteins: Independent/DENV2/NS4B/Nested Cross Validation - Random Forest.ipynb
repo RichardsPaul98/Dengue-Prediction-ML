{
 "cells": [
  {
   "cell_type": "code",
   "execution_count": 1,
   "metadata": {},
   "outputs": [],
   "source": [
    "# Importing the necessary libraries\n",
    "import pandas as pd\n",
    "import numpy as np\n",
    "import matplotlib.pyplot as plt"
   ]
  },
  {
   "cell_type": "code",
   "execution_count": 2,
   "metadata": {},
   "outputs": [],
   "source": [
    "# Importing the proteins data\n",
    "ns4b = []\n",
    "ns4bd = []\n",
    "\n",
    "f = open(\"../../../../../../Data/Proteins/DENV2/NS4B/DENV2_NS4B.txt\", \"r\")\n",
    "for x in f:\n",
    "    if \"DSS\" in x:\n",
    "        ns4bd.append(1)\n",
    "    elif \"DHF\" in x:\n",
    "        ns4bd.append(1)\n",
    "    elif x[0] == \">\":\n",
    "        ns4bd.append(0)\n",
    "    else:\n",
    "        x = x.replace(\"\\n\", \"\")\n",
    "        ns4b.append(x)"
   ]
  },
  {
   "cell_type": "code",
   "execution_count": 3,
   "metadata": {},
   "outputs": [],
   "source": [
    "# Converting the arrays into DataFrames\n",
    "ns4b = pd.DataFrame(ns4b)\n",
    "\n",
    "# Attaching the \"Disease\" label column to the input\n",
    "ns4b[\"Disease\"] = ns4bd\n",
    "\n",
    "# Renaming the columns\n",
    "ns4b = ns4b.rename(index=str, columns={0: \"Sequence\", \"Disease\": \"Disease\"})"
   ]
  },
  {
   "cell_type": "code",
   "execution_count": 4,
   "metadata": {},
   "outputs": [
    {
     "name": "stdout",
     "output_type": "stream",
     "text": [
      "The combined shape of the given data is: (603, 2)\n",
      "The length of the combined data is: 603\n",
      "Does the combined data have any null value? -> False\n",
      "                                              Sequence  Disease\n",
      "292  NEMGFLEKTKKDLGLGSITTQESESNILDIDLRPASAWTLYAVATT...        0\n",
      "425  NEMGFLEKTKKDLGLGSITTQESESNILDIDLRPASAWTLYAVATT...        1\n",
      "111  NEMGFLEKTKKDLGLGSITTQESESNILDIDLRPASAWTLYAVATT...        0\n",
      "513  NEMGFLEKTKKDLGLGSIATQQPESNILDIDLRPASAWTLYAVATT...        1\n",
      "57   NEMGFLEKTKKDLGLGSITTQESESNILDIDLRPASAWTLYAVATT...        0\n"
     ]
    }
   ],
   "source": [
    "# Concatinating the input data into one DataFrame\n",
    "print(\"The combined shape of the given data is:\", str(ns4b.shape))\n",
    "print(\"The length of the combined data is:\", str(len(ns4b.index)))\n",
    "print(\"Does the combined data have any null value? ->\", ns4b.isnull().values.any())\n",
    "\n",
    "# Shuffling the data and then taking a peek\n",
    "ns4b = ns4b.sample(frac = 1)\n",
    "print(ns4b.head())"
   ]
  },
  {
   "cell_type": "code",
   "execution_count": 5,
   "metadata": {},
   "outputs": [],
   "source": [
    "# Function to convert sequence strings into k-mer words, default size = 6 (hexamer words)\n",
    "def getKmers(sequence, size = 6):\n",
    "    return [sequence[x:x+size].lower() for x in range(len(sequence) - size + 1)]\n",
    "\n",
    "ns4b['words'] = ns4b.apply(lambda x: getKmers(x['Sequence']), axis=1)\n",
    "ns4b = ns4b.drop('Sequence', axis=1)\n",
    "\n",
    "ns4b_texts = list(ns4b['words'])\n",
    "for item in range(len(ns4b_texts)):\n",
    "    ns4b_texts[item] = ' '.join(ns4b_texts[item])"
   ]
  },
  {
   "cell_type": "code",
   "execution_count": 6,
   "metadata": {},
   "outputs": [
    {
     "name": "stdout",
     "output_type": "stream",
     "text": [
      "The shape of y is: (603,)\n"
     ]
    }
   ],
   "source": [
    "# Creating y and printing the shape of it\n",
    "y = ns4b.iloc[:, 0].values\n",
    "print(\"The shape of y is:\", y.shape)"
   ]
  },
  {
   "cell_type": "code",
   "execution_count": 7,
   "metadata": {},
   "outputs": [
    {
     "name": "stdout",
     "output_type": "stream",
     "text": [
      "The shape of x matrix is: (603, 883)\n"
     ]
    }
   ],
   "source": [
    "# Creating the Bag of Words model using CountVectorizer()\n",
    "# This is equivalent to k-mer counting\n",
    "# The n-gram size of 4 was previously determined by testing\n",
    "from sklearn.feature_extraction.text import CountVectorizer\n",
    "cv = CountVectorizer(ngram_range=(4,4))\n",
    "x = cv.fit_transform(ns4b_texts)\n",
    "\n",
    "# Print the shape of x\n",
    "print(\"The shape of x matrix is:\", x.shape)"
   ]
  },
  {
   "cell_type": "markdown",
   "metadata": {},
   "source": [
    "## Nested Cross-Validation"
   ]
  },
  {
   "cell_type": "code",
   "execution_count": 8,
   "metadata": {},
   "outputs": [],
   "source": [
    "from sklearn.model_selection import cross_val_score\n",
    "# search for an optimal value of C for Logistic Regression\n",
    "Tree_list = [10, 100, 1000, 2500, 5000]\n",
    "# empty list to store scores\n",
    "RF_scores = []"
   ]
  },
  {
   "cell_type": "code",
   "execution_count": 9,
   "metadata": {},
   "outputs": [
    {
     "name": "stdout",
     "output_type": "stream",
     "text": [
      "The score for 10 trees, is: 0.749823099008984\n",
      "The score for 100 trees, is: 0.7497684542002407\n",
      "The score for 1000 trees, is: 0.7547138093914977\n",
      "The score for 2500 trees, is: 0.7547138093914977\n",
      "The score for 5000 trees, is: 0.7547138093914977\n"
     ]
    }
   ],
   "source": [
    "from sklearn.ensemble import RandomForestClassifier\n",
    "# 1. we will loop through reasonable values of k\n",
    "for trees in Tree_list:\n",
    "    # 2. run RandomForestClassifier with trees trees\n",
    "    lr = RandomForestClassifier(n_estimators = trees, criterion = 'entropy', random_state = 0)\n",
    "    # 3. obtain cross_val_score for RandomForestClassifier with trees trees\n",
    "    scores = cross_val_score(lr, x, y, cv = 10, scoring='accuracy')\n",
    "    # 4. append mean of scores for trees trees to RF_scores list\n",
    "    RF_scores.append(scores.mean())\n",
    "    \n",
    "    print(\"The score for\", trees, \"trees, is:\", scores.mean())"
   ]
  }
 ],
 "metadata": {
  "kernelspec": {
   "display_name": "Python 3",
   "language": "python",
   "name": "python3"
  },
  "language_info": {
   "codemirror_mode": {
    "name": "ipython",
    "version": 3
   },
   "file_extension": ".py",
   "mimetype": "text/x-python",
   "name": "python",
   "nbconvert_exporter": "python",
   "pygments_lexer": "ipython3",
   "version": "3.6.8"
  }
 },
 "nbformat": 4,
 "nbformat_minor": 2
}
