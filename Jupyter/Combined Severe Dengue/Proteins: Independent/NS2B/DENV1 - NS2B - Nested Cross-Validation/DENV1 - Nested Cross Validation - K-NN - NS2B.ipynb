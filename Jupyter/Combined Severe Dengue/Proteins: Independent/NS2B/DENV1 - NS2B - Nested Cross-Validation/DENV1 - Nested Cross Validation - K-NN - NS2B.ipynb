{
 "cells": [
  {
   "cell_type": "code",
   "execution_count": 1,
   "metadata": {},
   "outputs": [],
   "source": [
    "# Importing the necessary libraries\n",
    "import pandas as pd\n",
    "import numpy as np\n",
    "import random\n",
    "import re\n",
    "import matplotlib.pyplot as plt"
   ]
  },
  {
   "cell_type": "code",
   "execution_count": 2,
   "metadata": {},
   "outputs": [],
   "source": [
    "# Importing the proteins data\n",
    "ns2b = []\n",
    "ns2bd = []\n",
    "       \n",
    "f = open(\"../../../../../../Data/Proteins/DENV1/NS2B/DENV1_NS2B.txt\", \"r\")\n",
    "for x in f:\n",
    "    if \"DSS\" in x:\n",
    "        ns2bd.append(1)\n",
    "    elif \"DHF\" in x:\n",
    "        ns2bd.append(1)\n",
    "    elif x[0] == \">\":\n",
    "        ns2bd.append(0)\n",
    "    else:\n",
    "        x = x.replace(\"\\n\", \"\")\n",
    "        ns2b.append(x)"
   ]
  },
  {
   "cell_type": "code",
   "execution_count": 3,
   "metadata": {},
   "outputs": [],
   "source": [
    "# Converting the arrays into DataFrames\n",
    "ns2b = pd.DataFrame(ns2b)\n",
    "\n",
    "# Attaching the \"Disease\" label column to the inpu\n",
    "ns2b[\"Disease\"] = ns2bd\n",
    "\n",
    "# Renaming the columns\n",
    "ns2b = ns2b.rename(index=str, columns={0: \"Sequence\", \"Disease\": \"Disease\"})"
   ]
  },
  {
   "cell_type": "code",
   "execution_count": 4,
   "metadata": {},
   "outputs": [
    {
     "name": "stdout",
     "output_type": "stream",
     "text": [
      "The combined shape of the given data is: (999, 2)\n",
      "The length of the combined data is: 999\n",
      "Does the combined data have any null value? -> False\n",
      "                                              Sequence  Disease\n",
      "873  GSGEVDSFSLGLLCISIMIEEVMRSRWSRKMLMTGTLAVFFLLIMG...        1\n",
      "467  GSGEVDSFSLGILCASIMIEEVMRSRWSRKMLMTGTLAVFLLLVMG...        0\n",
      "20   GSGEVDSFSLGLLCISIMIEEVMRSRWSRKMLMTGTLAVIFLLIMG...        0\n",
      "211  GSGEVDSFSLGLLCISIMIEEVMRSRWSRKMLMTGTLAVFFLLIMG...        0\n",
      "517  GSGEVDSFSLGILCASIMIEEVMRSRWSRKMLMIGTLAVFLLLVMG...        0\n"
     ]
    }
   ],
   "source": [
    "print(\"The combined shape of the given data is:\", str(ns2b.shape))\n",
    "print(\"The length of the combined data is:\", str(len(ns2b.index)))\n",
    "print(\"Does the combined data have any null value? ->\", ns2b.isnull().values.any())\n",
    "\n",
    "ns2b = ns2b.dropna(how = 'any',axis = 0) \n",
    "\n",
    "# Shuffling the data and then taking a peek\n",
    "ns2b = ns2b.sample(frac = 1)\n",
    "print(ns2b.head())"
   ]
  },
  {
   "cell_type": "code",
   "execution_count": 5,
   "metadata": {},
   "outputs": [],
   "source": [
    "# Function to convert sequence strings into k-mer words, default size = 6 (hexamer words)\n",
    "def getKmers(sequence, size = 6):\n",
    "    return [sequence[x:x + size].lower() for x in range(len(sequence) - size + 1)]\n",
    "\n",
    "ns2b['words'] = ns2b.apply(lambda x: getKmers(x['Sequence']), axis=1)\n",
    "ns2b = ns2b.drop('Sequence', axis=1)\n",
    "\n",
    "ns2b_texts = list(ns2b['words'])\n",
    "for item in range(len(ns2b_texts)):\n",
    "    ns2b_texts[item] = ' '.join(ns2b_texts[item])"
   ]
  },
  {
   "cell_type": "code",
   "execution_count": 6,
   "metadata": {},
   "outputs": [
    {
     "name": "stdout",
     "output_type": "stream",
     "text": [
      "The shape of y is: (999,)\n"
     ]
    },
    {
     "data": {
      "text/plain": [
       "<matplotlib.axes._subplots.AxesSubplot at 0x7f6a58b5a1d0>"
      ]
     },
     "execution_count": 6,
     "metadata": {},
     "output_type": "execute_result"
    },
    {
     "data": {
      "image/png": "[encoded data removed]",
      "text/plain": [
       "<Figure size 432x288 with 1 Axes>"
      ]
     },
     "metadata": {
      "needs_background": "light"
     },
     "output_type": "display_data"
    }
   ],
   "source": [
    "# Creating y and printing the shape of it\n",
    "y = ns2b.iloc[:, 0].values\n",
    "print(\"The shape of y is:\", y.shape)\n",
    "\n",
    "# Checking the balance of the disease severity\n",
    "ns2b[\"Disease\"].value_counts().sort_index().plot.bar()"
   ]
  },
  {
   "cell_type": "code",
   "execution_count": 7,
   "metadata": {},
   "outputs": [
    {
     "name": "stdout",
     "output_type": "stream",
     "text": [
      "The shape of x matrix is: (999, 1585)\n"
     ]
    }
   ],
   "source": [
    "# Creating the Bag of Words model using CountVectorizer()\n",
    "# This is equivalent to k-mer counting\n",
    "# The n-gram size of 4 was previously determined by testing\n",
    "from sklearn.feature_extraction.text import CountVectorizer\n",
    "cv = CountVectorizer(ngram_range = (4,4))\n",
    "x = cv.fit_transform(ns2b_texts)\n",
    "\n",
    "# Print the shape of x\n",
    "print(\"The shape of x matrix is:\", x.shape)"
   ]
  },
  {
   "cell_type": "markdown",
   "metadata": {},
   "source": [
    "## Nested Cross-Validation"
   ]
  },
  {
   "cell_type": "code",
   "execution_count": 8,
   "metadata": {},
   "outputs": [],
   "source": [
    "from sklearn.model_selection import cross_val_score\n",
    "# search for an optimal value of K for KNN\n",
    "# range of k we want to try\n",
    "k_range = range(1, 30)\n",
    "# empty list to store scores\n",
    "k_scores = []"
   ]
  },
  {
   "cell_type": "code",
   "execution_count": 9,
   "metadata": {},
   "outputs": [
    {
     "name": "stdout",
     "output_type": "stream",
     "text": [
      "The score for number of neighbours = 1 is: 0.5705080508050806\n",
      "The score for number of neighbours = 2 is: 0.6045302530253025\n",
      "The score for number of neighbours = 3 is: 0.5876498649864986\n",
      "The score for number of neighbours = 4 is: 0.5827098709870986\n",
      "The score for number of neighbours = 5 is: 0.5647991799179918\n",
      "The score for number of neighbours = 6 is: 0.5817601760176018\n",
      "The score for number of neighbours = 7 is: 0.5737997799779979\n",
      "The score for number of neighbours = 8 is: 0.5848504850485048\n",
      "The score for number of neighbours = 9 is: 0.5817700770077008\n",
      "The score for number of neighbours = 10 is: 0.6028512851285128\n",
      "The score for number of neighbours = 11 is: 0.5817496749674967\n",
      "The score for number of neighbours = 12 is: 0.6077815781578157\n",
      "The score for number of neighbours = 13 is: 0.5907902790279027\n",
      "The score for number of neighbours = 14 is: 0.6047611761176117\n",
      "The score for number of neighbours = 15 is: 0.5957102710271027\n",
      "The score for number of neighbours = 16 is: 0.6027704770477047\n",
      "The score for number of neighbours = 17 is: 0.5947902790279028\n",
      "The score for number of neighbours = 18 is: 0.6048312831283128\n",
      "The score for number of neighbours = 19 is: 0.5897201720172017\n",
      "The score for number of neighbours = 20 is: 0.5958409840984098\n",
      "The score for number of neighbours = 21 is: 0.5847298729872987\n",
      "The score for number of neighbours = 22 is: 0.5967906790679068\n",
      "The score for number of neighbours = 23 is: 0.5916904690469047\n",
      "The score for number of neighbours = 24 is: 0.5877801780178018\n",
      "The score for number of neighbours = 25 is: 0.5906902690269027\n",
      "The score for number of neighbours = 26 is: 0.5877401740174018\n",
      "The score for number of neighbours = 27 is: 0.5888102810281027\n",
      "The score for number of neighbours = 28 is: 0.5918106810681069\n",
      "The score for number of neighbours = 29 is: 0.6017613761376137\n"
     ]
    }
   ],
   "source": [
    "from sklearn.neighbors import KNeighborsClassifier\n",
    "# 1. we will loop through reasonable values of k\n",
    "for k in k_range:\n",
    "    # 2. run KNeighborsClassifier with k neighbours\n",
    "    knn = KNeighborsClassifier(n_neighbors = k)\n",
    "    # 3. obtain cross_val_score for KNeighborsClassifier with k neighbours\n",
    "    scores = cross_val_score(knn, x, y, cv = 10, scoring='accuracy')\n",
    "    # 4. append mean of scores for k neighbors to k_scores list\n",
    "    k_scores.append(scores.mean())\n",
    "    \n",
    "    print(\"The score for number of neighbours =\", k, \"is:\", scores.mean())"
   ]
  },
  {
   "cell_type": "code",
   "execution_count": 10,
   "metadata": {
    "scrolled": true
   },
   "outputs": [
    {
     "name": "stdout",
     "output_type": "stream",
     "text": [
      "Length of list 29\n",
      "Max of list 0.6077815781578157\n"
     ]
    },
    {
     "data": {
      "text/plain": [
       "Text(0, 0.5, 'Cross-validated accuracy')"
      ]
     },
     "execution_count": 10,
     "metadata": {},
     "output_type": "execute_result"
    },
    {
     "data": {
      "image/png": "[encoded data removed]",
      "text/plain": [
       "<Figure size 432x288 with 1 Axes>"
      ]
     },
     "metadata": {
      "needs_background": "light"
     },
     "output_type": "display_data"
    }
   ],
   "source": [
    "# in essence, this is basically running the k-fold cross-validation method 30 times because\n",
    "# we want to run through K values from 1 to 30.\n",
    "# we should have 21 scores here\n",
    "print('Length of list', len(k_scores))\n",
    "print('Max of list', max(k_scores))\n",
    "\n",
    "# plot the value of K for KNN (x-axis) versus the cross-validated accuracy (y-axis)\n",
    "# plt.plot(x_axis, y_axis)\n",
    "plt.plot(k_range, k_scores)\n",
    "plt.xlabel('Value of K for KNN')\n",
    "plt.ylabel('Cross-validated accuracy')"
   ]
  }
 ],
 "metadata": {
  "kernelspec": {
   "display_name": "Python 3",
   "language": "python",
   "name": "python3"
  },
  "language_info": {
   "codemirror_mode": {
    "name": "ipython",
    "version": 3
   },
   "file_extension": ".py",
   "mimetype": "text/x-python",
   "name": "python",
   "nbconvert_exporter": "python",
   "pygments_lexer": "ipython3",
   "version": "3.7.3"
  }
 },
 "nbformat": 4,
 "nbformat_minor": 2
}
