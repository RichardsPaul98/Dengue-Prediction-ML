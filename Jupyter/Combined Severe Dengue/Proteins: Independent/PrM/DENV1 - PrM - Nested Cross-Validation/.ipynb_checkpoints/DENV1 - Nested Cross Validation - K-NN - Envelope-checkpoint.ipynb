{
 "cells": [
  {
   "cell_type": "code",
   "execution_count": 1,
   "metadata": {},
   "outputs": [],
   "source": [
    "# Importing the necessary libraries\n",
    "import pandas as pd\n",
    "import numpy as np\n",
    "import random\n",
    "import re\n",
    "import matplotlib.pyplot as plt"
   ]
  },
  {
   "cell_type": "code",
   "execution_count": 2,
   "metadata": {},
   "outputs": [],
   "source": [
    "# Importing the proteins data\n",
    "envelope = []\n",
    "enveloped = []\n",
    "\n",
    "f = open(\"../../../../../../Data/Proteins/DENV1/Envelope/DENV1_envelope.txt\", \"r\")\n",
    "for x in f:   \n",
    "    if \"DSS\" in x:\n",
    "        enveloped.append(1)\n",
    "    elif \"DHF\" in x:\n",
    "        enveloped.append(1)\n",
    "    elif x[0] == \">\":\n",
    "        enveloped.append(0)\n",
    "    else:\n",
    "        x = x.replace(\"\\n\", \"\")\n",
    "        envelope.append(x)"
   ]
  },
  {
   "cell_type": "code",
   "execution_count": 3,
   "metadata": {},
   "outputs": [],
   "source": [
    "# Converting the array into DataFrames\n",
    "envelope = pd.DataFrame(envelope)\n",
    "\n",
    "# Attaching the \"Disease\" label column to the input\n",
    "envelope[\"Disease\"] = enveloped\n",
    "\n",
    "# Renaming the columns\n",
    "envelope = envelope.rename(index=str, columns={0: \"Sequence\", \"Disease\": \"Disease\"})"
   ]
  },
  {
   "cell_type": "code",
   "execution_count": 4,
   "metadata": {},
   "outputs": [
    {
     "name": "stdout",
     "output_type": "stream",
     "text": [
      "The combined shape of the given data is: (999, 2)\n",
      "The length of the combined data is: 999\n",
      "Does the combined data have any null value? -> False\n",
      "                                              Sequence  Disease\n",
      "68   MRCVGIGSRDFVEGLSGATWVDVVLEHGSCVTTMAKDKPTLDIELL...        0\n",
      "664  MRCVGIGSRDFVEGLSGATWVDVVLEHGSCVTTMAKDKPTLDIELL...        1\n",
      "755  MRCVGIGSRDFVEGLSGATWVDVVLEHGSCVTTMAKDKPTLDIELL...        1\n",
      "572  MRCVGIGNRDFVEGLSGATWVDVVLEHGSCVTTMAKDKPTLDIELL...        0\n",
      "360  MRCVGIGSRDFVEGLSGATWVDVVLEHGSCVTTMAKDKPTLDIELL...        0\n"
     ]
    }
   ],
   "source": [
    "print(\"The combined shape of the given data is:\", str(envelope.shape))\n",
    "print(\"The length of the combined data is:\", str(len(envelope.index)))\n",
    "print(\"Does the combined data have any null value? ->\", envelope.isnull().values.any())\n",
    "\n",
    "envelope = envelope.dropna(how = 'any',axis = 0) \n",
    "\n",
    "# Shuffling the data and then taking a peek\n",
    "envelope = envelope.sample(frac = 1)\n",
    "print(envelope.head())"
   ]
  },
  {
   "cell_type": "code",
   "execution_count": 5,
   "metadata": {},
   "outputs": [],
   "source": [
    "# Function to convert sequence strings into k-mer words, default size = 6 (hexamer words)\n",
    "def getKmers(sequence, size = 6):\n",
    "    return [sequence[x:x + size].lower() for x in range(len(sequence) - size + 1)]\n",
    "\n",
    "envelope['words'] = envelope.apply(lambda x: getKmers(x['Sequence']), axis = 1)\n",
    "envelope = envelope.drop('Sequence', axis=1)\n",
    "\n",
    "envelope_texts = list(envelope['words'])\n",
    "for item in range(len(envelope_texts)):\n",
    "    envelope_texts[item] = ' '.join(envelope_texts[item])"
   ]
  },
  {
   "cell_type": "code",
   "execution_count": 6,
   "metadata": {},
   "outputs": [
    {
     "name": "stdout",
     "output_type": "stream",
     "text": [
      "The shape of y is: (999,)\n"
     ]
    },
    {
     "data": {
      "text/plain": [
       "<matplotlib.axes._subplots.AxesSubplot at 0x7f4cfb13d3c8>"
      ]
     },
     "execution_count": 6,
     "metadata": {},
     "output_type": "execute_result"
    },
    {
     "data": {
      "image/png": "[encoded data removed]",
      "text/plain": [
       "<Figure size 432x288 with 1 Axes>"
      ]
     },
     "metadata": {
      "needs_background": "light"
     },
     "output_type": "display_data"
    }
   ],
   "source": [
    "# Creating y and printing the shape of it\n",
    "y = envelope.iloc[:, 0].values\n",
    "print(\"The shape of y is:\", y.shape)\n",
    "\n",
    "# Checking the balance of the disease severity\n",
    "envelope[\"Disease\"].value_counts().sort_index().plot.bar()"
   ]
  },
  {
   "cell_type": "code",
   "execution_count": 7,
   "metadata": {},
   "outputs": [
    {
     "name": "stdout",
     "output_type": "stream",
     "text": [
      "The shape of x matrix is: (999, 2451)\n"
     ]
    }
   ],
   "source": [
    "# Creating the Bag of Words model using CountVectorizer()\n",
    "# This is equivalent to k-mer counting\n",
    "# The n-gram size of 4 was previously determined by testing\n",
    "from sklearn.feature_extraction.text import CountVectorizer\n",
    "cv = CountVectorizer(ngram_range = (4,4))\n",
    "x = cv.fit_transform(envelope_texts)\n",
    "\n",
    "# Print the shape of x\n",
    "print(\"The shape of x matrix is:\", x.shape)"
   ]
  },
  {
   "cell_type": "markdown",
   "metadata": {},
   "source": [
    "## Nested Cross-Validation"
   ]
  },
  {
   "cell_type": "code",
   "execution_count": 8,
   "metadata": {},
   "outputs": [],
   "source": [
    "from sklearn.model_selection import cross_val_score\n",
    "# search for an optimal value of K for KNN\n",
    "# range of k we want to try\n",
    "k_range = range(1, 30)\n",
    "# empty list to store scores\n",
    "k_scores = []"
   ]
  },
  {
   "cell_type": "code",
   "execution_count": 9,
   "metadata": {},
   "outputs": [
    {
     "name": "stdout",
     "output_type": "stream",
     "text": [
      "The score for number of neighbours = 1 is: 0.5194771477147715\n",
      "The score for number of neighbours = 2 is: 0.6105904590459046\n",
      "The score for number of neighbours = 3 is: 0.5725797579757976\n",
      "The score for number of neighbours = 4 is: 0.5894080408040805\n",
      "The score for number of neighbours = 5 is: 0.5814785478547855\n",
      "The score for number of neighbours = 6 is: 0.5975490549054905\n",
      "The score for number of neighbours = 7 is: 0.5865086508650865\n",
      "The score for number of neighbours = 8 is: 0.5805179517951795\n",
      "The score for number of neighbours = 9 is: 0.5785179517951795\n",
      "The score for number of neighbours = 10 is: 0.5855587558755875\n",
      "The score for number of neighbours = 11 is: 0.5855282528252825\n",
      "The score for number of neighbours = 12 is: 0.5926292629262926\n",
      "The score for number of neighbours = 13 is: 0.5915591559155916\n",
      "The score for number of neighbours = 14 is: 0.5976698669866987\n",
      "The score for number of neighbours = 15 is: 0.6116302630263026\n",
      "The score for number of neighbours = 16 is: 0.6176601660166016\n",
      "The score for number of neighbours = 17 is: 0.5966397639763976\n",
      "The score for number of neighbours = 18 is: 0.5976898689868987\n",
      "The score for number of neighbours = 19 is: 0.5977195719571958\n",
      "The score for number of neighbours = 20 is: 0.5977603760376038\n",
      "The score for number of neighbours = 21 is: 0.5916595659565957\n",
      "The score for number of neighbours = 22 is: 0.5996694669466948\n",
      "The score for number of neighbours = 23 is: 0.5865989598959895\n",
      "The score for number of neighbours = 24 is: 0.5997502750275027\n",
      "The score for number of neighbours = 25 is: 0.5866290629062906\n",
      "The score for number of neighbours = 26 is: 0.5866488648864887\n",
      "The score for number of neighbours = 27 is: 0.5856595659565956\n",
      "The score for number of neighbours = 28 is: 0.5846696669666966\n",
      "The score for number of neighbours = 29 is: 0.5856294629462946\n"
     ]
    }
   ],
   "source": [
    "from sklearn.neighbors import KNeighborsClassifier\n",
    "# 1. we will loop through reasonable values of k\n",
    "for k in k_range:\n",
    "    # 2. run KNeighborsClassifier with k neighbours\n",
    "    knn = KNeighborsClassifier(n_neighbors = k)\n",
    "    # 3. obtain cross_val_score for KNeighborsClassifier with k neighbours\n",
    "    scores = cross_val_score(knn, x, y, cv = 10, scoring='accuracy')\n",
    "    # 4. append mean of scores for k neighbors to k_scores list\n",
    "    k_scores.append(scores.mean())\n",
    "    \n",
    "    print(\"The score for number of neighbours =\", k, \"is:\", scores.mean())"
   ]
  },
  {
   "cell_type": "code",
   "execution_count": 10,
   "metadata": {
    "scrolled": true
   },
   "outputs": [
    {
     "name": "stdout",
     "output_type": "stream",
     "text": [
      "Length of list 29\n",
      "Max of list 0.6176601660166016\n"
     ]
    },
    {
     "data": {
      "text/plain": [
       "Text(0, 0.5, 'Cross-validated accuracy')"
      ]
     },
     "execution_count": 10,
     "metadata": {},
     "output_type": "execute_result"
    },
    {
     "data": {
      "image/png": "[encoded data removed]",
      "text/plain": [
       "<Figure size 432x288 with 1 Axes>"
      ]
     },
     "metadata": {
      "needs_background": "light"
     },
     "output_type": "display_data"
    }
   ],
   "source": [
    "# in essence, this is basically running the k-fold cross-validation method 30 times because\n",
    "# we want to run through K values from 1 to 30.\n",
    "# we should have 21 scores here\n",
    "print('Length of list', len(k_scores))\n",
    "print('Max of list', max(k_scores))\n",
    "\n",
    "# plot the value of K for KNN (x-axis) versus the cross-validated accuracy (y-axis)\n",
    "# plt.plot(x_axis, y_axis)\n",
    "plt.plot(k_range, k_scores)\n",
    "plt.xlabel('Value of K for KNN')\n",
    "plt.ylabel('Cross-validated accuracy')"
   ]
  }
 ],
 "metadata": {
  "kernelspec": {
   "display_name": "Python 3",
   "language": "python",
   "name": "python3"
  },
  "language_info": {
   "codemirror_mode": {
    "name": "ipython",
    "version": 3
   },
   "file_extension": ".py",
   "mimetype": "text/x-python",
   "name": "python",
   "nbconvert_exporter": "python",
   "pygments_lexer": "ipython3",
   "version": "3.7.3"
  }
 },
 "nbformat": 4,
 "nbformat_minor": 2
}
