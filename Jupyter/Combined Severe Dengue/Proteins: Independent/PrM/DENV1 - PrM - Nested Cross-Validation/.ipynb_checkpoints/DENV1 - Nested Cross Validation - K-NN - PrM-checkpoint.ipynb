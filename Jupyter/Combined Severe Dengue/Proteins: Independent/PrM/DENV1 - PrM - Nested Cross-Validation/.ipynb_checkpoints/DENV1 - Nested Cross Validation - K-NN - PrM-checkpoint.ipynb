{
 "cells": [
  {
   "cell_type": "code",
   "execution_count": 1,
   "metadata": {},
   "outputs": [],
   "source": [
    "# Importing the necessary libraries\n",
    "import pandas as pd\n",
    "import numpy as np\n",
    "import random\n",
    "import re\n",
    "import matplotlib.pyplot as plt"
   ]
  },
  {
   "cell_type": "code",
   "execution_count": 2,
   "metadata": {},
   "outputs": [],
   "source": [
    "# Importing the proteins data\n",
    "prm = []\n",
    "prmd = []\n",
    "\n",
    "f = open(\"../../../../../../Data/Proteins/DENV1/PrM/DENV1_Premembrane.txt\", \"r\")\n",
    "for x in f:   \n",
    "    if \"DSS\" in x:\n",
    "        prmd.append(1)\n",
    "    elif \"DHF\" in x:\n",
    "        prmd.append(1)\n",
    "    elif x[0] == \">\":\n",
    "        prmd.append(0)\n",
    "    else:\n",
    "        x = x.replace(\"\\n\", \"\")\n",
    "        prm.append(x)"
   ]
  },
  {
   "cell_type": "code",
   "execution_count": 3,
   "metadata": {},
   "outputs": [],
   "source": [
    "# Converting the array into DataFrames\n",
    "prm = pd.DataFrame(prm)\n",
    "\n",
    "# Attaching the \"Disease\" label column to the input\n",
    "prm[\"Disease\"] = prmd\n",
    "\n",
    "# Renaming the columns\n",
    "prm = prm.rename(index=str, columns={0: \"Sequence\", \"Disease\": \"Disease\"})"
   ]
  },
  {
   "cell_type": "code",
   "execution_count": 4,
   "metadata": {},
   "outputs": [
    {
     "name": "stdout",
     "output_type": "stream",
     "text": [
      "The combined shape of the given data is: (999, 2)\n",
      "The length of the combined data is: 999\n",
      "Does the combined data have any null value? -> False\n",
      "                                              Sequence  Disease\n",
      "742  FHLTTRGGEPHMIVSKQERGKSLLFKTSAGVNMCTLIAMDLGEFCE...        1\n",
      "677  FHLTTRGGEPHMIVSKQERGKSLLFKTSAGVNMCTLIAMDLGEFCE...        1\n",
      "652  FHLTTRGGEPHMIVSKQERGKSLLFKTSAGVNMCTLIAMDLGELCE...        1\n",
      "159  FHLTTRGGEPHMIVSKQERGKSLLFKTSAGVNMCTLIAMDLGEFCE...        0\n",
      "987  FHLTTRGGEPHMIVSKQERGKSLLFKTSAGVNMCTLIAMDLGELCE...        1\n"
     ]
    }
   ],
   "source": [
    "print(\"The combined shape of the given data is:\", str(prm.shape))\n",
    "print(\"The length of the combined data is:\", str(len(prm.index)))\n",
    "print(\"Does the combined data have any null value? ->\", prm.isnull().values.any())\n",
    "\n",
    "prm = prm.dropna(how = 'any',axis = 0) \n",
    "\n",
    "# Shuffling the data and then taking a peek\n",
    "prm = prm.sample(frac = 1)\n",
    "print(prm.head())"
   ]
  },
  {
   "cell_type": "code",
   "execution_count": 5,
   "metadata": {},
   "outputs": [],
   "source": [
    "# Function to convert sequence strings into k-mer words, default size = 6 (hexamer words)\n",
    "def getKmers(sequence, size = 6):\n",
    "    return [sequence[x:x + size].lower() for x in range(len(sequence) - size + 1)]\n",
    "\n",
    "prm['words'] = prm.apply(lambda x: getKmers(x['Sequence']), axis = 1)\n",
    "prm = prm.drop('Sequence', axis=1)\n",
    "\n",
    "prm_texts = list(prm['words'])\n",
    "for item in range(len(prm_texts)):\n",
    "    prm_texts[item] = ' '.join(prm_texts[item])"
   ]
  },
  {
   "cell_type": "code",
   "execution_count": 6,
   "metadata": {},
   "outputs": [
    {
     "name": "stdout",
     "output_type": "stream",
     "text": [
      "The shape of y is: (999,)\n"
     ]
    },
    {
     "data": {
      "text/plain": [
       "<matplotlib.axes._subplots.AxesSubplot at 0x7f64dc83bb70>"
      ]
     },
     "execution_count": 6,
     "metadata": {},
     "output_type": "execute_result"
    },
    {
     "data": {
      "image/png": "[encoded data removed]",
      "text/plain": [
       "<Figure size 432x288 with 1 Axes>"
      ]
     },
     "metadata": {
      "needs_background": "light"
     },
     "output_type": "display_data"
    }
   ],
   "source": [
    "# Creating y and printing the shape of it\n",
    "y = prm.iloc[:, 0].values\n",
    "print(\"The shape of y is:\", y.shape)\n",
    "\n",
    "# Checking the balance of the disease severity\n",
    "prm[\"Disease\"].value_counts().sort_index().plot.bar()"
   ]
  },
  {
   "cell_type": "code",
   "execution_count": 7,
   "metadata": {},
   "outputs": [
    {
     "name": "stdout",
     "output_type": "stream",
     "text": [
      "The shape of x matrix is: (999, 731)\n"
     ]
    }
   ],
   "source": [
    "# Creating the Bag of Words model using CountVectorizer()\n",
    "# This is equivalent to k-mer counting\n",
    "# The n-gram size of 4 was previously determined by testing\n",
    "from sklearn.feature_extraction.text import CountVectorizer\n",
    "cv = CountVectorizer(ngram_range = (4,4))\n",
    "x = cv.fit_transform(prm_texts)\n",
    "\n",
    "# Print the shape of x\n",
    "print(\"The shape of x matrix is:\", x.shape)"
   ]
  },
  {
   "cell_type": "markdown",
   "metadata": {},
   "source": [
    "## Nested Cross-Validation"
   ]
  },
  {
   "cell_type": "code",
   "execution_count": 8,
   "metadata": {},
   "outputs": [],
   "source": [
    "from sklearn.model_selection import cross_val_score\n",
    "# search for an optimal value of K for KNN\n",
    "# range of k we want to try\n",
    "k_range = range(1, 30)\n",
    "# empty list to store scores\n",
    "k_scores = []"
   ]
  },
  {
   "cell_type": "code",
   "execution_count": 9,
   "metadata": {},
   "outputs": [
    {
     "name": "stdout",
     "output_type": "stream",
     "text": [
      "The score for number of neighbours = 1 is: 0.5486381638163816\n",
      "The score for number of neighbours = 2 is: 0.5846898689868987\n",
      "The score for number of neighbours = 3 is: 0.5746993699369937\n",
      "The score for number of neighbours = 4 is: 0.5764284428442844\n",
      "The score for number of neighbours = 5 is: 0.5504870487048705\n",
      "The score for number of neighbours = 6 is: 0.5785381538153815\n",
      "The score for number of neighbours = 7 is: 0.5645476547654766\n",
      "The score for number of neighbours = 8 is: 0.5735682568256826\n",
      "The score for number of neighbours = 9 is: 0.5796288628862887\n",
      "The score for number of neighbours = 10 is: 0.5905892589258925\n",
      "The score for number of neighbours = 11 is: 0.5826389638963896\n",
      "The score for number of neighbours = 12 is: 0.5866488648864886\n",
      "The score for number of neighbours = 13 is: 0.5826290629062906\n",
      "The score for number of neighbours = 14 is: 0.5846391639163916\n",
      "The score for number of neighbours = 15 is: 0.5736884688468847\n",
      "The score for number of neighbours = 16 is: 0.5796983698369836\n",
      "The score for number of neighbours = 17 is: 0.5736983698369836\n",
      "The score for number of neighbours = 18 is: 0.5686678667866787\n",
      "The score for number of neighbours = 19 is: 0.5605973597359737\n",
      "The score for number of neighbours = 20 is: 0.5716678667866787\n",
      "The score for number of neighbours = 21 is: 0.5716785678567857\n",
      "The score for number of neighbours = 22 is: 0.5807284728472848\n",
      "The score for number of neighbours = 23 is: 0.5636880688068808\n",
      "The score for number of neighbours = 24 is: 0.5746682668266827\n",
      "The score for number of neighbours = 25 is: 0.5606779677967797\n",
      "The score for number of neighbours = 26 is: 0.5746981698169817\n",
      "The score for number of neighbours = 27 is: 0.5747486748674868\n",
      "The score for number of neighbours = 28 is: 0.5756882688268827\n",
      "The score for number of neighbours = 29 is: 0.5657082708270826\n"
     ]
    }
   ],
   "source": [
    "from sklearn.neighbors import KNeighborsClassifier\n",
    "# 1. we will loop through reasonable values of k\n",
    "for k in k_range:\n",
    "    # 2. run KNeighborsClassifier with k neighbours\n",
    "    knn = KNeighborsClassifier(n_neighbors = k)\n",
    "    # 3. obtain cross_val_score for KNeighborsClassifier with k neighbours\n",
    "    scores = cross_val_score(knn, x, y, cv = 10, scoring='accuracy')\n",
    "    # 4. append mean of scores for k neighbors to k_scores list\n",
    "    k_scores.append(scores.mean())\n",
    "    \n",
    "    print(\"The score for number of neighbours =\", k, \"is:\", scores.mean())"
   ]
  },
  {
   "cell_type": "code",
   "execution_count": 10,
   "metadata": {
    "scrolled": true
   },
   "outputs": [
    {
     "name": "stdout",
     "output_type": "stream",
     "text": [
      "Length of list 29\n",
      "Max of list 0.5905892589258925\n"
     ]
    },
    {
     "data": {
      "text/plain": [
       "Text(0, 0.5, 'Cross-validated accuracy')"
      ]
     },
     "execution_count": 10,
     "metadata": {},
     "output_type": "execute_result"
    },
    {
     "data": {
      "image/png": "[encoded data removed]",
      "text/plain": [
       "<Figure size 432x288 with 1 Axes>"
      ]
     },
     "metadata": {
      "needs_background": "light"
     },
     "output_type": "display_data"
    }
   ],
   "source": [
    "# in essence, this is basically running the k-fold cross-validation method 30 times because\n",
    "# we want to run through K values from 1 to 30.\n",
    "# we should have 21 scores here\n",
    "print('Length of list', len(k_scores))\n",
    "print('Max of list', max(k_scores))\n",
    "\n",
    "# plot the value of K for KNN (x-axis) versus the cross-validated accuracy (y-axis)\n",
    "# plt.plot(x_axis, y_axis)\n",
    "plt.plot(k_range, k_scores)\n",
    "plt.xlabel('Value of K for KNN')\n",
    "plt.ylabel('Cross-validated accuracy')"
   ]
  }
 ],
 "metadata": {
  "kernelspec": {
   "display_name": "Python 3",
   "language": "python",
   "name": "python3"
  },
  "language_info": {
   "codemirror_mode": {
    "name": "ipython",
    "version": 3
   },
   "file_extension": ".py",
   "mimetype": "text/x-python",
   "name": "python",
   "nbconvert_exporter": "python",
   "pygments_lexer": "ipython3",
   "version": "3.7.3"
  }
 },
 "nbformat": 4,
 "nbformat_minor": 2
}
