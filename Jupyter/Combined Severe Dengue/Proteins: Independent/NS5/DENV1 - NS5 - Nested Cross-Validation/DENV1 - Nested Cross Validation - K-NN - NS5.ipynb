{
 "cells": [
  {
   "cell_type": "code",
   "execution_count": 1,
   "metadata": {},
   "outputs": [],
   "source": [
    "# Importing the necessary libraries\n",
    "import pandas as pd\n",
    "import numpy as np\n",
    "import random\n",
    "import re\n",
    "import matplotlib.pyplot as plt"
   ]
  },
  {
   "cell_type": "code",
   "execution_count": 2,
   "metadata": {},
   "outputs": [],
   "source": [
    "# Importing the proteins data\n",
    "ns5 = []\n",
    "ns5d = []\n",
    "\n",
    "f = open(\"../../../../../../Data/Proteins/DENV1/NS5/DENV1_NS5.txt\", \"r\")\n",
    "for x in f:   \n",
    "    if \"DSS\" in x:\n",
    "        ns5d.append(1)\n",
    "    elif \"DHF\" in x:\n",
    "        ns5d.append(1)\n",
    "    elif x[0] == \">\":\n",
    "        ns5d.append(0)\n",
    "    else:\n",
    "        x = x.replace(\"\\n\", \"\")\n",
    "        ns5.append(x)"
   ]
  },
  {
   "cell_type": "code",
   "execution_count": 3,
   "metadata": {},
   "outputs": [],
   "source": [
    "# Converting the array into DataFrames\n",
    "ns5 = pd.DataFrame(ns5)\n",
    "\n",
    "# Attaching the \"Disease\" label column to the input\n",
    "ns5[\"Disease\"] = ns5d\n",
    "\n",
    "# Renaming the columns\n",
    "ns5 = ns5.rename(index=str, columns={0: \"Sequence\", \"Disease\": \"Disease\"})"
   ]
  },
  {
   "cell_type": "code",
   "execution_count": 4,
   "metadata": {},
   "outputs": [
    {
     "name": "stdout",
     "output_type": "stream",
     "text": [
      "The combined shape of the given data is: (999, 2)\n",
      "The length of the combined data is: 999\n",
      "Does the combined data have any null value? -> False\n",
      "                                              Sequence  Disease\n",
      "141  GTGAQGETLGEKWKRQLNQLSKSEFNTYKRSGIMEVDRSEAKEGLK...        0\n",
      "701  GTGAQGETLGEKWKRQLNQLSKSEFNTYKRSGIMEVDRSEAKEGLK...        1\n",
      "319  GTGAQGETLGEKWKRQLNQLSKSEFNTYKRSGIMEVDRSEAKEGLK...        0\n",
      "587  GTGAQGETLGEKWKRQLNQLSKSEFNIYKRSGIIEVDRSEAKEGLK...        0\n",
      "213  GTGAQGETLGEKWKRQLNQLSKSEFNTYKRSGIMEVDRSEAKEGLK...        0\n"
     ]
    }
   ],
   "source": [
    "print(\"The combined shape of the given data is:\", str(ns5.shape))\n",
    "print(\"The length of the combined data is:\", str(len(ns5.index)))\n",
    "print(\"Does the combined data have any null value? ->\", ns5.isnull().values.any())\n",
    "\n",
    "ns5 = ns5.dropna(how = 'any',axis = 0) \n",
    "\n",
    "# Shuffling the data and then taking a peek\n",
    "ns5 = ns5.sample(frac = 1)\n",
    "print(ns5.head())"
   ]
  },
  {
   "cell_type": "code",
   "execution_count": 5,
   "metadata": {},
   "outputs": [],
   "source": [
    "# Function to convert sequence strings into k-mer words, default size = 6 (hexamer words)\n",
    "def getKmers(sequence, size = 6):\n",
    "    return [sequence[x:x + size].lower() for x in range(len(sequence) - size + 1)]\n",
    "\n",
    "ns5['words'] = ns5.apply(lambda x: getKmers(x['Sequence']), axis = 1)\n",
    "ns5 = ns5.drop('Sequence', axis=1)\n",
    "\n",
    "ns5_texts = list(ns5['words'])\n",
    "for item in range(len(ns5_texts)):\n",
    "    ns5_texts[item] = ' '.join(ns5_texts[item])"
   ]
  },
  {
   "cell_type": "code",
   "execution_count": 6,
   "metadata": {},
   "outputs": [
    {
     "name": "stdout",
     "output_type": "stream",
     "text": [
      "The shape of y is: (999,)\n"
     ]
    },
    {
     "data": {
      "text/plain": [
       "<matplotlib.axes._subplots.AxesSubplot at 0x7fa6733a34e0>"
      ]
     },
     "execution_count": 6,
     "metadata": {},
     "output_type": "execute_result"
    },
    {
     "data": {
      "image/png": "[encoded data removed]",
      "text/plain": [
       "<Figure size 432x288 with 1 Axes>"
      ]
     },
     "metadata": {
      "needs_background": "light"
     },
     "output_type": "display_data"
    }
   ],
   "source": [
    "# Creating y and printing the shape of it\n",
    "y = ns5.iloc[:, 0].values\n",
    "print(\"The shape of y is:\", y.shape)\n",
    "\n",
    "# Checking the balance of the disease severity\n",
    "ns5[\"Disease\"].value_counts().sort_index().plot.bar()"
   ]
  },
  {
   "cell_type": "code",
   "execution_count": 7,
   "metadata": {},
   "outputs": [
    {
     "name": "stdout",
     "output_type": "stream",
     "text": [
      "The shape of x matrix is: (999, 4079)\n"
     ]
    }
   ],
   "source": [
    "# Creating the Bag of Words model using CountVectorizer()\n",
    "# This is equivalent to k-mer counting\n",
    "# The n-gram size of 4 was previously determined by testing\n",
    "from sklearn.feature_extraction.text import CountVectorizer\n",
    "cv = CountVectorizer(ngram_range = (4,4))\n",
    "x = cv.fit_transform(ns5_texts)\n",
    "\n",
    "# Print the shape of x\n",
    "print(\"The shape of x matrix is:\", x.shape)"
   ]
  },
  {
   "cell_type": "markdown",
   "metadata": {},
   "source": [
    "## Nested Cross-Validation"
   ]
  },
  {
   "cell_type": "code",
   "execution_count": 8,
   "metadata": {},
   "outputs": [],
   "source": [
    "from sklearn.model_selection import cross_val_score\n",
    "# search for an optimal value of K for KNN\n",
    "# range of k we want to try\n",
    "k_range = range(1, 30)\n",
    "# empty list to store scores\n",
    "k_scores = []"
   ]
  },
  {
   "cell_type": "code",
   "execution_count": 9,
   "metadata": {},
   "outputs": [
    {
     "name": "stdout",
     "output_type": "stream",
     "text": [
      "The score for number of neighbours = 1 is: 0.5564775477547755\n",
      "The score for number of neighbours = 2 is: 0.5977098709870987\n",
      "The score for number of neighbours = 3 is: 0.6085401540154016\n",
      "The score for number of neighbours = 4 is: 0.6046607660766077\n",
      "The score for number of neighbours = 5 is: 0.5977104710471047\n",
      "The score for number of neighbours = 6 is: 0.5977395739573959\n",
      "The score for number of neighbours = 7 is: 0.6036098609860986\n",
      "The score for number of neighbours = 8 is: 0.6066094609460947\n",
      "The score for number of neighbours = 9 is: 0.6146704670467047\n",
      "The score for number of neighbours = 10 is: 0.6086601660166016\n",
      "The score for number of neighbours = 11 is: 0.6116498649864986\n",
      "The score for number of neighbours = 12 is: 0.6056593659365936\n",
      "The score for number of neighbours = 13 is: 0.6016191619161917\n",
      "The score for number of neighbours = 14 is: 0.5966793679367938\n",
      "The score for number of neighbours = 15 is: 0.5946286628662866\n",
      "The score for number of neighbours = 16 is: 0.6076001600160016\n",
      "The score for number of neighbours = 17 is: 0.6156102610261026\n",
      "The score for number of neighbours = 18 is: 0.6066199619961996\n",
      "The score for number of neighbours = 19 is: 0.5936692669266928\n",
      "The score for number of neighbours = 20 is: 0.6036302630263026\n",
      "The score for number of neighbours = 21 is: 0.6096803680368037\n",
      "The score for number of neighbours = 22 is: 0.6065898589858986\n",
      "The score for number of neighbours = 23 is: 0.5986791679167917\n",
      "The score for number of neighbours = 24 is: 0.5996589658965897\n",
      "The score for number of neighbours = 25 is: 0.5946686668666866\n",
      "The score for number of neighbours = 26 is: 0.5926888688868888\n",
      "The score for number of neighbours = 27 is: 0.5896482648264827\n",
      "The score for number of neighbours = 28 is: 0.5916385638563856\n",
      "The score for number of neighbours = 29 is: 0.5875781578157817\n"
     ]
    }
   ],
   "source": [
    "from sklearn.neighbors import KNeighborsClassifier\n",
    "# 1. we will loop through reasonable values of k\n",
    "for k in k_range:\n",
    "    # 2. run KNeighborsClassifier with k neighbours\n",
    "    knn = KNeighborsClassifier(n_neighbors = k)\n",
    "    # 3. obtain cross_val_score for KNeighborsClassifier with k neighbours\n",
    "    scores = cross_val_score(knn, x, y, cv = 10, scoring='accuracy')\n",
    "    # 4. append mean of scores for k neighbors to k_scores list\n",
    "    k_scores.append(scores.mean())\n",
    "    \n",
    "    print(\"The score for number of neighbours =\", k, \"is:\", scores.mean())"
   ]
  },
  {
   "cell_type": "code",
   "execution_count": 10,
   "metadata": {
    "scrolled": true
   },
   "outputs": [
    {
     "name": "stdout",
     "output_type": "stream",
     "text": [
      "Length of list 29\n",
      "Max of list 0.6156102610261026\n"
     ]
    },
    {
     "data": {
      "text/plain": [
       "Text(0, 0.5, 'Cross-validated accuracy')"
      ]
     },
     "execution_count": 10,
     "metadata": {},
     "output_type": "execute_result"
    },
    {
     "data": {
      "image/png": "[encoded data removed]",
      "text/plain": [
       "<Figure size 432x288 with 1 Axes>"
      ]
     },
     "metadata": {
      "needs_background": "light"
     },
     "output_type": "display_data"
    }
   ],
   "source": [
    "# in essence, this is basically running the k-fold cross-validation method 30 times because\n",
    "# we want to run through K values from 1 to 30.\n",
    "# we should have 21 scores here\n",
    "print('Length of list', len(k_scores))\n",
    "print('Max of list', max(k_scores))\n",
    "\n",
    "# plot the value of K for KNN (x-axis) versus the cross-validated accuracy (y-axis)\n",
    "# plt.plot(x_axis, y_axis)\n",
    "plt.plot(k_range, k_scores)\n",
    "plt.xlabel('Value of K for KNN')\n",
    "plt.ylabel('Cross-validated accuracy')"
   ]
  }
 ],
 "metadata": {
  "kernelspec": {
   "display_name": "Python 3",
   "language": "python",
   "name": "python3"
  },
  "language_info": {
   "codemirror_mode": {
    "name": "ipython",
    "version": 3
   },
   "file_extension": ".py",
   "mimetype": "text/x-python",
   "name": "python",
   "nbconvert_exporter": "python",
   "pygments_lexer": "ipython3",
   "version": "3.7.3"
  }
 },
 "nbformat": 4,
 "nbformat_minor": 2
}
