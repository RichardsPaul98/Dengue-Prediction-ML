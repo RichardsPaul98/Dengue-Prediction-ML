{
 "cells": [
  {
   "cell_type": "code",
   "execution_count": 1,
   "metadata": {},
   "outputs": [],
   "source": [
    "# Importing the necessary libraries\n",
    "import pandas as pd\n",
    "import numpy as np\n",
    "import matplotlib.pyplot as plt"
   ]
  },
  {
   "cell_type": "code",
   "execution_count": 2,
   "metadata": {},
   "outputs": [],
   "source": [
    "# Importing the proteins data\n",
    "k2 = []\n",
    "k2d = []\n",
    "capsid = []\n",
    "capsidd = []\n",
    "envelope = []\n",
    "enveloped = []\n",
    "ns1 = []\n",
    "ns1d = []\n",
    "ns2a = []\n",
    "ns2ad = []\n",
    "ns2b = []\n",
    "ns2bd = []\n",
    "ns3 = []\n",
    "ns3d = []\n",
    "ns4a = []\n",
    "ns4ad = []\n",
    "ns4b = []\n",
    "ns4bd = []\n",
    "ns5 = []\n",
    "ns5d = []\n",
    "prm = []\n",
    "prmd = []\n",
    "\n",
    "f = open(\"../../../../../Data/Proteins/DENV2/2K/DENV2_2Kpeptide.txt\", \"r\")\n",
    "for x in f:\n",
    "    if \"DSS\" in x:\n",
    "        k2d.append(1)\n",
    "    elif \"DHF\" in x:\n",
    "        k2d.append(1)\n",
    "    elif x[0] == \">\":\n",
    "        k2d.append(0)\n",
    "    else:\n",
    "        x = x.replace(\"\\n\", \"\")\n",
    "        k2.append(x)\n",
    "        \n",
    "f = open(\"../../../../../Data/Proteins/DENV2/Capsid/DENV2_capsid.txt\", \"r\")\n",
    "for x in f:\n",
    "    if \"DSS\" in x:\n",
    "        capsidd.append(1)\n",
    "    elif \"DHF\" in x:\n",
    "        capsidd.append(1)\n",
    "    elif x[0] == \">\":\n",
    "        capsidd.append(0)\n",
    "    else:\n",
    "        x = x.replace(\"\\n\", \"\")\n",
    "        capsid.append(x)\n",
    "        \n",
    "f = open(\"../../../../../Data/Proteins/DENV2/Envelope/DENV2_envelope.txt\", \"r\")\n",
    "for x in f:    \n",
    "    if \"DSS\" in x:\n",
    "        enveloped.append(1)\n",
    "    elif \"DHF\" in x:\n",
    "        enveloped.append(1)\n",
    "    elif x[0] == \">\":\n",
    "        enveloped.append(0)\n",
    "    else:\n",
    "        x = x.replace(\"\\n\", \"\")\n",
    "        envelope.append(x)\n",
    "        \n",
    "f = open(\"../../../../../Data/Proteins/DENV2/NS1/DENV2_NS1.txt\", \"r\")\n",
    "for x in f:\n",
    "    if \"DSS\" in x:\n",
    "        ns1d.append(1)\n",
    "    elif \"DHF\" in x:\n",
    "        ns1d.append(1)\n",
    "    elif x[0] == \">\":\n",
    "        ns1d.append(0)\n",
    "    else:\n",
    "        x = x.replace(\"\\n\", \"\")\n",
    "        ns1.append(x)\n",
    "        \n",
    "f = open(\"../../../../../Data/Proteins/DENV2/NS2A/DENV2_NS2A.txt\", \"r\")\n",
    "for x in f:\n",
    "    if \"DSS\" in x:\n",
    "        ns2ad.append(1)\n",
    "    elif \"DHF\" in x:\n",
    "        ns2ad.append(1)\n",
    "    elif x[0] == \">\":\n",
    "        ns2ad.append(0)\n",
    "    else:\n",
    "        x = x.replace(\"\\n\", \"\")\n",
    "        ns2a.append(x)\n",
    "        \n",
    "f = open(\"../../../../../Data/Proteins/DENV2/NS2B/DENV2_NS2B.txt\", \"r\")\n",
    "for x in f:\n",
    "    if \"DSS\" in x:\n",
    "        ns2bd.append(1)\n",
    "    elif \"DHF\" in x:\n",
    "        ns2bd.append(1)\n",
    "    elif x[0] == \">\":\n",
    "        ns2bd.append(0)\n",
    "    else:\n",
    "        x = x.replace(\"\\n\", \"\")\n",
    "        ns2b.append(x)\n",
    "        \n",
    "f = open(\"../../../../../Data/Proteins/DENV2/NS3/DENV2_NS3.txt\", \"r\")\n",
    "for x in f:\n",
    "    if \"DSS\" in x:\n",
    "        ns3d.append(1)\n",
    "    elif \"DHF\" in x:\n",
    "        ns3d.append(1)\n",
    "    elif x[0] == \">\":\n",
    "        ns3d.append(0)\n",
    "    else:\n",
    "        x = x.replace(\"\\n\", \"\")\n",
    "        ns3.append(x)\n",
    "        \n",
    "f = open(\"../../../../../Data/Proteins/DENV2/NS4A/DENV2_NS4A.txt\", \"r\")\n",
    "for x in f:\n",
    "    if \"DSS\" in x:\n",
    "        ns4ad.append(1)\n",
    "    elif \"DHF\" in x:\n",
    "        ns4ad.append(1)\n",
    "    elif x[0] == \">\":\n",
    "        ns4ad.append(0)\n",
    "    else:\n",
    "        x = x.replace(\"\\n\", \"\")\n",
    "        ns4a.append(x)\n",
    "f = open(\"../../../../../Data/Proteins/DENV2/NS4B/DENV2_NS4B.txt\", \"r\")\n",
    "for x in f:\n",
    "    if \"DSS\" in x:\n",
    "        ns4bd.append(1)\n",
    "    elif \"DHF\" in x:\n",
    "        ns4bd.append(1)\n",
    "    elif x[0] == \">\":\n",
    "        ns4bd.append(0)\n",
    "    else:\n",
    "        x = x.replace(\"\\n\", \"\")\n",
    "        ns4b.append(x)\n",
    "        \n",
    "f = open(\"../../../../../Data/Proteins/DENV2/NS5/DENV2_NS5.txt\", \"r\")\n",
    "for x in f:\n",
    "    if \"DSS\" in x:\n",
    "        ns5d.append(1)\n",
    "    elif \"DHF\" in x:\n",
    "        ns5d.append(1)\n",
    "    elif x[0] == \">\":\n",
    "        ns5d.append(0)\n",
    "    else:\n",
    "        x = x.replace(\"\\n\", \"\")\n",
    "        ns5.append(x)\n",
    "        \n",
    "f = open(\"../../../../../Data/Proteins/DENV2/PrM/DENV2_Premembrane.txt\", \"r\")\n",
    "for x in f:\n",
    "    if \"DSS\" in x:\n",
    "        prmd.append(1)\n",
    "    elif \"DHF\" in x:\n",
    "        prmd.append(1)\n",
    "    elif x[0] == \">\":\n",
    "        prmd.append(0)\n",
    "    else:\n",
    "        x = x.replace(\"\\n\", \"\")\n",
    "        prm.append(x)"
   ]
  },
  {
   "cell_type": "code",
   "execution_count": 3,
   "metadata": {},
   "outputs": [
    {
     "name": "stdout",
     "output_type": "stream",
     "text": [
      "Testing successful, both the disease column and the sequence column have equal lengths.\n"
     ]
    }
   ],
   "source": [
    "# Testing if the data was imported correctly\n",
    "if len(prm) == len(prmd):\n",
    "    print(\"Testing successful, both the disease column and the sequence column have equal lengths.\")"
   ]
  },
  {
   "cell_type": "code",
   "execution_count": 4,
   "metadata": {},
   "outputs": [],
   "source": [
    "# Converting the arrays into DataFrames\n",
    "k2 = pd.DataFrame(k2)\n",
    "capsid = pd.DataFrame(capsid)\n",
    "envelope = pd.DataFrame(envelope)\n",
    "ns1 = pd.DataFrame(ns1)\n",
    "ns2a = pd.DataFrame(ns2a)\n",
    "ns2b = pd.DataFrame(ns2b)\n",
    "ns3 = pd.DataFrame(ns3)\n",
    "ns4a = pd.DataFrame(ns4a)\n",
    "ns4b = pd.DataFrame(ns4b)\n",
    "ns5 = pd.DataFrame(ns5)\n",
    "prm = pd.DataFrame(prm)\n",
    "\n",
    "# Attaching the \"Disease\" label column to the input\n",
    "k2[\"Disease\"] = k2d\n",
    "capsid[\"Disease\"] = capsidd\n",
    "envelope[\"Disease\"] = enveloped\n",
    "ns1[\"Disease\"] = ns1d\n",
    "ns2a[\"Disease\"] = ns2ad\n",
    "ns2b[\"Disease\"] = ns2bd\n",
    "ns3[\"Disease\"] = ns3d\n",
    "ns4a[\"Disease\"] = ns4ad\n",
    "ns4b[\"Disease\"] = ns4bd\n",
    "ns5[\"Disease\"] = ns5d\n",
    "prm[\"Disease\"] = prmd\n",
    "\n",
    "# Renaming the columns\n",
    "k2 = k2.rename(index=str, columns={0: \"Sequence\", \"Disease\": \"Disease\"})\n",
    "capsid = capsid.rename(index=str, columns={0: \"Sequence\", \"Disease\": \"Disease\"})\n",
    "envelope = envelope.rename(index=str, columns={0: \"Sequence\", \"Disease\": \"Disease\"})\n",
    "ns1 = ns1.rename(index=str, columns={0: \"Sequence\", \"Disease\": \"Disease\"})\n",
    "ns2a = ns2a.rename(index=str, columns={0: \"Sequence\", \"Disease\": \"Disease\"})\n",
    "ns2b = ns2b.rename(index=str, columns={0: \"Sequence\", \"Disease\": \"Disease\"})\n",
    "n3 = ns3.rename(index=str, columns={0: \"Sequence\", \"Disease\": \"Disease\"})\n",
    "ns4a = ns4a.rename(index=str, columns={0: \"Sequence\", \"Disease\": \"Disease\"})\n",
    "ns4b = ns4b.rename(index=str, columns={0: \"Sequence\", \"Disease\": \"Disease\"})\n",
    "ns5 = ns5.rename(index=str, columns={0: \"Sequence\", \"Disease\": \"Disease\"})\n",
    "prm = prm.rename(index=str, columns={0: \"Sequence\", \"Disease\": \"Disease\"})"
   ]
  },
  {
   "cell_type": "code",
   "execution_count": 5,
   "metadata": {},
   "outputs": [
    {
     "name": "stdout",
     "output_type": "stream",
     "text": [
      "The combined shape of the given data is: (6633, 3)\n",
      "The length of the combined data is: 6633\n",
      "Does the combined data have any null value? -> True\n",
      "                                              Sequence  Disease\n",
      "485  FHLTTRNGEPHMIVGIQEKGKSLLFKTEDGVNMCTLMAMDLGELCE...        1\n",
      "570  MRCIGISNRDFVEGVSGGSWVDIVLEHGSCVTTMAKNKPTLDFELI...        1\n",
      "72   GHGQIDNFSLGVLGMALFLEEMLRTRVGTKHAILLVAVSFVTLITG...        0\n",
      "401  NEMGFLEKTKKDLGLGSIATQQPESNILDIDLRPASAWTLYAVATT...        1\n",
      "535  FHLTTRNGEPHMIVGIQEKGKSLLFKTEDGVNMCTLMAMDLGELCE...        1\n"
     ]
    }
   ],
   "source": [
    "# Concatinating the input data into one DataFrame\n",
    "result = pd.concat([k2, capsid, envelope, ns1, ns2a, ns2b, ns3, ns4a, ns4b, ns5, prm], axis = 0, sort = False)\n",
    "print(\"The combined shape of the given data is:\", str(result.shape))\n",
    "print(\"The length of the combined data is:\", str(len(result.index)))\n",
    "print(\"Does the combined data have any null value? ->\", result.isnull().values.any())\n",
    "\n",
    "result = result.drop(columns = [0])\n",
    "result = result.dropna(how='any',axis=0) \n",
    "\n",
    "# Shuffling the data and then taking a peek\n",
    "result = result.sample(frac = 1)\n",
    "print(result.head())"
   ]
  },
  {
   "cell_type": "code",
   "execution_count": 6,
   "metadata": {},
   "outputs": [],
   "source": [
    "# Function to convert sequence strings into k-mer words, default size = 6 (hexamer words)\n",
    "def getKmers(sequence, size = 6):\n",
    "    return [sequence[x:x+size].lower() for x in range(len(sequence) - size + 1)]\n",
    "\n",
    "result['words'] = result.apply(lambda x: getKmers(x['Sequence']), axis=1)\n",
    "result = result.drop('Sequence', axis=1)\n",
    "\n",
    "result_texts = list(result['words'])\n",
    "for item in range(len(result_texts)):\n",
    "    result_texts[item] = ' '.join(result_texts[item])"
   ]
  },
  {
   "cell_type": "code",
   "execution_count": 7,
   "metadata": {},
   "outputs": [
    {
     "name": "stdout",
     "output_type": "stream",
     "text": [
      "The shape of y is: (6030,)\n"
     ]
    },
    {
     "data": {
      "text/plain": [
       "<matplotlib.axes._subplots.AxesSubplot at 0x7fc5c87eba58>"
      ]
     },
     "execution_count": 7,
     "metadata": {},
     "output_type": "execute_result"
    },
    {
     "data": {
      "image/png": "[encoded data removed]",
      "text/plain": [
       "<Figure size 432x288 with 1 Axes>"
      ]
     },
     "metadata": {
      "needs_background": "light"
     },
     "output_type": "display_data"
    }
   ],
   "source": [
    "# Creating y and printing the shape of it\n",
    "y = result.iloc[:, 0].values\n",
    "print(\"The shape of y is:\", y.shape)\n",
    "\n",
    "# Checking the balance of the disease severity\n",
    "result[\"Disease\"].value_counts().sort_index().plot.bar()"
   ]
  },
  {
   "cell_type": "code",
   "execution_count": 8,
   "metadata": {},
   "outputs": [
    {
     "name": "stdout",
     "output_type": "stream",
     "text": [
      "The shape of x matrix is: (6030, 10946)\n"
     ]
    }
   ],
   "source": [
    "# Creating the Bag of Words model using CountVectorizer()\n",
    "# This is equivalent to k-mer counting\n",
    "# The n-gram size of 4 was previously determined by testing\n",
    "from sklearn.feature_extraction.text import CountVectorizer\n",
    "cv = CountVectorizer(ngram_range=(4,4))\n",
    "x = cv.fit_transform(result_texts)\n",
    "\n",
    "# Print the shape of x\n",
    "print(\"The shape of x matrix is:\", x.shape)"
   ]
  },
  {
   "cell_type": "markdown",
   "metadata": {},
   "source": [
    "## Nested Cross-Validation"
   ]
  },
  {
   "cell_type": "code",
   "execution_count": 9,
   "metadata": {},
   "outputs": [],
   "source": [
    "from sklearn.model_selection import cross_val_score\n",
    "# search for an optimal value of K for KNN\n",
    "# range of k we want to try\n",
    "k_range = range(1, 30)\n",
    "# empty list to store scores\n",
    "k_scores = []"
   ]
  },
  {
   "cell_type": "code",
   "execution_count": 10,
   "metadata": {},
   "outputs": [
    {
     "name": "stdout",
     "output_type": "stream",
     "text": [
      "The score for number of neighbours = 1 is: 0.6698175787728027\n",
      "The score for number of neighbours = 2 is: 0.7081260364842455\n",
      "The score for number of neighbours = 3 is: 0.7087893864013266\n",
      "The score for number of neighbours = 4 is: 0.7044776119402985\n",
      "The score for number of neighbours = 5 is: 0.7092868988391376\n",
      "The score for number of neighbours = 6 is: 0.7048092868988391\n",
      "The score for number of neighbours = 7 is: 0.7102819237147595\n",
      "The score for number of neighbours = 8 is: 0.7127694859038143\n",
      "The score for number of neighbours = 9 is: 0.7169154228855722\n",
      "The score for number of neighbours = 10 is: 0.7195688225538971\n",
      "The score for number of neighbours = 11 is: 0.7170812603648425\n",
      "The score for number of neighbours = 12 is: 0.7137645107794363\n",
      "The score for number of neighbours = 13 is: 0.7187396351575457\n",
      "The score for number of neighbours = 14 is: 0.7152570480928689\n",
      "The score for number of neighbours = 15 is: 0.7203980099502487\n",
      "The score for number of neighbours = 16 is: 0.7185737976782753\n",
      "The score for number of neighbours = 17 is: 0.7227197346600331\n",
      "The score for number of neighbours = 18 is: 0.7202321724709784\n",
      "The score for number of neighbours = 19 is: 0.724709784411277\n",
      "The score for number of neighbours = 20 is: 0.7233830845771144\n",
      "The score for number of neighbours = 21 is: 0.7265339966832506\n",
      "The score for number of neighbours = 22 is: 0.7243781094527363\n",
      "The score for number of neighbours = 23 is: 0.7278606965174129\n",
      "The score for number of neighbours = 24 is: 0.7245439469320066\n",
      "The score for number of neighbours = 25 is: 0.7252072968490879\n",
      "The score for number of neighbours = 26 is: 0.7208955223880598\n",
      "The score for number of neighbours = 27 is: 0.7235489220563849\n",
      "The score for number of neighbours = 28 is: 0.7199004975124378\n",
      "The score for number of neighbours = 29 is: 0.7228855721393035\n"
     ]
    }
   ],
   "source": [
    "from sklearn.neighbors import KNeighborsClassifier\n",
    "# 1. we will loop through reasonable values of k\n",
    "for k in k_range:\n",
    "    # 2. run KNeighborsClassifier with k neighbours\n",
    "    knn = KNeighborsClassifier(n_neighbors = k)\n",
    "    # 3. obtain cross_val_score for KNeighborsClassifier with k neighbours\n",
    "    scores = cross_val_score(knn, x, y, cv = 10, scoring='accuracy')\n",
    "    # 4. append mean of scores for k neighbors to k_scores list\n",
    "    k_scores.append(scores.mean())\n",
    "    \n",
    "    print(\"The score for number of neighbours =\", k, \"is:\", scores.mean())"
   ]
  },
  {
   "cell_type": "code",
   "execution_count": 11,
   "metadata": {
    "scrolled": true
   },
   "outputs": [
    {
     "name": "stdout",
     "output_type": "stream",
     "text": [
      "Length of list 29\n",
      "Max of list 0.7278606965174129\n"
     ]
    },
    {
     "data": {
      "text/plain": [
       "Text(0, 0.5, 'Cross-validated accuracy')"
      ]
     },
     "execution_count": 11,
     "metadata": {},
     "output_type": "execute_result"
    },
    {
     "data": {
      "image/png": "[encoded data removed]",
      "text/plain": [
       "<Figure size 432x288 with 1 Axes>"
      ]
     },
     "metadata": {
      "needs_background": "light"
     },
     "output_type": "display_data"
    }
   ],
   "source": [
    "# in essence, this is basically running the k-fold cross-validation method 30 times because\n",
    "# we want to run through K values from 1 to 30.\n",
    "# we should have 21 scores here\n",
    "print('Length of list', len(k_scores))\n",
    "print('Max of list', max(k_scores))\n",
    "\n",
    "# plot the value of K for KNN (x-axis) versus the cross-validated accuracy (y-axis)\n",
    "# plt.plot(x_axis, y_axis)\n",
    "plt.plot(k_range, k_scores)\n",
    "plt.xlabel('Value of K for KNN')\n",
    "plt.ylabel('Cross-validated accuracy')"
   ]
  }
 ],
 "metadata": {
  "kernelspec": {
   "display_name": "Python 3",
   "language": "python",
   "name": "python3"
  },
  "language_info": {
   "codemirror_mode": {
    "name": "ipython",
    "version": 3
   },
   "file_extension": ".py",
   "mimetype": "text/x-python",
   "name": "python",
   "nbconvert_exporter": "python",
   "pygments_lexer": "ipython3",
   "version": "3.6.8"
  }
 },
 "nbformat": 4,
 "nbformat_minor": 2
}
