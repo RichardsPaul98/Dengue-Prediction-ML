{
 "cells": [
  {
   "cell_type": "code",
   "execution_count": 1,
   "metadata": {},
   "outputs": [],
   "source": [
    "# Importing the necessary libraries\n",
    "import pandas as pd\n",
    "import numpy as np\n",
    "import matplotlib.pyplot as plt"
   ]
  },
  {
   "cell_type": "code",
   "execution_count": 2,
   "metadata": {},
   "outputs": [],
   "source": [
    "# Importing the proteins data\n",
    "k2 = []\n",
    "k2d = []\n",
    "capsid = []\n",
    "capsidd = []\n",
    "envelope = []\n",
    "enveloped = []\n",
    "ns1 = []\n",
    "ns1d = []\n",
    "ns2a = []\n",
    "ns2ad = []\n",
    "ns2b = []\n",
    "ns2bd = []\n",
    "ns3 = []\n",
    "ns3d = []\n",
    "ns4a = []\n",
    "ns4ad = []\n",
    "ns4b = []\n",
    "ns4bd = []\n",
    "ns5 = []\n",
    "ns5d = []\n",
    "prm = []\n",
    "prmd = []\n",
    "\n",
    "f = open(\"../../../../../Data/Proteins/DENV3/2K/DENV3_2Kpeptide.txt\", \"r\")\n",
    "for x in f:\n",
    "    if \"DSS\" in x:\n",
    "        k2d.append(1)\n",
    "    elif \"DHF\" in x:\n",
    "        k2d.append(1)\n",
    "    elif x[0] == \">\":\n",
    "        k2d.append(0)\n",
    "    else:\n",
    "        x = x.replace(\"\\n\", \"\")\n",
    "        k2.append(x)\n",
    "        \n",
    "f = open(\"../../../../../Data/Proteins/DENV3/Capsid/DENV3_capsid.txt\", \"r\")\n",
    "for x in f:\n",
    "    if \"DSS\" in x:\n",
    "        capsidd.append(1)\n",
    "    elif \"DHF\" in x:\n",
    "        capsidd.append(1)\n",
    "    elif x[0] == \">\":\n",
    "        capsidd.append(0)\n",
    "    else:\n",
    "        x = x.replace(\"\\n\", \"\")\n",
    "        capsid.append(x)\n",
    "        \n",
    "f = open(\"../../../../../Data/Proteins/DENV3/Envelope/DENV3_envelope.txt\", \"r\")\n",
    "for x in f:    \n",
    "    if \"DSS\" in x:\n",
    "        enveloped.append(1)\n",
    "    elif \"DHF\" in x:\n",
    "        enveloped.append(1)\n",
    "    elif x[0] == \">\":\n",
    "        enveloped.append(0)\n",
    "    else:\n",
    "        x = x.replace(\"\\n\", \"\")\n",
    "        envelope.append(x)\n",
    "        \n",
    "f = open(\"../../../../../Data/Proteins/DENV3/NS1/DENV3_NS1.txt\", \"r\")\n",
    "for x in f:\n",
    "    if \"DSS\" in x:\n",
    "        ns1d.append(1)\n",
    "    elif \"DHF\" in x:\n",
    "        ns1d.append(1)\n",
    "    elif x[0] == \">\":\n",
    "        ns1d.append(0)\n",
    "    else:\n",
    "        x = x.replace(\"\\n\", \"\")\n",
    "        ns1.append(x)\n",
    "        \n",
    "f = open(\"../../../../../Data/Proteins/DENV3/NS2A/DENV3_NS2A.txt\", \"r\")\n",
    "for x in f:\n",
    "    if \"DSS\" in x:\n",
    "        ns2ad.append(1)\n",
    "    elif \"DHF\" in x:\n",
    "        ns2ad.append(1)\n",
    "    elif x[0] == \">\":\n",
    "        ns2ad.append(0)\n",
    "    else:\n",
    "        x = x.replace(\"\\n\", \"\")\n",
    "        ns2a.append(x)\n",
    "        \n",
    "f = open(\"../../../../../Data/Proteins/DENV3/NS2B/DENV3_NS2B.txt\", \"r\")\n",
    "for x in f:\n",
    "    if \"DSS\" in x:\n",
    "        ns2bd.append(1)\n",
    "    elif \"DHF\" in x:\n",
    "        ns2bd.append(1)\n",
    "    elif x[0] == \">\":\n",
    "        ns2bd.append(0)\n",
    "    else:\n",
    "        x = x.replace(\"\\n\", \"\")\n",
    "        ns2b.append(x)\n",
    "        \n",
    "f = open(\"../../../../../Data/Proteins/DENV3/NS3/DENV3_NS3.txt\", \"r\")\n",
    "for x in f:\n",
    "    if \"DSS\" in x:\n",
    "        ns3d.append(1)\n",
    "    elif \"DHF\" in x:\n",
    "        ns3d.append(1)\n",
    "    elif x[0] == \">\":\n",
    "        ns3d.append(0)\n",
    "    else:\n",
    "        x = x.replace(\"\\n\", \"\")\n",
    "        ns3.append(x)\n",
    "        \n",
    "f = open(\"../../../../../Data/Proteins/DENV3/NS4A/DENV3_NS4A.txt\", \"r\")\n",
    "for x in f:\n",
    "    if \"DSS\" in x:\n",
    "        ns4ad.append(1)\n",
    "    elif \"DHF\" in x:\n",
    "        ns4ad.append(1)\n",
    "    elif x[0] == \">\":\n",
    "        ns4ad.append(0)\n",
    "    else:\n",
    "        x = x.replace(\"\\n\", \"\")\n",
    "        ns4a.append(x)\n",
    "f = open(\"../../../../../Data/Proteins/DENV3/NS4B/DENV3_NS4B.txt\", \"r\")\n",
    "for x in f:\n",
    "    if \"DSS\" in x:\n",
    "        ns4bd.append(1)\n",
    "    elif \"DHF\" in x:\n",
    "        ns4bd.append(1)\n",
    "    elif x[0] == \">\":\n",
    "        ns4bd.append(0)\n",
    "    else:\n",
    "        x = x.replace(\"\\n\", \"\")\n",
    "        ns4b.append(x)\n",
    "        \n",
    "f = open(\"../../../../../Data/Proteins/DENV3/NS5/DENV3_NS5.txt\", \"r\")\n",
    "for x in f:\n",
    "    if \"DSS\" in x:\n",
    "        ns5d.append(1)\n",
    "    elif \"DHF\" in x:\n",
    "        ns5d.append(1)\n",
    "    elif x[0] == \">\":\n",
    "        ns5d.append(0)\n",
    "    else:\n",
    "        x = x.replace(\"\\n\", \"\")\n",
    "        ns5.append(x)\n",
    "        \n",
    "f = open(\"../../../../../Data/Proteins/DENV3/PrM/DENV3_Premembrane.txt\", \"r\")\n",
    "for x in f:\n",
    "    if \"DSS\" in x:\n",
    "        prmd.append(1)\n",
    "    elif \"DHF\" in x:\n",
    "        prmd.append(1)\n",
    "    elif x[0] == \">\":\n",
    "        prmd.append(0)\n",
    "    else:\n",
    "        x = x.replace(\"\\n\", \"\")\n",
    "        prm.append(x)"
   ]
  },
  {
   "cell_type": "code",
   "execution_count": 3,
   "metadata": {},
   "outputs": [
    {
     "name": "stdout",
     "output_type": "stream",
     "text": [
      "Testing successful, both the disease column and the sequence column have equal lengths.\n"
     ]
    }
   ],
   "source": [
    "# Testing if the data was imported correctly\n",
    "if len(prm) == len(prmd):\n",
    "    print(\"Testing successful, both the disease column and the sequence column have equal lengths.\")"
   ]
  },
  {
   "cell_type": "code",
   "execution_count": 4,
   "metadata": {},
   "outputs": [],
   "source": [
    "# Converting the arrays into DataFrames\n",
    "k2 = pd.DataFrame(k2)\n",
    "capsid = pd.DataFrame(capsid)\n",
    "envelope = pd.DataFrame(envelope)\n",
    "ns1 = pd.DataFrame(ns1)\n",
    "ns2a = pd.DataFrame(ns2a)\n",
    "ns2b = pd.DataFrame(ns2b)\n",
    "ns3 = pd.DataFrame(ns3)\n",
    "ns4a = pd.DataFrame(ns4a)\n",
    "ns4b = pd.DataFrame(ns4b)\n",
    "ns5 = pd.DataFrame(ns5)\n",
    "prm = pd.DataFrame(prm)\n",
    "\n",
    "# Attaching the \"Disease\" label column to the input\n",
    "k2[\"Disease\"] = k2d\n",
    "capsid[\"Disease\"] = capsidd\n",
    "envelope[\"Disease\"] = enveloped\n",
    "ns1[\"Disease\"] = ns1d\n",
    "ns2a[\"Disease\"] = ns2ad\n",
    "ns2b[\"Disease\"] = ns2bd\n",
    "ns3[\"Disease\"] = ns3d\n",
    "ns4a[\"Disease\"] = ns4ad\n",
    "ns4b[\"Disease\"] = ns4bd\n",
    "ns5[\"Disease\"] = ns5d\n",
    "prm[\"Disease\"] = prmd\n",
    "\n",
    "# Renaming the columns\n",
    "k2 = k2.rename(index=str, columns={0: \"Sequence\", \"Disease\": \"Disease\"})\n",
    "capsid = capsid.rename(index=str, columns={0: \"Sequence\", \"Disease\": \"Disease\"})\n",
    "envelope = envelope.rename(index=str, columns={0: \"Sequence\", \"Disease\": \"Disease\"})\n",
    "ns1 = ns1.rename(index=str, columns={0: \"Sequence\", \"Disease\": \"Disease\"})\n",
    "ns2a = ns2a.rename(index=str, columns={0: \"Sequence\", \"Disease\": \"Disease\"})\n",
    "ns2b = ns2b.rename(index=str, columns={0: \"Sequence\", \"Disease\": \"Disease\"})\n",
    "n3 = ns3.rename(index=str, columns={0: \"Sequence\", \"Disease\": \"Disease\"})\n",
    "ns4a = ns4a.rename(index=str, columns={0: \"Sequence\", \"Disease\": \"Disease\"})\n",
    "ns4b = ns4b.rename(index=str, columns={0: \"Sequence\", \"Disease\": \"Disease\"})\n",
    "ns5 = ns5.rename(index=str, columns={0: \"Sequence\", \"Disease\": \"Disease\"})\n",
    "prm = prm.rename(index=str, columns={0: \"Sequence\", \"Disease\": \"Disease\"})"
   ]
  },
  {
   "cell_type": "code",
   "execution_count": 5,
   "metadata": {},
   "outputs": [
    {
     "name": "stdout",
     "output_type": "stream",
     "text": [
      "The combined shape of the given data is: (5192, 3)\n",
      "The length of the combined data is: 5192\n",
      "Does the combined data have any null value? -> True\n",
      "                                              Sequence  Disease\n",
      "289                            TPQDNQLAYVVIGILTLAAIIAA        0\n",
      "184  SWPLNEGVMAVGLVSILASSLLRNDVPMAGPLVAGGLLIACYVITG...        0\n",
      "84   SIALDLVTEIGRVPTHLAHRTRNALDNLVMLHTSEHGGKAYRHAVE...        0\n",
      "217  NEMGLLETTKRDLGMSKEPGVVSPTSYLDVDLHPASAWTLYAVATT...        0\n",
      "110  MNNQRKKTGKPSINMLKRVRNRVSTGSQLAKRFSKGLLKGQGPMKL...        0\n"
     ]
    }
   ],
   "source": [
    "# Concatinating the input data into one DataFrame\n",
    "result = pd.concat([k2, capsid, envelope, ns1, ns2a, ns2b, ns3, ns4a, ns4b, ns5, prm], axis = 0, sort = False)\n",
    "print(\"The combined shape of the given data is:\", str(result.shape))\n",
    "print(\"The length of the combined data is:\", str(len(result.index)))\n",
    "print(\"Does the combined data have any null value? ->\", result.isnull().values.any())\n",
    "\n",
    "result = result.drop(columns = [0])\n",
    "result = result.dropna(how='any',axis=0) \n",
    "\n",
    "# Shuffling the data and then taking a peek\n",
    "result = result.sample(frac = 1)\n",
    "print(result.head())"
   ]
  },
  {
   "cell_type": "code",
   "execution_count": 6,
   "metadata": {},
   "outputs": [],
   "source": [
    "# Function to convert sequence strings into k-mer words, default size = 6 (hexamer words)\n",
    "def getKmers(sequence, size = 6):\n",
    "    return [sequence[x:x+size].lower() for x in range(len(sequence) - size + 1)]\n",
    "\n",
    "result['words'] = result.apply(lambda x: getKmers(x['Sequence']), axis=1)\n",
    "result = result.drop('Sequence', axis=1)\n",
    "\n",
    "result_texts = list(result['words'])\n",
    "for item in range(len(result_texts)):\n",
    "    result_texts[item] = ' '.join(result_texts[item])"
   ]
  },
  {
   "cell_type": "code",
   "execution_count": 7,
   "metadata": {},
   "outputs": [
    {
     "name": "stdout",
     "output_type": "stream",
     "text": [
      "The shape of y is: (4720,)\n"
     ]
    },
    {
     "data": {
      "text/plain": [
       "<matplotlib.axes._subplots.AxesSubplot at 0x7fa58f4d5cf8>"
      ]
     },
     "execution_count": 7,
     "metadata": {},
     "output_type": "execute_result"
    },
    {
     "data": {
      "image/png": "[encoded data removed]",
      "text/plain": [
       "<Figure size 432x288 with 1 Axes>"
      ]
     },
     "metadata": {
      "needs_background": "light"
     },
     "output_type": "display_data"
    }
   ],
   "source": [
    "# Creating y and printing the shape of it\n",
    "y = result.iloc[:, 0].values\n",
    "print(\"The shape of y is:\", y.shape)\n",
    "\n",
    "# Checking the balance of the disease severity\n",
    "result[\"Disease\"].value_counts().sort_index().plot.bar()"
   ]
  },
  {
   "cell_type": "code",
   "execution_count": 8,
   "metadata": {},
   "outputs": [
    {
     "name": "stdout",
     "output_type": "stream",
     "text": [
      "The shape of x matrix is: (4720, 9209)\n"
     ]
    }
   ],
   "source": [
    "# Creating the Bag of Words model using CountVectorizer()\n",
    "# This is equivalent to k-mer counting\n",
    "# The n-gram size of 4 was previously determined by testing\n",
    "from sklearn.feature_extraction.text import CountVectorizer\n",
    "cv = CountVectorizer(ngram_range=(4,4))\n",
    "x = cv.fit_transform(result_texts)\n",
    "\n",
    "# Print the shape of x\n",
    "print(\"The shape of x matrix is:\", x.shape)"
   ]
  },
  {
   "cell_type": "markdown",
   "metadata": {},
   "source": [
    "## Nested Cross-Validation"
   ]
  },
  {
   "cell_type": "code",
   "execution_count": 9,
   "metadata": {},
   "outputs": [],
   "source": [
    "from sklearn.model_selection import cross_val_score\n",
    "# search for an optimal value of C for Logistic Regression\n",
    "C_list = [0.1, 0.5, 1.0, 10, 100]\n",
    "# empty list to store scores\n",
    "C_scores = []"
   ]
  },
  {
   "cell_type": "code",
   "execution_count": 10,
   "metadata": {},
   "outputs": [
    {
     "name": "stderr",
     "output_type": "stream",
     "text": [
      "/home/admin/.local/lib/python3.6/site-packages/sklearn/linear_model/logistic.py:432: FutureWarning: Default solver will be changed to 'lbfgs' in 0.22. Specify a solver to silence this warning.\n",
      "  FutureWarning)\n"
     ]
    },
    {
     "name": "stdout",
     "output_type": "stream",
     "text": [
      "The score for C  = 0.1 is: 0.8067796610169491\n"
     ]
    },
    {
     "name": "stderr",
     "output_type": "stream",
     "text": [
      "/home/admin/.local/lib/python3.6/site-packages/sklearn/linear_model/logistic.py:432: FutureWarning: Default solver will be changed to 'lbfgs' in 0.22. Specify a solver to silence this warning.\n",
      "  FutureWarning)\n"
     ]
    },
    {
     "name": "stdout",
     "output_type": "stream",
     "text": [
      "The score for C  = 0.5 is: 0.8033898305084746\n"
     ]
    },
    {
     "name": "stderr",
     "output_type": "stream",
     "text": [
      "/home/admin/.local/lib/python3.6/site-packages/sklearn/linear_model/logistic.py:432: FutureWarning: Default solver will be changed to 'lbfgs' in 0.22. Specify a solver to silence this warning.\n",
      "  FutureWarning)\n"
     ]
    },
    {
     "name": "stdout",
     "output_type": "stream",
     "text": [
      "The score for C  = 1.0 is: 0.8027542372881357\n"
     ]
    },
    {
     "name": "stderr",
     "output_type": "stream",
     "text": [
      "/home/admin/.local/lib/python3.6/site-packages/sklearn/linear_model/logistic.py:432: FutureWarning: Default solver will be changed to 'lbfgs' in 0.22. Specify a solver to silence this warning.\n",
      "  FutureWarning)\n"
     ]
    },
    {
     "name": "stdout",
     "output_type": "stream",
     "text": [
      "The score for C  = 10 is: 0.8\n"
     ]
    },
    {
     "name": "stderr",
     "output_type": "stream",
     "text": [
      "/home/admin/.local/lib/python3.6/site-packages/sklearn/linear_model/logistic.py:432: FutureWarning: Default solver will be changed to 'lbfgs' in 0.22. Specify a solver to silence this warning.\n",
      "  FutureWarning)\n"
     ]
    },
    {
     "name": "stdout",
     "output_type": "stream",
     "text": [
      "The score for C  = 100 is: 0.7970338983050846\n"
     ]
    }
   ],
   "source": [
    "from sklearn.linear_model import LogisticRegression\n",
    "# 1. we will loop through reasonable values of k\n",
    "for c in C_list:\n",
    "    # 2. run LogisticRegression with C = c\n",
    "    lr = LogisticRegression(random_state = 0, C = c)\n",
    "    # 3. obtain cross_val_score for LogisticRegression with C = c\n",
    "    scores = cross_val_score(lr, x, y, cv = 10, scoring='accuracy')\n",
    "    # 4. append mean of scores for C = c to C_scores list\n",
    "    C_scores.append(scores.mean())\n",
    "    \n",
    "    print(\"The score for C  =\", c, \"is:\", scores.mean())"
   ]
  },
  {
   "cell_type": "code",
   "execution_count": 11,
   "metadata": {},
   "outputs": [
    {
     "name": "stdout",
     "output_type": "stream",
     "text": [
      "Length of list 5\n",
      "Max of list 0.8067796610169491\n"
     ]
    },
    {
     "data": {
      "text/plain": [
       "Text(0, 0.5, 'Cross-validated accuracy')"
      ]
     },
     "execution_count": 11,
     "metadata": {},
     "output_type": "execute_result"
    },
    {
     "data": {
      "image/png": "[encoded data removed]",
      "text/plain": [
       "<Figure size 432x288 with 1 Axes>"
      ]
     },
     "metadata": {
      "needs_background": "light"
     },
     "output_type": "display_data"
    }
   ],
   "source": [
    "# in essence, this is basically running the k-fold cross-validation method 30 times because\n",
    "# we want to run through K values from 1 to 30.\n",
    "# we should have 21 scores here\n",
    "print('Length of list', len(C_scores))\n",
    "print('Max of list', max(C_scores))\n",
    "\n",
    "# plot the value of K for KNN (x-axis) versus the cross-validated accuracy (y-axis)\n",
    "# plt.plot(x_axis, y_axis)\n",
    "plt.plot(C_list, C_scores)\n",
    "plt.xlabel('Value of C for Logistic Regression')\n",
    "plt.ylabel('Cross-validated accuracy')"
   ]
  },
  {
   "cell_type": "code",
   "execution_count": 12,
   "metadata": {},
   "outputs": [],
   "source": [
    "# search for an optimal value of C for Logistic Regression\n",
    "C_list2 = [0.0001, 0.001, 0.01]\n",
    "# empty list to store scores\n",
    "C_scores2 = []"
   ]
  },
  {
   "cell_type": "code",
   "execution_count": 13,
   "metadata": {},
   "outputs": [
    {
     "name": "stderr",
     "output_type": "stream",
     "text": [
      "/home/admin/.local/lib/python3.6/site-packages/sklearn/linear_model/logistic.py:432: FutureWarning: Default solver will be changed to 'lbfgs' in 0.22. Specify a solver to silence this warning.\n",
      "  FutureWarning)\n"
     ]
    },
    {
     "name": "stdout",
     "output_type": "stream",
     "text": [
      "The score for C  = 0.0001 is: 0.798728813559322\n"
     ]
    },
    {
     "name": "stderr",
     "output_type": "stream",
     "text": [
      "/home/admin/.local/lib/python3.6/site-packages/sklearn/linear_model/logistic.py:432: FutureWarning: Default solver will be changed to 'lbfgs' in 0.22. Specify a solver to silence this warning.\n",
      "  FutureWarning)\n"
     ]
    },
    {
     "name": "stdout",
     "output_type": "stream",
     "text": [
      "The score for C  = 0.001 is: 0.798728813559322\n"
     ]
    },
    {
     "name": "stderr",
     "output_type": "stream",
     "text": [
      "/home/admin/.local/lib/python3.6/site-packages/sklearn/linear_model/logistic.py:432: FutureWarning: Default solver will be changed to 'lbfgs' in 0.22. Specify a solver to silence this warning.\n",
      "  FutureWarning)\n"
     ]
    },
    {
     "name": "stdout",
     "output_type": "stream",
     "text": [
      "The score for C  = 0.01 is: 0.8036016949152541\n"
     ]
    }
   ],
   "source": [
    "# 1. we will loop through reasonable values of k\n",
    "for c in C_list2:\n",
    "    # 2. run LogisticRegression with C = c\n",
    "    lr = LogisticRegression(random_state = 0, C = c)\n",
    "    # 3. obtain cross_val_score for LogisticRegression with C = c\n",
    "    scores = cross_val_score(lr, x, y, cv = 10, scoring='accuracy')\n",
    "    # 4. append mean of scores for C = c to C_scores list\n",
    "    C_scores2.append(scores.mean())\n",
    "    \n",
    "    print(\"The score for C  =\", c, \"is:\", scores.mean())"
   ]
  },
  {
   "cell_type": "code",
   "execution_count": 15,
   "metadata": {},
   "outputs": [],
   "source": [
    "# search for an optimal value of C for Logistic Regression\n",
    "C_list3 = [0.08, 0.12]\n",
    "# empty list to store scores\n",
    "C_scores3 = []"
   ]
  },
  {
   "cell_type": "code",
   "execution_count": 16,
   "metadata": {},
   "outputs": [
    {
     "name": "stderr",
     "output_type": "stream",
     "text": [
      "/home/admin/.local/lib/python3.6/site-packages/sklearn/linear_model/logistic.py:432: FutureWarning: Default solver will be changed to 'lbfgs' in 0.22. Specify a solver to silence this warning.\n",
      "  FutureWarning)\n"
     ]
    },
    {
     "name": "stdout",
     "output_type": "stream",
     "text": [
      "The score for C  = 0.08 is: 0.8076271186440677\n"
     ]
    },
    {
     "name": "stderr",
     "output_type": "stream",
     "text": [
      "/home/admin/.local/lib/python3.6/site-packages/sklearn/linear_model/logistic.py:432: FutureWarning: Default solver will be changed to 'lbfgs' in 0.22. Specify a solver to silence this warning.\n",
      "  FutureWarning)\n"
     ]
    },
    {
     "name": "stdout",
     "output_type": "stream",
     "text": [
      "The score for C  = 0.12 is: 0.8059322033898304\n"
     ]
    }
   ],
   "source": [
    "# 1. we will loop through reasonable values of k\n",
    "for c in C_list3:\n",
    "    # 2. run LogisticRegression with C = c\n",
    "    lr = LogisticRegression(random_state = 0, C = c)\n",
    "    # 3. obtain cross_val_score for LogisticRegression with C = c\n",
    "    scores = cross_val_score(lr, x, y, cv = 10, scoring='accuracy')\n",
    "    # 4. append mean of scores for C = c to C_scores list\n",
    "    C_scores3.append(scores.mean())\n",
    "    \n",
    "    print(\"The score for C  =\", c, \"is:\", scores.mean())"
   ]
  },
  {
   "cell_type": "code",
   "execution_count": 17,
   "metadata": {},
   "outputs": [],
   "source": [
    "# search for an optimal value of C for Logistic Regression\n",
    "C_list4 = [0.06, 0.09]\n",
    "# empty list to store scores\n",
    "C_scores4 = []"
   ]
  },
  {
   "cell_type": "code",
   "execution_count": 18,
   "metadata": {},
   "outputs": [
    {
     "name": "stderr",
     "output_type": "stream",
     "text": [
      "/home/admin/.local/lib/python3.6/site-packages/sklearn/linear_model/logistic.py:432: FutureWarning: Default solver will be changed to 'lbfgs' in 0.22. Specify a solver to silence this warning.\n",
      "  FutureWarning)\n"
     ]
    },
    {
     "name": "stdout",
     "output_type": "stream",
     "text": [
      "The score for C  = 0.06 is: 0.8067796610169491\n"
     ]
    },
    {
     "name": "stderr",
     "output_type": "stream",
     "text": [
      "/home/admin/.local/lib/python3.6/site-packages/sklearn/linear_model/logistic.py:432: FutureWarning: Default solver will be changed to 'lbfgs' in 0.22. Specify a solver to silence this warning.\n",
      "  FutureWarning)\n"
     ]
    },
    {
     "name": "stdout",
     "output_type": "stream",
     "text": [
      "The score for C  = 0.09 is: 0.8072033898305084\n"
     ]
    }
   ],
   "source": [
    "# 1. we will loop through reasonable values of k\n",
    "for c in C_list4:\n",
    "    # 2. run LogisticRegression with C = c\n",
    "    lr = LogisticRegression(random_state = 0, C = c)\n",
    "    # 3. obtain cross_val_score for LogisticRegression with C = c\n",
    "    scores = cross_val_score(lr, x, y, cv = 10, scoring='accuracy')\n",
    "    # 4. append mean of scores for C = c to C_scores list\n",
    "    C_scores4.append(scores.mean())\n",
    "    \n",
    "    print(\"The score for C  =\", c, \"is:\", scores.mean())"
   ]
  }
 ],
 "metadata": {
  "kernelspec": {
   "display_name": "Python 3",
   "language": "python",
   "name": "python3"
  },
  "language_info": {
   "codemirror_mode": {
    "name": "ipython",
    "version": 3
   },
   "file_extension": ".py",
   "mimetype": "text/x-python",
   "name": "python",
   "nbconvert_exporter": "python",
   "pygments_lexer": "ipython3",
   "version": "3.6.8"
  }
 },
 "nbformat": 4,
 "nbformat_minor": 2
}
