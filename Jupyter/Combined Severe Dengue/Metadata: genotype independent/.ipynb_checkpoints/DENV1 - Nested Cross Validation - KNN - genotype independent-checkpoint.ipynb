{
 "cells": [
  {
   "cell_type": "code",
   "execution_count": 1,
   "metadata": {},
   "outputs": [],
   "source": [
    "# Importing the necessary libraries\n",
    "import pandas as pd\n",
    "import numpy as np\n",
    "import random\n",
    "import re\n",
    "import matplotlib.pyplot as plt"
   ]
  },
  {
   "cell_type": "code",
   "execution_count": 2,
   "metadata": {},
   "outputs": [
    {
     "name": "stdout",
     "output_type": "stream",
     "text": [
      "The shape of DF data is: (584, 1)\n",
      "The shape of DSS data is: (42, 1)\n",
      "The shape of DHF data is: (352, 1)\n"
     ]
    }
   ],
   "source": [
    "# Reading the input files\n",
    "df = pd.read_csv(\"../../../../Data/Sequence CSVs/DENV1_DF.csv\", header=None)\n",
    "dss = pd.read_csv(\"../../../../Data/Sequence CSVs/DENV1_DSS.csv\", header=None)\n",
    "dhf = pd.read_csv(\"../../../../Data/Sequence CSVs/DENV1_DHF.csv\", header=None)\n",
    "\n",
    "# Printing the shape of the data\n",
    "print(\"The shape of DF data is:\", str(df.shape))\n",
    "print(\"The shape of DSS data is:\", str(dss.shape))\n",
    "print(\"The shape of DHF data is:\", str(dhf.shape))"
   ]
  },
  {
   "cell_type": "code",
   "execution_count": 3,
   "metadata": {},
   "outputs": [
    {
     "name": "stdout",
     "output_type": "stream",
     "text": [
      "The combined shape of the given data is: (978, 2)\n",
      "                                              Sequence  Disease\n",
      "382  atgaacaaccaacggaaaaagacgggtcgaccgtctttcaatatgc...        0\n",
      "96   atgaacaaccaacggaaaaagacggctcgaccgtctttcaatatgc...        1\n",
      "225  atgaacaaccaacggaaaaagacggctcgaccgtctttcaatatgc...        1\n",
      "73   atgaacaaccaacgaaaaaagacggctcgaccgtctttcaatatgc...        1\n",
      "264  atgaacaaccaacggaaaaagacggctcgaccgtctttcaatatgc...        1\n"
     ]
    }
   ],
   "source": [
    "# Making the disease label column\n",
    "df_disease = np.repeat(0, 584)\n",
    "dss_disease = np.repeat(1, 42)\n",
    "dhf_disease = np.repeat(1, 352)\n",
    "\n",
    "# Attaching the \"Disease\" labeled column to the input\n",
    "df[\"Disease\"] = df_disease\n",
    "dss[\"Disease\"] = dss_disease\n",
    "dhf[\"Disease\"] = dhf_disease\n",
    "\n",
    "# Renaming the columns\n",
    "df = df.rename(index=str, columns={0: \"Sequence\", \"Disease\": \"Disease\"})\n",
    "dss = dss.rename(index=str, columns={0: \"Sequence\", \"Disease\": \"Disease\"})\n",
    "dhf = dhf.rename(index=str, columns={0: \"Sequence\", \"Disease\": \"Disease\"})\n",
    "\n",
    "# Concatinating the input data into one DataFrame and shuffling it\n",
    "result = pd.concat([df, dss, dhf], axis = 0, sort = False)\n",
    "result = result.sample(frac = 1)\n",
    "print(\"The combined shape of the given data is:\", str(result.shape))\n",
    "\n",
    "# Taking a peek at the combined data\n",
    "print(result.head())"
   ]
  },
  {
   "cell_type": "code",
   "execution_count": 4,
   "metadata": {},
   "outputs": [],
   "source": [
    "# function to convert sequence strings into k-mer words, default size = 7\n",
    "def getKmers(sequence, size = 7):\n",
    "    return [sequence[x:x+size].lower() for x in range(len(sequence) - size + 1)]\n",
    "\n",
    "result['words'] = result.apply(lambda x: getKmers(x['Sequence']), axis=1)\n",
    "result = result.drop('Sequence', axis=1)\n",
    "\n",
    "result_texts = list(result['words'])\n",
    "for item in range(len(result_texts)):\n",
    "    result_texts[item] = ' '.join(result_texts[item])"
   ]
  },
  {
   "cell_type": "code",
   "execution_count": 5,
   "metadata": {},
   "outputs": [
    {
     "name": "stdout",
     "output_type": "stream",
     "text": [
      "The shape of y is: (978,)\n"
     ]
    },
    {
     "data": {
      "text/plain": [
       "<matplotlib.axes._subplots.AxesSubplot at 0x7f1595f96dd8>"
      ]
     },
     "execution_count": 5,
     "metadata": {},
     "output_type": "execute_result"
    },
    {
     "data": {
      "image/png": "[encoded data removed]",
      "text/plain": [
       "<Figure size 432x288 with 1 Axes>"
      ]
     },
     "metadata": {
      "needs_background": "light"
     },
     "output_type": "display_data"
    }
   ],
   "source": [
    "# Creating y and printing the shape of it\n",
    "y = result.iloc[:, 0].values\n",
    "print(\"The shape of y is:\", y.shape)\n",
    "\n",
    "# Checking the balance of the disease severity\n",
    "result[\"Disease\"].value_counts().sort_index().plot.bar()"
   ]
  },
  {
   "cell_type": "code",
   "execution_count": 6,
   "metadata": {},
   "outputs": [
    {
     "name": "stdout",
     "output_type": "stream",
     "text": [
      "The shape of x matrix is: (978, 66006)\n"
     ]
    }
   ],
   "source": [
    "# Creating the Bag of Words model using CountVectorizer()\n",
    "# This is equivalent to k-mer counting\n",
    "# The n-gram size of 4 was previously determined by testing\n",
    "from sklearn.feature_extraction.text import CountVectorizer\n",
    "cv = CountVectorizer(ngram_range=(4,4))\n",
    "x = cv.fit_transform(result_texts)\n",
    "\n",
    "# Print the shape of x\n",
    "print(\"The shape of x matrix is:\", x.shape)"
   ]
  },
  {
   "cell_type": "markdown",
   "metadata": {},
   "source": [
    "## Nested Cross-Validation"
   ]
  },
  {
   "cell_type": "code",
   "execution_count": 7,
   "metadata": {},
   "outputs": [],
   "source": [
    "from sklearn.model_selection import cross_val_score\n",
    "# search for an optimal value of K for KNN\n",
    "# range of k we want to try\n",
    "k_range = range(1, 20)\n",
    "# empty list to store scores\n",
    "k_scores = []"
   ]
  },
  {
   "cell_type": "code",
   "execution_count": 8,
   "metadata": {},
   "outputs": [
    {
     "name": "stdout",
     "output_type": "stream",
     "text": [
      "The score for number of neighbours = 1 is: 0.6136832239925024\n",
      "The score for number of neighbours = 2 is: 0.6106945746121003\n",
      "The score for number of neighbours = 3 is: 0.6034780797667395\n",
      "The score for number of neighbours = 4 is: 0.6218056857232115\n",
      "The score for number of neighbours = 5 is: 0.6137665312923045\n",
      "The score for number of neighbours = 6 is: 0.6135582630427991\n",
      "The score for number of neighbours = 7 is: 0.6146308445277517\n",
      "The score for number of neighbours = 8 is: 0.6166510465479538\n",
      "The score for number of neighbours = 9 is: 0.6167551806727064\n",
      "The score for number of neighbours = 10 is: 0.6155784650630012\n",
      "The score for number of neighbours = 11 is: 0.6085910652920962\n",
      "The score for number of neighbours = 12 is: 0.6084452775174425\n",
      "The score for number of neighbours = 13 is: 0.6156409455378526\n",
      "The score for number of neighbours = 14 is: 0.6103613454128917\n",
      "The score for number of neighbours = 15 is: 0.6095178590023951\n",
      "The score for number of neighbours = 16 is: 0.607456003332292\n",
      "The score for number of neighbours = 17 is: 0.6178902426325106\n",
      "The score for number of neighbours = 18 is: 0.6044881807768405\n",
      "The score for number of neighbours = 19 is: 0.600510257211288\n"
     ]
    }
   ],
   "source": [
    "from sklearn.neighbors import KNeighborsClassifier\n",
    "# 1. we will loop through reasonable values of k\n",
    "for k in k_range:\n",
    "    # 2. run KNeighborsClassifier with k neighbours\n",
    "    knn = KNeighborsClassifier(n_neighbors = k)\n",
    "    # 3. obtain cross_val_score for KNeighborsClassifier with k neighbours\n",
    "    scores = cross_val_score(knn, x, y, cv = 10, scoring='accuracy')\n",
    "    # 4. append mean of scores for k neighbors to k_scores list\n",
    "    k_scores.append(scores.mean())\n",
    "    \n",
    "    print(\"The score for number of neighbours =\", k, \"is:\", scores.mean())"
   ]
  },
  {
   "cell_type": "code",
   "execution_count": 9,
   "metadata": {},
   "outputs": [
    {
     "name": "stdout",
     "output_type": "stream",
     "text": [
      "Length of list 19\n",
      "Max of list 0.6218056857232115\n"
     ]
    },
    {
     "data": {
      "text/plain": [
       "Text(0, 0.5, 'Cross-validated accuracy')"
      ]
     },
     "execution_count": 9,
     "metadata": {},
     "output_type": "execute_result"
    },
    {
     "data": {
      "image/png": "[encoded data removed]",
      "text/plain": [
       "<Figure size 432x288 with 1 Axes>"
      ]
     },
     "metadata": {
      "needs_background": "light"
     },
     "output_type": "display_data"
    }
   ],
   "source": [
    "# in essence, this is basically running the k-fold cross-validation method 30 times because\n",
    "# we want to run through K values from 1 to 30.\n",
    "# we should have 21 scores here\n",
    "print('Length of list', len(k_scores))\n",
    "print('Max of list', max(k_scores))\n",
    "\n",
    "# plot the value of K for KNN (x-axis) versus the cross-validated accuracy (y-axis)\n",
    "# plt.plot(x_axis, y_axis)\n",
    "plt.plot(k_range, k_scores)\n",
    "plt.xlabel('Value of K for KNN')\n",
    "plt.ylabel('Cross-validated accuracy')"
   ]
  }
 ],
 "metadata": {
  "kernelspec": {
   "display_name": "Python 3",
   "language": "python",
   "name": "python3"
  },
  "language_info": {
   "codemirror_mode": {
    "name": "ipython",
    "version": 3
   },
   "file_extension": ".py",
   "mimetype": "text/x-python",
   "name": "python",
   "nbconvert_exporter": "python",
   "pygments_lexer": "ipython3",
   "version": "3.7.3"
  }
 },
 "nbformat": 4,
 "nbformat_minor": 2
}
